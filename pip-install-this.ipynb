{
 "cells": [
  {
   "cell_type": "markdown",
   "metadata": {},
   "source": [
    "# pip install this\n",
    "## 0 to PyPI in 60 minutes\n",
    "### Introduction\n",
    "It's a great time to be a developer! Great languages, great tools, great documentation, and it's all so easy to get to!\n",
    "\n",
    "Python is an opinionated language. I'm an opinionated developer. This is fine, as long as it is understood.\n",
    "\n",
    "I prefer Python 3. This talk is in python 3. That's all I have to say about that\n",
    "\n",
    "Holy wars are fought over dogma, not philosophy. So, start with [The Zen of Python]( https://www.python.org/dev/peps/pep-0020/)\n",
    "\n",
    "Syntax checking is great! Takes the thinking out of code formatting. So, I like to use vanilla pep8 via out-of-the-box [flake8](https://pypi.python.org/pypi/flake8)\n",
    "\n",
    "Python is generally distributed in packages on [PyPI](https://pypi.python.org/pypi)\n",
    "\n",
    "There is a lot of philosophy and discussion about packaging. We're not going to go into this here, but it is interesting! Instead, this talk is intended to be a pragmatic guide to getting your code published.\n",
    "\n",
    "https://glyph.twistedmatrix.com/2016/08/python-packaging.html\n",
    "https://pythonrants.wordpress.com/2013/12/06/why-i-hate-virtualenv-and-pip/\n",
    "\n",
    "I've focused on simple and easy tools and procedures. Some of the things I talk about will be personal best practices. I'll call these out with _italics_. Your mileage may vary, and I understand and hope you have your own set of best-practices or preferences. I'm happy to talk about them later.\n",
    "\n",
    "### Starting from not quite 0\n",
    "At comScore, we use Hipchat for team communication. I wanted to see critical errors in my team's hipchat channel (I'm lead dev...I get to decide that =P)\n",
    "\n",
    "No plugins available, so let's roll our own using the very cool [Hipchat API](https://www.hipchat.com/docs/apiv2)\n",
    "\n",
    "Basic package structure should look something like this:\n",
    "```\n",
    "    <project dir>/  # Name doesn't actually matter\n",
    "        |\n",
    "        |--> setup.py      # Info needed to build your package\n",
    "        |--> <module dir> # Will be the name you import\n",
    "                |\n",
    "                |--> __init__.py  # Can be empty, or can be code. _Don't put metadata in this_\n",
    "                |--> <module>.py  # Things you want to import *from* your package \n",
    "                |--> exec/        # _Where I (beginning very recently) prefer to put executables\n",
    "                        |\n",
    "                        |--> <executable>.py\n",
    "```"
   ]
  },
  {
   "cell_type": "code",
   "execution_count": 1,
   "metadata": {
    "collapsed": true
   },
   "outputs": [],
   "source": [
    "import os"
   ]
  },
  {
   "cell_type": "code",
   "execution_count": 2,
   "metadata": {
    "collapsed": true
   },
   "outputs": [],
   "source": [
    "import sh  # _This package is sooo cool. Check it out: https://amoffat.github.io/sh/"
   ]
  },
  {
   "cell_type": "code",
   "execution_count": 3,
   "metadata": {
    "collapsed": false
   },
   "outputs": [],
   "source": [
    "os.makedirs('../hippy-chat/hippy_chat')  # package will be importable as hippy_chat"
   ]
  },
  {
   "cell_type": "code",
   "execution_count": 4,
   "metadata": {
    "collapsed": false
   },
   "outputs": [
    {
     "name": "stdout",
     "output_type": "stream",
     "text": [
      "import arrow\n",
      "import buzz\n",
      "import json\n",
      "import logging\n",
      "import requests\n",
      "import textwrap\n",
      "import urllib\n",
      "\n",
      "\n",
      "class HipchatHandler(logging.Handler):\n",
      "    \"\"\"\n",
      "    This module provides a logging handler that sends notifications to a\n",
      "    hipchat room. The notifications will appear as expandable 'cards'\n",
      "    with relevant data.\n",
      "\n",
      "    .. todo:: Add sentry support for the card urls\n",
      "    \"\"\"\n",
      "\n",
      "    def __init__(\n",
      "        self, url, room, token, *args,\n",
      "        title='event occured in application',\n",
      "        **kwargs\n",
      "    ):\n",
      "        \"\"\"\n",
      "        Initializes the handler\n",
      "\n",
      "        :param: url:   The base URL to the hipchat server\n",
      "        :param: room:  The name of the room in which to make the notification\n",
      "        :param: token: The auth token for the room\n",
      "        :param: title: An optional title to include in the notification\n",
      "        \"\"\"\n",
      "        self.url = '{url}/v2/room/{room}/notification'.format(\n",
      "            url=url,\n",
      "            room=urllib.parse.quote(room),\n",
      "        )\n",
      "        self.headers = {\n",
      "            \"Content-Type\": \"application/json\",\n",
      "            \"Authorization\": \"Bearer {}\".format(token),\n",
      "        }\n",
      "        self.title = title\n",
      "        super().__init__(*args, **kwargs)\n",
      "\n",
      "    def _make_payload(self, record):\n",
      "        \"\"\"\n",
      "        Creates a payload for the room notification\n",
      "        \"\"\"\n",
      "        html_title = '<b>{}</b> {}'.format(record.levelname, self.title)\n",
      "\n",
      "        # Note: the description has to be 500 characters or less. Othewise\n",
      "        #       hipchat will bounce the message\n",
      "        description = textwrap.shorten(\n",
      "            self.format(record),\n",
      "            width=500,\n",
      "            placeholder='...',\n",
      "        )\n",
      "\n",
      "        return json.dumps({\n",
      "            \"color\": \"red\",\n",
      "            \"notify\": True,\n",
      "            \"message_format\": \"html\",\n",
      "            \"message\": html_title,\n",
      "            \"card\": {\n",
      "                \"id\": str(arrow.get().timestamp),\n",
      "                \"style\": \"application\",\n",
      "                \"format\": \"medium\",\n",
      "                \"title\": '{} {}'.format(record.levelname, self.title),\n",
      "                \"description\": description,\n",
      "                \"url\": 'https://some.sentry.server.someday',\n",
      "                \"activity\": {\"html\": html_title},\n",
      "            },\n",
      "        })\n",
      "\n",
      "    def emit(self, record):\n",
      "        \"\"\"\n",
      "        Sends a notification to the hipchat room when a message is logged to\n",
      "        the handler\n",
      "        \"\"\"\n",
      "        response = requests.post(\n",
      "            self.url, headers=self.headers, data=self._make_payload(record),\n",
      "        )\n",
      "        buzz.Buzz.require_condition(response.text != '', response.text)\n",
      "\n"
     ]
    }
   ],
   "source": [
    "with open('handler.py') as source_file:\n",
    "    print(source_file.read())"
   ]
  },
  {
   "cell_type": "code",
   "execution_count": 5,
   "metadata": {
    "collapsed": false
   },
   "outputs": [
    {
     "data": {
      "text/plain": []
     },
     "execution_count": 5,
     "metadata": {},
     "output_type": "execute_result"
    }
   ],
   "source": [
    "sh.cp('handler.py', '../hippy-chat/hippy_chat')"
   ]
  },
  {
   "cell_type": "code",
   "execution_count": 6,
   "metadata": {
    "collapsed": false
   },
   "outputs": [
    {
     "name": "stdout",
     "output_type": "stream",
     "text": [
      "import click\n",
      "\n",
      "import hippy_chat.handler\n",
      "\n",
      "\n",
      "@click.command()\n",
      "@click.option('-c', '--config-file', help=\"the file containing hipchat deets\")\n",
      "@click.option(\n",
      "    '-l', '--log-level',\n",
      "    default='ERROR',\n",
      "    type=click.Choice(['DEBUG', 'INFO', 'WARNING', 'ERROR', 'CRITICAL'])\n",
      "    help=\"select the level of messges that should be logged to the room\",\n",
      ")\n",
      "@click.option(\n",
      "    '-i', '--message-interval',\n",
      "    default=5,\n",
      "    type=int,\n",
      "    help=\"How often to message the room\",\n",
      ")\n",
      "def main(config_file, log_level):\n",
      "\n",
      "    log_level = getattr(logging, log_level)\n",
      "\n",
      "    logger = logging.getLogger(__name__)\n",
      "    logger.setLevel(logging.INFO)\n",
      "\n",
      "    with open(os.path.expanduser('~/.hipchat.json')) as config_file:\n",
      "        config = json.load(config_file)\n",
      "\n",
      "    url = config['default_url']\n",
      "    room = config['urls'][url]['default_room']\n",
      "    token = config['urls'][url][room]['token']\n",
      "\n",
      "    formatter = logging.Formatter(textwrap.dedent(\"\"\"\n",
      "        Severity: %(levelname)s\n",
      "        Module:   %(module)s [%(pathname)s:%(lineno)d]\n",
      "        Message: '%(message)s\n",
      "    \"\"\"))\n",
      "\n",
      "    hipchat_handler = hippy_chat.handler.HipchatHandler(url, room, token)\n",
      "    hipchat_handler.setLevel(log_level)\n",
      "    hipchat_handler.setFormatter(formatter)\n",
      "\n",
      "    logger.debug(\"This message should never appear in hipchat\")\n",
      "    logger.info(\"INFO level message\")\n",
      "    logger.warning(\"WARNING level message\")\n",
      "    logger.error(\"ERROR level message\")\n",
      "    logger.critical(\"CRITICAL level message\")\n",
      "\n",
      "    while True:\n",
      "        logger.log(log_level, \"The time is {}\".format(arrow.get()))\n",
      "        sleep(5)\n",
      "\n",
      "\n",
      "if __name__ == '__main__':\n",
      "    main()\n",
      "\n"
     ]
    }
   ],
   "source": [
    "with open('demo.py') as demo_file:\n",
    "    print(demo_file.read())"
   ]
  },
  {
   "cell_type": "code",
   "execution_count": 8,
   "metadata": {
    "collapsed": false
   },
   "outputs": [],
   "source": [
    "os.makedirs('../hippy-chat/hippy_chat/exec')"
   ]
  },
  {
   "cell_type": "code",
   "execution_count": 9,
   "metadata": {
    "collapsed": false
   },
   "outputs": [
    {
     "data": {
      "text/plain": []
     },
     "execution_count": 9,
     "metadata": {},
     "output_type": "execute_result"
    }
   ],
   "source": [
    "sh.cp('demo.py', '../hippy-chat/hippy_chat/exec/demo.py')"
   ]
  },
  {
   "cell_type": "code",
   "execution_count": null,
   "metadata": {
    "collapsed": true
   },
   "outputs": [],
   "source": []
  }
 ],
 "metadata": {
  "kernelspec": {
   "display_name": "Python 3",
   "language": "python",
   "name": "python3"
  },
  "language_info": {
   "codemirror_mode": {
    "name": "ipython",
    "version": 3
   },
   "file_extension": ".py",
   "mimetype": "text/x-python",
   "name": "python",
   "nbconvert_exporter": "python",
   "pygments_lexer": "ipython3",
   "version": "3.5.1"
  }
 },
 "nbformat": 4,
 "nbformat_minor": 2
}
