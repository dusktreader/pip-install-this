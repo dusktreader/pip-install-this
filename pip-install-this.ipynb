{
 "cells": [
  {
   "cell_type": "markdown",
   "metadata": {
    "slideshow": {
     "slide_type": "slide"
    }
   },
   "source": [
    "# pip install this\n",
    "0 to PyPI in 60 minutes"
   ]
  },
  {
   "cell_type": "code",
   "execution_count": 1,
   "metadata": {
    "collapsed": false,
    "slideshow": {
     "slide_type": "subslide"
    }
   },
   "outputs": [],
   "source": [
    "! ./cleanup.sh\n",
    "\n",
    "import os\n",
    "os.chdir('hippy-chat-stuff')"
   ]
  },
  {
   "cell_type": "markdown",
   "metadata": {
    "slideshow": {
     "slide_type": "slide"
    }
   },
   "source": [
    "## Introduction\n",
    "It's a great time to be a developer! There are so many great languages, lots of cool emerging tools, tons of documentation, and it's all so easy to get!\n",
    "\n",
    "The open-source community is really flourishing in the Python universe. But, getting your software published can seem like a very daunting task to new developers (and even veterans that haven't published before).\n",
    "\n",
    "Lot of tools are emerging that make publishing your software easier with a lot less 'fiddling'. Removing the barrier of tedium should encourage more diversity (in all senses of the word) in our code ecosystem and developer community\n",
    "\n"
   ]
  },
  {
   "cell_type": "markdown",
   "metadata": {
    "slideshow": {
     "slide_type": "slide"
    }
   },
   "source": [
    "## About this talk\n",
    "There's a lot of material to cover here, and the material is discussion worthy.\n",
    "\n",
    "However, to get through everything I have prepared here, I have to ask for questions to be held until the end.\n",
    "\n",
    "That being said, I look forward to discussing details, personal experiences, and individual perspectives when we get to the end of the talk."
   ]
  },
  {
   "cell_type": "markdown",
   "metadata": {
    "slideshow": {
     "slide_type": "slide"
    }
   },
   "source": [
    "### Disclaimers\n",
    "Python is an opinionated language. I'm an opinionated developer. This is fine, as long as it is understood.\n",
    "\n",
    "I prefer Python 3. This talk is in python 3. That's all I have to say about that\n",
    "\n",
    "Holy wars are fought over dogma, not philosophy. So, start with [The Zen of Python]( https://www.python.org/dev/peps/pep-0020/) and then try to find community accepted best-practices from there. \n",
    "\n",
    "Sometimes, it's better to accept a convention you don't personally like for the sake of consistency and accessibility.\n",
    "\n"
   ]
  },
  {
   "cell_type": "markdown",
   "metadata": {
    "slideshow": {
     "slide_type": "slide"
    }
   },
   "source": [
    "### Other Thoughts\n",
    "Syntax checking is great! It takes the thinking out of code formatting. So, I like to use vanilla pep8 via out-of-the-box [flake8](https://pypi.python.org/pypi/flake8)\n",
    "\n",
    "There is a lot of philosophy and discussion about packaging. Python software is most commonly distributed in packages on [PyPI](https://pypi.python.org/pypi), but there are alternative packagers, repositories, and schools of thought. We're not going to go into this here, but it is interesting! Instead, this talk is intended to be a pragmatic guide to getting your code published.\n",
    "\n",
    "I've focused on simple and easy tools and procedures. Some of the things I talk about will be personal best practices. I'll call these out with _italics_. Your mileage may vary, and I understand and hope you have your own set of best-practices or preferences. I'm happy to talk about them later."
   ]
  },
  {
   "cell_type": "markdown",
   "metadata": {},
   "source": [
    "## Stuff to talk about if I have enough time\n",
    "* pip vs easy_install\n",
    "* conda. Supposed to be really good...haven't tried it yet"
   ]
  },
  {
   "cell_type": "markdown",
   "metadata": {
    "slideshow": {
     "slide_type": "slide"
    }
   },
   "source": [
    "\n",
    "## Starting from not quite 0\n",
    "At comScore, we use Hipchat for team communication. I wanted to see critical errors in my team's hipchat channel (I'm lead dev...I get to decide that =P)\n",
    "\n",
    "There weren't any extensions for python logging that do this yet, so I rolled my own using the very cool [Hipchat API](https://www.hipchat.com/docs/apiv2)\n",
    "\n",
    "Since it's a useful tool, and there is nothing proprietary in it, I think it would be a good thing to get out into the Python OSS community.\n",
    "\n",
    "So, in this talk, we're going to publish this logging handler as an independent python package\n"
   ]
  },
  {
   "cell_type": "markdown",
   "metadata": {
    "slideshow": {
     "slide_type": "slide"
    }
   },
   "source": [
    "## The basic python package\n",
    "\n",
    "There are, again, a lot of opinions about best-practices in structuring python packages. What I'm presenting here is a combination of best-practices, easy and convenient methodologies, and my peferred packages.\n",
    "\n",
    "The package structure for our package we're building today is as follows:\n",
    "```\n",
    "hippy-chat/\n",
    "|--> setup.py\n",
    "|--> MANIEST.in\n",
    "|--> CHANGELOG.rst\n",
    "|--> README.rst\n",
    "|--> .project_metadata.json\n",
    "|--> .hipchat.json\n",
    "|--> hippy_chat\n",
    "     |--> __init__.py\n",
    "     |--> handler.py\n",
    "     |--> exec/\n",
    "          |--> demo.py\n",
    "```"
   ]
  },
  {
   "cell_type": "markdown",
   "metadata": {
    "slideshow": {
     "slide_type": "notes"
    }
   },
   "source": [
    "* setup.py provides info to both install **and** build your package\n",
    "* Name of the root directory doesn't actually matter\n",
    "* Don't put metadata in the base \\__init\\__.py\n",
    "* Only recently started putting executables in exec/\n",
    "* I'll talk about .project_metadata.json later. This is a _personal peference_\n",
    "* I use ReStructuredText for my documents, because it's what sphinx uses. _I also like it better than markdown_"
   ]
  },
  {
   "cell_type": "markdown",
   "metadata": {},
   "source": [
    "## Support files"
   ]
  },
  {
   "cell_type": "markdown",
   "metadata": {
    "slideshow": {
     "slide_type": "slide"
    }
   },
   "source": [
    "### The setup.py file for the project\n",
    "Some things to note:\n",
    "* I use the setup method from setuptools instead of distutils\n",
    "* But, _I like to install with pip even locally_\n",
    "* So, none of this stuff is tested using ```$ python setup.py install```\n",
    "* I've used a lot of variations of setup.py structure, and this is the layout I've arrived at.\n",
    "* I promise you I'm not done trying new things!"
   ]
  },
  {
   "cell_type": "code",
   "execution_count": 2,
   "metadata": {
    "collapsed": false,
    "scrolled": true,
    "slideshow": {
     "slide_type": "subslide"
    }
   },
   "outputs": [
    {
     "name": "stdout",
     "output_type": "stream",
     "text": [
      "import json\r\n",
      "import setuptools\r\n",
      "\r\n",
      "\r\n",
      "with open('.project_metadata.json') as meta_file:\r\n",
      "    project_metadata = json.loads(meta_file.read())\r\n",
      "\r\n",
      "\r\n",
      "setuptools.setup(\r\n",
      "    name=project_metadata['name'],\r\n",
      "    version=project_metadata['release'],\r\n",
      "    author=project_metadata['author'],\r\n",
      "    author_email=project_metadata['author_email'],\r\n",
      "    description=project_metadata['description'],\r\n",
      "    license=project_metadata['license'],\r\n",
      "    install_requires=[\r\n",
      "        'arrow',\r\n",
      "        'click',\r\n",
      "        'py-buzz',\r\n",
      "        'requests',\r\n",
      "    ],\r\n",
      "    extras_require={\r\n",
      "        'dev': [\r\n",
      "            'flake8',\r\n",
      "            'pytest',\r\n",
      "            'pytest-capturelog',\r\n",
      "        ],\r\n",
      "    },\r\n",
      "    include_package_data=True,\r\n",
      "    packages=setuptools.find_packages(),\r\n",
      "    entry_points={\r\n",
      "        'console_scripts': [\r\n",
      "            'hippy-chat-demo = hippy_chat.exec.demo:main',\r\n",
      "        ],\r\n",
      "    },\r\n",
      ")\r\n"
     ]
    }
   ],
   "source": [
    "! cat setup.py"
   ]
  },
  {
   "cell_type": "markdown",
   "metadata": {
    "slideshow": {
     "slide_type": "subslide"
    }
   },
   "source": [
    "#### Why .project_metadata.json ???\n",
    "```\n",
    "    version=project_metadata['release'],\n",
    "```\n",
    "There's [lots and lots of discussion](https://www.google.com/search?q=python+best+practices+project+metadata) about how to include meta-data (especially version data) in your project. There doesn't seem to be a universally accepted best practice, so I came up with my own.\n",
    "\n",
    "Keeing project metadata in the root project folder this way has some advantages:\n",
    "* json. Everything can parse json.\n",
    "* dynamic. I can change metadata (like version number) in one place\n",
    "* other stuff can easily find it. Like sphinx, for instance (we'll see this later)"
   ]
  },
  {
   "cell_type": "markdown",
   "metadata": {
    "slideshow": {
     "slide_type": "subslide"
    }
   },
   "source": [
    "#### Why extras_require?\n",
    "```\n",
    "    extras_require={\n",
    "        'dev': [\n",
    "            'flake8',\n",
    "            'pytest',\n",
    "            'pytest-capturelog',\n",
    "        ],\n",
    "    },\n",
    "```\n",
    "Using the extras_require directive lets you have differing requirements for different roles. Basic installs shouldn't install dependencies that are only needed for dev, testing, document generation, etc.\n",
    "\n",
    "To install using a different role, you can do it like this:\n",
    "```\n",
    "$ pip install <package>[dev]\n",
    "```\n",
    "\n",
    "\n"
   ]
  },
  {
   "cell_type": "markdown",
   "metadata": {
    "slideshow": {
     "slide_type": "subslide"
    }
   },
   "source": [
    "#### Why include_package_data?\n",
    "```\n",
    "    include_package_data=True,\n",
    "```\n",
    "\n",
    "You'll need to include this to also install stuff like .project_metadata.json or any other files not a part of your source tree. These will need to be specified in MANIFEST.in.\n",
    "\n",
    "**Note**: If you're reading through examples and/or the distutils/setuptools specification, you might find (and be rather tempted by) ```data_files=...```. I have not found this to work consistently between distutils, setuptools, and pip."
   ]
  },
  {
   "cell_type": "markdown",
   "metadata": {
    "slideshow": {
     "slide_type": "subslide"
    }
   },
   "source": [
    "#### Why find_packages?\n",
    "Because it's smart and really easy. Otherwise, you have to list your main package, and all sub-packages therein:\n",
    "```\n",
    "    packages=['a', 'a.a', 'a.a.a', 'a.b', 'a.b.a']\n",
    "```\n",
    "If you add additional sub-packages, you will have to remember to add them here. Of course, you won't notice until you publish to PyPI and try to pip install your package next time...\n"
   ]
  },
  {
   "cell_type": "markdown",
   "metadata": {
    "slideshow": {
     "slide_type": "subslide"
    }
   },
   "source": [
    "#### Why entry_points?\n",
    "I only started doing this recently.\n",
    "\n",
    "Previously, I kept all my executables in ```<root>/bin/``` and added a ```scripts=glob.blog('bin/*')```. This works ok, but there are a few things that make it frustrating\n",
    "* No (good) way to import the scripts for unit testing\n",
    "* Don't forget to add your shebang!\n",
    "* Make sure your shebang calls out the right python version\n",
    "* Make sure that your executables have the executable flag set\n",
    "* Probably shouldn't name them with an extension (as is usual in unix for executable files)\n",
    "* Not cross-platform"
   ]
  },
  {
   "cell_type": "markdown",
   "metadata": {
    "slideshow": {
     "slide_type": "subslide"
    }
   },
   "source": [
    "Using entry points gives you a lot of magic that takes care of those things (for the most part). Pip will create the executable in a platform specific way at install time, rename it, and make sure that it references the right python interpreter. Further, since the executables are part of the package itself, you can easily unit test them. Finally, a single module can have multiple entry points that are all split out into their own executables!\n",
    "\n",
    "It should also be noted that this pattern works really well with click."
   ]
  },
  {
   "cell_type": "markdown",
   "metadata": {
    "slideshow": {
     "slide_type": "subslide"
    }
   },
   "source": [
    "### The CHANGELOG.rst file\n",
    "Changelogs are an important way for users to track what has changed between releases. This way, they can peruse major differences and decide if upgrading is worth the risk to their software. There is some really great discussion about this topic provided at [keepachagnelog.com](http://keepachangelog.com/en/0.3.0/). After reading through, I became a believer."
   ]
  },
  {
   "cell_type": "markdown",
   "metadata": {
    "slideshow": {
     "slide_type": "subslide"
    }
   },
   "source": [
    "### The MANIFEST.in file\n",
    "As stated above, this is the most consistent way to make sure that extra files are installed with your project. The file structure is pretty much dead simple. Just list exactly the extra files that you want to include"
   ]
  },
  {
   "cell_type": "code",
   "execution_count": 3,
   "metadata": {
    "collapsed": false,
    "slideshow": {
     "slide_type": "fragment"
    }
   },
   "outputs": [
    {
     "name": "stdout",
     "output_type": "stream",
     "text": [
      "include .project_metadata.json\r\n"
     ]
    }
   ],
   "source": [
    "! cat MANIFEST.in"
   ]
  },
  {
   "cell_type": "markdown",
   "metadata": {
    "slideshow": {
     "slide_type": "subslide"
    }
   },
   "source": [
    "### The README.rst file\n",
    "You really should have a README immediately. Notice no italics? This isn't an opinion. It's pretty important. Your README doesn't have to be really verbose. It also probably shouldn't be the difinitive documentation for your project (you should build those with sphinx...but more on that later). However, the README should be a touchstone for people who want to use your package. At a minimum it should include\n",
    "* A summary, no matter how terse, of what your project is for and what it does\n",
    "* Basic requirements. **Especially** which versions of python it supports\n",
    "* An explanation of how to get an environment set up for development and testing"
   ]
  },
  {
   "cell_type": "code",
   "execution_count": 4,
   "metadata": {
    "collapsed": false,
    "slideshow": {
     "slide_type": "subslide"
    }
   },
   "outputs": [
    {
     "name": "stdout",
     "output_type": "stream",
     "text": [
      "************\r\n",
      " hippy-chat\r\n",
      "************\r\n",
      "\r\n",
      "----------------------------------\r\n",
      "Hipchat logging handler for python\r\n",
      "----------------------------------\r\n",
      "\r\n",
      "This package provides a logging handler that can send messages to a hipchat\r\n",
      "room in the form of notifications.\r\n",
      "\r\n",
      "Requirements\r\n",
      "============\r\n",
      "\r\n",
      " - Python 3\r\n",
      "\r\n",
      "Installing\r\n",
      "==========\r\n",
      "Install using pip::\r\n",
      "\r\n",
      "$ pip install hippy-chat\r\n",
      "\r\n",
      "Using\r\n",
      "=====\r\n",
      "Setup the handler with the needed credentials for the hipchat server's api that\r\n",
      "you will be sending messages to:\r\n",
      "\r\n",
      ".. code-block:: python\r\n",
      "\r\n",
      "   from hippy_chat.handler import HipchatHandler\r\n",
      "\r\n",
      "   handler = HipchatHandler(\r\n",
      "       'https://some_hipchat_server', 'some-room', 'SOME_HIPCHAT_API_TOKEN',\r\n",
      "   )\r\n",
      "   logger.addHandler(handler)\r\n",
      "\r\n",
      "Contributing\r\n",
      "============\r\n",
      "\r\n",
      "In order to get your environment set up for development, it is recommended to\r\n",
      "use virtualenv and pip to install dev dependencies::\r\n",
      "\r\n",
      "    $ virtualenv --python=python3 env\r\n",
      "    $ source env/bin/activate\r\n",
      "    $ pip install -e .[dev]\r\n"
     ]
    }
   ],
   "source": [
    "! cat README.rst"
   ]
  },
  {
   "cell_type": "markdown",
   "metadata": {
    "slideshow": {
     "slide_type": "subslide"
    }
   },
   "source": [
    "### The .project_metadata.json file\n",
    "As I explained above, this is a personal best-practice. However you do it, though, you should try to keep your project metadata together in one and only one place. This is especially important for project versions. You don't want to confuse your user when they see one version on your documentation and another on the package they download from PyPI. Using a single metadata file like this can help with these sorts of problems"
   ]
  },
  {
   "cell_type": "code",
   "execution_count": 5,
   "metadata": {
    "collapsed": false,
    "slideshow": {
     "slide_type": "fragment"
    }
   },
   "outputs": [
    {
     "name": "stdout",
     "output_type": "stream",
     "text": [
      "{\r\n",
      "    \"author\": \"Tucker Beck\",\r\n",
      "    \"author_email\": \"tucker.beck@gmail.com\",\r\n",
      "    \"copyright\": \"2017, Tucker Beck\",\r\n",
      "    \"description\": \"Log messages to a hipchat room\",\r\n",
      "    \"license\": \"MIT\",\r\n",
      "    \"name\": \"hippy-chat\",\r\n",
      "    \"release\": \"0.1.0\",\r\n",
      "    \"version\": \"0.1\"\r\n",
      "}\r\n"
     ]
    }
   ],
   "source": [
    "! cat .project_metadata.json"
   ]
  },
  {
   "cell_type": "code",
   "execution_count": 6,
   "metadata": {
    "collapsed": false,
    "scrolled": true,
    "slideshow": {
     "slide_type": "subslide"
    }
   },
   "outputs": [],
   "source": [
    "root_dir = os.path.normpath('../../hippy-chat')\n",
    "! mkdir $root_dir\n",
    "for filename in [\n",
    "    'setup.py', 'README.rst', 'MANIFEST.in', 'CHANGELOG.rst',\n",
    "    '.project_metadata.json', '.hipchat.json',\n",
    "]:\n",
    "    ! cp $filename $root_dir"
   ]
  },
  {
   "cell_type": "markdown",
   "metadata": {
    "slideshow": {
     "slide_type": "slide"
    }
   },
   "source": [
    "## Source Code\n",
    "There are a few best practices with how source code should be laid out:\n",
    "\n",
    "* All source should go in a directory in the project root\n",
    "* This directory should be in lower **snake_case**, and should be some derivation of your package name\n",
    "* You should try to pick something unique enough that it won't collide with other packages \n",
    "* This directory name will be the importable name of your package\n",
    "  \n",
    "There are, of course, a lot of others. But these are the basics\n",
    "  "
   ]
  },
  {
   "cell_type": "markdown",
   "metadata": {
    "slideshow": {
     "slide_type": "slide"
    }
   },
   "source": [
    "### The hippy_chat handler module\n",
    "This is the source for our chat handler. A few things to note:\n",
    "* [arrow](http://crsmithdev.com/arrow/) is a really nice datetime replacement. _I recommend using this or [pendulum](https://github.com/sdispater/pendulum) for **all** cases where you work with datetimes_\n",
    "* [py-buzz](https://github.com/dusktreader/py-buzz) is one of my packages that provides some nice add-ons to python exceptions\n",
    "* [requests](http://docs.python-requests.org/en/master/) is an awesome package for working with apis. It's dead simple to use.\n",
    "\n",
    "Also worth noting: This is a logging handler for normal python logging. This is what our project started using a long time ago. Python logging is pretty cool, but _it is not as cool as it could or should be. These days, I try to use [logbook](https://github.com/getlogbook/logbook) wherever possible_. However, logbook is not a drop-in replacement, so our project will probably stick with vanilla logging for now...or maybe forever"
   ]
  },
  {
   "cell_type": "code",
   "execution_count": 7,
   "metadata": {
    "collapsed": false,
    "scrolled": true,
    "slideshow": {
     "slide_type": "subslide"
    }
   },
   "outputs": [
    {
     "name": "stdout",
     "output_type": "stream",
     "text": [
      "import arrow\r\n",
      "import buzz\r\n",
      "import json\r\n",
      "import logging\r\n",
      "import requests\r\n",
      "import textwrap\r\n",
      "import urllib\r\n",
      "\r\n",
      "\r\n",
      "HIPCHAT_DEFAULT_TITLE = 'event occured in application'\r\n",
      "\r\n",
      "\r\n",
      "class HipchatHandler(logging.Handler):\r\n",
      "    \"\"\"\r\n",
      "    This module provides a logging handler that sends notifications to a\r\n",
      "    hipchat room. The notifications will appear as expandable 'cards'\r\n",
      "    with relevant data.\r\n",
      "\r\n",
      "    .. todo:: Add sentry support for the card urls\r\n",
      "    \"\"\"\r\n",
      "\r\n",
      "    def __init__(\r\n",
      "            self, url, room, token, title=HIPCHAT_DEFAULT_TITLE,\r\n",
      "            *args, **kwargs\r\n",
      "    ):\r\n",
      "        \"\"\"\r\n",
      "        Initializes the handler\r\n",
      "\r\n",
      "        :param: url:   The base URL to the hipchat server\r\n",
      "        :param: room:  The name of the room in which to make the notification\r\n",
      "        :param: token: The auth token for the room\r\n",
      "        :param: title: An optional title to include in the notification\r\n",
      "        \"\"\"\r\n",
      "\r\n",
      "        self.url = '{url}/v2/room/{room}/notification'.format(\r\n",
      "            url=url,\r\n",
      "            room=urllib.parse.quote(room),\r\n",
      "        )\r\n",
      "        self.headers = {\r\n",
      "            \"Content-Type\": \"application/json\",\r\n",
      "            \"Authorization\": \"Bearer {}\".format(token),\r\n",
      "        }\r\n",
      "        self.title = title\r\n",
      "        super().__init__(*args, **kwargs)\r\n",
      "\r\n",
      "    def _make_payload(self, record):\r\n",
      "        \"\"\"\r\n",
      "        Creates a payload for the room notification\r\n",
      "        \"\"\"\r\n",
      "        html_title = '<b>{}</b> {}'.format(record.levelname, self.title)\r\n",
      "\r\n",
      "        # Note: the description has to be 500 characters or less. Othewise\r\n",
      "        #       hipchat will bounce the message\r\n",
      "        description = textwrap.shorten(\r\n",
      "            self.format(record),\r\n",
      "            width=500,\r\n",
      "            placeholder='...',\r\n",
      "        )\r\n",
      "\r\n",
      "        return json.dumps({\r\n",
      "            \"color\": \"red\",\r\n",
      "            \"notify\": True,\r\n",
      "            \"message_format\": \"html\",\r\n",
      "            \"message\": html_title,\r\n",
      "            \"card\": {\r\n",
      "                \"id\": str(arrow.get().timestamp),\r\n",
      "                \"style\": \"application\",\r\n",
      "                \"format\": \"medium\",\r\n",
      "                \"title\": '{} {}'.format(record.levelname, self.title),\r\n",
      "                \"description\": description,\r\n",
      "                \"url\": 'https://some.sentry.server.someday',\r\n",
      "                \"activity\": {\"html\": html_title},\r\n",
      "            },\r\n",
      "        })\r\n",
      "\r\n",
      "    def emit(self, record):\r\n",
      "        \"\"\"\r\n",
      "        Sends a notification to the hipchat room when a message is logged to\r\n",
      "        the handler\r\n",
      "        \"\"\"\r\n",
      "        response = requests.post(\r\n",
      "            self.url, headers=self.headers, data=self._make_payload(record),\r\n",
      "        )\r\n",
      "        buzz.Buzz.require_condition(\r\n",
      "            response is not None and response.status_code in (200, 204),\r\n",
      "            \"hipchat api did not accept the post: {}\",\r\n",
      "            str(response),\r\n",
      "        )\r\n"
     ]
    }
   ],
   "source": [
    "! cat handler.py"
   ]
  },
  {
   "cell_type": "code",
   "execution_count": 8,
   "metadata": {
    "collapsed": false,
    "slideshow": {
     "slide_type": "subslide"
    }
   },
   "outputs": [],
   "source": [
    "source_dir = os.path.join(root_dir, 'hippy_chat')\n",
    "! mkdir $source_dir\n",
    "! cp handler.py $source_dir"
   ]
  },
  {
   "cell_type": "markdown",
   "metadata": {
    "slideshow": {
     "slide_type": "subslide"
    }
   },
   "source": [
    "We will also need to add an empty __init__.py module. This tells Python that this directory contains a package and, potentially, subpackages. Python won't be able to find the 'handlers' module without this"
   ]
  },
  {
   "cell_type": "code",
   "execution_count": 9,
   "metadata": {
    "collapsed": true
   },
   "outputs": [],
   "source": [
    "! touch $source_dir/__init__.py"
   ]
  },
  {
   "cell_type": "markdown",
   "metadata": {
    "slideshow": {
     "slide_type": "slide"
    }
   },
   "source": [
    "## Test Code\n",
    "There are a few different python testing frameworks out there.\n",
    "\n",
    "The unittest package is a part of the python standard library, and it offers a lot of features out of the box. However, I don't recommend it for a few reasons:\n",
    "* Test discovery is painful\n",
    "* Using the special assert methods requires a lot of lookup time that could be spent writing tests\n",
    "* Everything **has** to be done in test classes and heirarchies thereof\n",
    "* No pluggable extensions\n",
    "\n",
    "For a long time, [nose](http://nose.readthedocs.io/en/latest/) addressed a lot of those concerns. However, nose is no longer under active development, and, its replacement, [nose2](https://github.com/nose-devs/nose2) is still in 'beta' (pre 1.0 release) and is not progressing very rapidly. Additionally, _nose introduces some of its own quirks that can be annoying_."
   ]
  },
  {
   "cell_type": "markdown",
   "metadata": {
    "slideshow": {
     "slide_type": "slide"
    }
   },
   "source": [
    "I find that [pytest](http://doc.pytest.org/en/latest/) is a great testing framework that allows you to get testing very rapidly and yet hass enough features to support basically anything you want to do. There are a lot of useful pytest plugins out there as well to fill in missing functionality.\n",
    "\n",
    "The pytest framework _can_ use test class heirarchies, but they are optional. Most setup in pytest is done via fixtures, which can be incredibly powerful (if somewhat confusing at times)\n",
    "\n",
    "Project wide and directory wide configuration is available via `conftest.py` files, but we won't need any for hippy-chat, and you may not need them for your project"
   ]
  },
  {
   "cell_type": "markdown",
   "metadata": {
    "slideshow": {
     "slide_type": "slide"
    }
   },
   "source": [
    "Tests can either be\n",
    "* interleaved with your source code\n",
    "* put in a sub-module of your source module\n",
    "* put in their own directory\n",
    "\n",
    "The most common practice, and my preferred approach, is to put the tests in their own directory immediately below the root of your project. This makes them very easy to target with your command line and also lowers the risk of accidental imports."
   ]
  },
  {
   "cell_type": "markdown",
   "metadata": {
    "slideshow": {
     "slide_type": "slide"
    }
   },
   "source": [
    "### The test_handler.py test module\n",
    "This module contains the unit tests for the hippy_chat.handler module. This example is pretty spartan, but there should be enough here to show some pytest features.\n"
   ]
  },
  {
   "cell_type": "code",
   "execution_count": 10,
   "metadata": {
    "collapsed": false,
    "slideshow": {
     "slide_type": "subslide"
    }
   },
   "outputs": [
    {
     "name": "stdout",
     "output_type": "stream",
     "text": [
      "import collections\r\n",
      "import json\r\n",
      "import logging\r\n",
      "import pytest\r\n",
      "import requests\r\n",
      "\r\n",
      "from hippy_chat.handler import HipchatHandler, HIPCHAT_DEFAULT_TITLE\r\n",
      "\r\n",
      "\r\n",
      "class TestHipchatHandler:\r\n",
      "\r\n",
      "    @pytest.fixture(autouse=True)\r\n",
      "    def setup(self):\r\n",
      "        \"\"\"\r\n",
      "        Sets up the logger for the tests in this class. Is automatically\r\n",
      "        invoked before each test function is called\r\n",
      "        \"\"\"\r\n",
      "        self.logger = logging.getLogger('TestHipchatLogger')\r\n",
      "        self.logger.setLevel(logging.DEBUG)\r\n",
      "\r\n",
      "    @pytest.yield_fixture\r\n",
      "    def dummy_handler(self):\r\n",
      "        \"\"\"\r\n",
      "        Provides a dummy instance of a HipchatHandler\r\n",
      "        \"\"\"\r\n",
      "        dummy_url = 'https://some.fake.server.hipchat.com'\r\n",
      "        dummy_room_name = 'some-room'\r\n",
      "        dummy_token = 'SOME_TOKEN'\r\n",
      "\r\n",
      "        dummy_handler = HipchatHandler(dummy_url, dummy_room_name, dummy_token)\r\n",
      "        self.logger.addHandler(dummy_handler)\r\n",
      "        yield dummy_handler\r\n",
      "        self.logger.removeHandler(dummy_handler)\r\n",
      "\r\n",
      "    def test___init__(self, dummy_handler):\r\n",
      "        \"\"\"\r\n",
      "        This test verifies that a HipchatHandler instance can be initialized\r\n",
      "        and that its url, headers, and title are properly set up based on the\r\n",
      "        init params\r\n",
      "\r\n",
      "        .. todo::\r\n",
      "            check url formatting of weird room names\r\n",
      "        \"\"\"\r\n",
      "        assert dummy_handler.url == (\r\n",
      "            'https://some.fake.server.hipchat.com'\r\n",
      "            '/v2/room/some-room/notification'\r\n",
      "        )\r\n",
      "        assert dummy_handler.headers == {\r\n",
      "            'Content-Type': 'application/json',\r\n",
      "            'Authorization': 'Bearer SOME_TOKEN',\r\n",
      "        }\r\n",
      "        assert dummy_handler.title == HIPCHAT_DEFAULT_TITLE\r\n",
      "\r\n",
      "    def test__make_payload(self, dummy_handler):\r\n",
      "        \"\"\"\r\n",
      "        This test verifies that the data payload for the request that is sent\r\n",
      "        to the hipchat API is properly constructed and encoded\r\n",
      "\r\n",
      "        .. todo::\r\n",
      "            * test long (>500 char) messages\r\n",
      "            * test timestamp id\r\n",
      "        \"\"\"\r\n",
      "        pass\r\n",
      "\r\n",
      "    def test_integration(self, monkeypatch, dummy_handler):\r\n",
      "        \"\"\"\r\n",
      "        This test verifies that the HipchatHandler integrates correctly with\r\n",
      "        the logging module and that a request is posted to the hipchat api\r\n",
      "        when a logging message at or above the level that the handler is\r\n",
      "        initialized with\r\n",
      "        \"\"\"\r\n",
      "        results = []\r\n",
      "\r\n",
      "        def mock_post(url, headers=[], data={}):\r\n",
      "            Result = collections.namedtuple('Result', ['status_code'])\r\n",
      "            results.append(data)\r\n",
      "            return Result(status_code=204)\r\n",
      "\r\n",
      "        monkeypatch.setattr(requests, 'post', mock_post)\r\n",
      "\r\n",
      "        self.logger.error(\"test error message\")\r\n",
      "        assert len(results) == 1\r\n",
      "        result_data = results.pop()\r\n",
      "\r\n",
      "        computed_data = json.loads(result_data)\r\n",
      "        assert computed_data['color'] == 'red'\r\n",
      "        assert computed_data['notify']\r\n",
      "        assert computed_data['message'] == '<b>ERROR</b> {}'.format(\r\n",
      "            HIPCHAT_DEFAULT_TITLE,\r\n",
      "        )\r\n"
     ]
    }
   ],
   "source": [
    "! cat test_handler.py"
   ]
  },
  {
   "cell_type": "code",
   "execution_count": 11,
   "metadata": {
    "collapsed": false,
    "slideshow": {
     "slide_type": "subslide"
    }
   },
   "outputs": [],
   "source": [
    "test_dir = os.path.join(root_dir, 'tests')\n",
    "! mkdir $test_dir\n",
    "! cp test_handler.py $test_dir"
   ]
  },
  {
   "cell_type": "markdown",
   "metadata": {
    "slideshow": {
     "slide_type": "slide"
    }
   },
   "source": [
    "Invoking pytest against our project is incredibly simple. You simply need to call it and target the test directory. You can target specific tests, test directories, or tests matching a specific pattern.\n",
    "\n",
    "We'll invoke tests in a bit after we are done setting up the package"
   ]
  },
  {
   "cell_type": "markdown",
   "metadata": {
    "slideshow": {
     "slide_type": "slide"
    }
   },
   "source": [
    "## Executables\n",
    "Executable code should be as compact as possible. It's good practice to make your entry-points as concise as possible and have most logic within your python modules. Ideally, an executable does little more than parse a command line, call into a function, and then possibly produce output\n",
    "\n",
    "I use [click](https://github.com/pallets/click) for command line processing. _This is a matter of personal preference_. However, you should **never do your own command line processing**. Even for really simple stuff, I reccommend using a command line parser. [argparse](https://docs.python.org/3/library/argparse.html) (and its predecessor, [optparse](https://docs.python.org/2/library/optparse.html)) is built into the language and provides a full-featured command-line parser."
   ]
  },
  {
   "cell_type": "markdown",
   "metadata": {
    "slideshow": {
     "slide_type": "slide"
    }
   },
   "source": [
    "### The demo.py executable file\n",
    "This module will just be used to show a demonstration of the logging handler in action. It parses some basic command line options and does some logging to show the handler working"
   ]
  },
  {
   "cell_type": "code",
   "execution_count": 12,
   "metadata": {
    "collapsed": false,
    "scrolled": true,
    "slideshow": {
     "slide_type": "subslide"
    }
   },
   "outputs": [
    {
     "name": "stdout",
     "output_type": "stream",
     "text": [
      "import arrow\r\n",
      "import click\r\n",
      "import json\r\n",
      "import logging\r\n",
      "import os\r\n",
      "import time\r\n",
      "import hippy_chat.handler\r\n",
      "\r\n",
      "\r\n",
      "@click.command()\r\n",
      "@click.option(\r\n",
      "    '-c', '--config-file',\r\n",
      "    default='.hipchat.json',\r\n",
      "    help=\"the file containing hipchat deets\",\r\n",
      ")\r\n",
      "@click.option(\r\n",
      "    '-l', '--log-level',\r\n",
      "    default='ERROR',\r\n",
      "    type=click.Choice(['DEBUG', 'INFO', 'WARNING', 'ERROR', 'CRITICAL']),\r\n",
      "    help=\"select the level of messges that should be logged to the room\",\r\n",
      ")\r\n",
      "@click.option(\r\n",
      "    '-i', '--message-interval',\r\n",
      "    default=5,\r\n",
      "    type=int,\r\n",
      "    help=\"How often to message the room\",\r\n",
      ")\r\n",
      "def main(config_file, log_level, message_interval):\r\n",
      "\r\n",
      "    log_level = getattr(logging, log_level)\r\n",
      "\r\n",
      "    logger = logging.getLogger(__name__)\r\n",
      "    logger.setLevel(logging.INFO)\r\n",
      "\r\n",
      "    with open(os.path.expanduser('.hipchat.json')) as config_file:\r\n",
      "        config = json.load(config_file)\r\n",
      "    hipchat_handler = hippy_chat.handler.HipchatHandler(**config)\r\n",
      "    hipchat_handler.setLevel(log_level)\r\n",
      "\r\n",
      "    logger.addHandler(hipchat_handler)\r\n",
      "\r\n",
      "    logger.debug(\"DEBUG level message\")\r\n",
      "    logger.info(\"INFO level message\")\r\n",
      "    logger.warning(\"WARNING level message\")\r\n",
      "    logger.error(\"ERROR level message\")\r\n",
      "    logger.critical(\"CRITICAL level message\")\r\n",
      "\r\n",
      "    for i in range(5):\r\n",
      "        logger.log(log_level, \"The time is {}\".format(arrow.get()))\r\n",
      "        time.sleep(message_interval)\r\n",
      "\r\n",
      "\r\n",
      "if __name__ == '__main__':\r\n",
      "    main()\r\n"
     ]
    }
   ],
   "source": [
    "! cat demo.py"
   ]
  },
  {
   "cell_type": "code",
   "execution_count": 13,
   "metadata": {
    "collapsed": false,
    "slideshow": {
     "slide_type": "subslide"
    }
   },
   "outputs": [],
   "source": [
    "exec_dir = os.path.join(source_dir, 'exec')\n",
    "! mkdir $exec_dir\n",
    "! cp demo.py $exec_dir\n",
    "! touch $exec_dir/__init__.py"
   ]
  },
  {
   "cell_type": "markdown",
   "metadata": {
    "slideshow": {
     "slide_type": "slide"
    }
   },
   "source": [
    "## Working within a virtual environment\n",
    "Python's virtual environments are just too nice to _not_ use. They are really simple to set up, and provide a good way to isolate your environment as you develop. Using virtual environments has the following benefits:\n",
    "* Improve repeatability in package setup\n",
    "* Easy _removal_ of your installed package\n",
    "* Provide custom configuration to your package without breaking anything else\n",
    "* Use whatever version of python interpreter you want"
   ]
  },
  {
   "cell_type": "markdown",
   "metadata": {
    "slideshow": {
     "slide_type": "slide"
    }
   },
   "source": [
    "### Setting up the virtual environment\n",
    "Note that I'm making the wild assumption that you have [virtualenv](https://virtualenv.pypa.io/en/stable/) set up. If not, the setup is pretty easy. That does, however, depend on your os\n",
    "\n",
    "Creating and activating the virtualenv is pretty easy:"
   ]
  },
  {
   "cell_type": "code",
   "execution_count": 14,
   "metadata": {
    "collapsed": false,
    "slideshow": {
     "slide_type": "subslide"
    }
   },
   "outputs": [
    {
     "name": "stdout",
     "output_type": "stream",
     "text": [
      "Running virtualenv with interpreter /Users/tbeck/.virtualenvs/pip-install-this/bin/python3\n",
      "Using real prefix '/usr/local/Cellar/python3/3.5.1/Frameworks/Python.framework/Versions/3.5'\n",
      "New python executable in /Users/tbeck/work/hippy-chat/env/bin/python3\n",
      "Also creating executable in /Users/tbeck/work/hippy-chat/env/bin/python\n",
      "Installing setuptools, pip, wheel...done.\n"
     ]
    }
   ],
   "source": [
    "os.chdir(root_dir)\n",
    "\n",
    "! virtualenv --python=python3 env\n",
    "! source env/bin/activate"
   ]
  },
  {
   "cell_type": "markdown",
   "metadata": {
    "slideshow": {
     "slide_type": "subslide"
    }
   },
   "source": [
    "Now invoking python (or a script that invokes python via a shebang line) in the active virtual environment will be working in its own encapsulated environment. This also means that any packages that are installed via pip will be localized to this virtual environment"
   ]
  },
  {
   "cell_type": "markdown",
   "metadata": {
    "slideshow": {
     "slide_type": "slide"
    }
   },
   "source": [
    "## Installing the new package in 'edit' mode\n",
    "While you are actively developing a project, it is very convenient to have it installed inside of your active virtual environment in 'editable' mode. Pip offers this feature so that you can modify a source code and see the changes reflected the next time you invoke python or a python script without having to re-install the package. Trust me, you want to use this feature when you are working on your package\n",
    "\n",
    "Here we will invoke the install command against the pwd with the 'dev' modifier. This will install all of the normal package dependencies but will also install the dependencies from the 'dev' section of 'extras_require' in our setup.py:"
   ]
  },
  {
   "cell_type": "code",
   "execution_count": 15,
   "metadata": {
    "collapsed": false,
    "slideshow": {
     "slide_type": "subslide"
    }
   },
   "outputs": [
    {
     "name": "stdout",
     "output_type": "stream",
     "text": [
      "Obtaining file:///Users/tbeck/work/hippy-chat\n",
      "Requirement already satisfied: arrow in /Users/tbeck/.virtualenvs/pip-install-this/lib/python3.5/site-packages (from hippy-chat==0.1.0)\n",
      "Requirement already satisfied: click in /Users/tbeck/.virtualenvs/pip-install-this/lib/python3.5/site-packages (from hippy-chat==0.1.0)\n",
      "Requirement already satisfied: py-buzz in /Users/tbeck/.virtualenvs/pip-install-this/lib/python3.5/site-packages (from hippy-chat==0.1.0)\n",
      "Requirement already satisfied: requests in /Users/tbeck/.virtualenvs/pip-install-this/lib/python3.5/site-packages (from hippy-chat==0.1.0)\n",
      "Requirement already satisfied: flake8 in /Users/tbeck/.virtualenvs/pip-install-this/lib/python3.5/site-packages (from hippy-chat==0.1.0)\n",
      "Requirement already satisfied: pytest in /Users/tbeck/.virtualenvs/pip-install-this/lib/python3.5/site-packages (from hippy-chat==0.1.0)\n",
      "Requirement already satisfied: pytest-capturelog in /Users/tbeck/.virtualenvs/pip-install-this/lib/python3.5/site-packages (from hippy-chat==0.1.0)\n",
      "Requirement already satisfied: python-dateutil in /Users/tbeck/.virtualenvs/pip-install-this/lib/python3.5/site-packages (from arrow->hippy-chat==0.1.0)\n",
      "Requirement already satisfied: pyflakes!=1.2.0,!=1.2.1,!=1.2.2,<1.4.0,>=0.8.1 in /Users/tbeck/.virtualenvs/pip-install-this/lib/python3.5/site-packages (from flake8->hippy-chat==0.1.0)\n",
      "Requirement already satisfied: pycodestyle<2.3.0,>=2.0.0 in /Users/tbeck/.virtualenvs/pip-install-this/lib/python3.5/site-packages (from flake8->hippy-chat==0.1.0)\n",
      "Requirement already satisfied: mccabe<0.6.0,>=0.5.0 in /Users/tbeck/.virtualenvs/pip-install-this/lib/python3.5/site-packages (from flake8->hippy-chat==0.1.0)\n",
      "Requirement already satisfied: py>=1.4.29 in /Users/tbeck/.virtualenvs/pip-install-this/lib/python3.5/site-packages (from pytest->hippy-chat==0.1.0)\n",
      "Requirement already satisfied: setuptools in /Users/tbeck/.virtualenvs/pip-install-this/lib/python3.5/site-packages (from pytest->hippy-chat==0.1.0)\n",
      "Requirement already satisfied: six>=1.5 in /Users/tbeck/.virtualenvs/pip-install-this/lib/python3.5/site-packages (from python-dateutil->arrow->hippy-chat==0.1.0)\n",
      "Requirement already satisfied: appdirs>=1.4.0 in /Users/tbeck/.virtualenvs/pip-install-this/lib/python3.5/site-packages (from setuptools->pytest->hippy-chat==0.1.0)\n",
      "Requirement already satisfied: packaging>=16.8 in /Users/tbeck/.virtualenvs/pip-install-this/lib/python3.5/site-packages (from setuptools->pytest->hippy-chat==0.1.0)\n",
      "Requirement already satisfied: pyparsing in /Users/tbeck/.virtualenvs/pip-install-this/lib/python3.5/site-packages (from packaging>=16.8->setuptools->pytest->hippy-chat==0.1.0)\n",
      "Installing collected packages: hippy-chat\n",
      "  Found existing installation: hippy-chat 0.1.0\n",
      "    Uninstalling hippy-chat-0.1.0:\n",
      "      Successfully uninstalled hippy-chat-0.1.0\n",
      "  Running setup.py develop for hippy-chat\n",
      "Successfully installed hippy-chat\n"
     ]
    }
   ],
   "source": [
    "! pip install -e .[dev]"
   ]
  },
  {
   "cell_type": "markdown",
   "metadata": {
    "slideshow": {
     "slide_type": "subslide"
    }
   },
   "source": [
    "Now our environment has all of our dependencies installed in adition to the hippy-chat package that we are building"
   ]
  },
  {
   "cell_type": "markdown",
   "metadata": {},
   "source": [
    "## Invoking the test suite\n",
    "\n",
    "The pytest framework has a whole slew of options that you can specify on the command line. Two options I find most useful are the --maxfail and --verbose options\n",
    "\n",
    "I generally invoke pytest against my entire test suite using the `--maxfail=1` option. This tells pytest to stop immediately upon the first test failure. This is useful for larger projects where you want to see a problem right away when a test fails. You usually won't set this if you are, for instance, running your test suite as a deployment step or any time you want a report of all failing tests\n",
    "\n",
    "You can also increase the verbosity of failure messages by passing `--verbose` flags. The flags are additive, so two verbose flags will show even more verbose output.\n",
    "\n",
    "Note: As of this writing, I discovered some weirdness with python interpreter and py.test vs pytest"
   ]
  },
  {
   "cell_type": "code",
   "execution_count": 16,
   "metadata": {
    "collapsed": false
   },
   "outputs": [
    {
     "name": "stdout",
     "output_type": "stream",
     "text": [
      "\u001b[1m============================= test session starts ==============================\u001b[0m\n",
      "platform darwin -- Python 3.5.1, pytest-3.0.6, py-1.4.32, pluggy-0.4.0 -- /Users/tbeck/.virtualenvs/pip-install-this/bin/python3.5\n",
      "cachedir: .cache\n",
      "rootdir: /Users/tbeck/work/hippy-chat, inifile: \n",
      "plugins: capturelog-0.7\n",
      "collected 3 items \u001b[0m\u001b[1m\n",
      "\u001b[0m\n",
      "tests/test_handler.py::TestHipchatHandler::test___init__ \u001b[32mPASSED\u001b[0m\n",
      "tests/test_handler.py::TestHipchatHandler::test__make_payload \u001b[32mPASSED\u001b[0m\n",
      "tests/test_handler.py::TestHipchatHandler::test_integration \u001b[32mPASSED\u001b[0m\n",
      "\n",
      "============================ pytest-warning summary ============================\n",
      "WI1 /Users/tbeck/.virtualenvs/pip-install-this/lib/python3.5/site-packages/pytest_capturelog.py:171 'pytest_runtest_makereport' hook uses deprecated __multicall__ argument\n",
      "WC1 None pytest_funcarg__caplog: declaring fixtures using \"pytest_funcarg__\" prefix is deprecated and scheduled to be removed in pytest 4.0.  Please remove the prefix and use the @pytest.fixture decorator instead.\n",
      "WC1 None pytest_funcarg__capturelog: declaring fixtures using \"pytest_funcarg__\" prefix is deprecated and scheduled to be removed in pytest 4.0.  Please remove the prefix and use the @pytest.fixture decorator instead.\n",
      "\u001b[1m\u001b[33m================= 3 passed, 3 pytest-warnings in 0.14 seconds ==================\u001b[0m\n"
     ]
    }
   ],
   "source": [
    "! py.test --maxfail=1 --verbose tests/"
   ]
  },
  {
   "cell_type": "markdown",
   "metadata": {},
   "source": [
    "## Trying out the demo\n",
    "Now that everything is setup, we should be able to try out the demo. Note, that it is installed into our editable virtualenv, and is invokable by its installed name: 'hippy-chat-demo'\n",
    "\n",
    "We'll watch for the results in [a hipchat room I set up for this talk](https://pip-install-this.hipchat.com/chat)"
   ]
  },
  {
   "cell_type": "code",
   "execution_count": 17,
   "metadata": {
    "collapsed": false
   },
   "outputs": [],
   "source": [
    "! hippy-chat-demo --log-level WARNING --message-interval=2"
   ]
  }
 ],
 "metadata": {
  "celltoolbar": "Slideshow",
  "kernelspec": {
   "display_name": "Python 3",
   "language": "python",
   "name": "python3"
  },
  "language_info": {
   "codemirror_mode": {
    "name": "ipython",
    "version": 3
   },
   "file_extension": ".py",
   "mimetype": "text/x-python",
   "name": "python",
   "nbconvert_exporter": "python",
   "pygments_lexer": "ipython3",
   "version": "3.5.1"
  }
 },
 "nbformat": 4,
 "nbformat_minor": 2
}
