{
 "cells": [
  {
   "cell_type": "markdown",
   "metadata": {
    "slideshow": {
     "slide_type": "slide"
    }
   },
   "source": [
    "# pip install this\n",
    "0 to PyPI in 60 minutes"
   ]
  },
  {
   "cell_type": "code",
   "execution_count": 1,
   "metadata": {
    "collapsed": false,
    "slideshow": {
     "slide_type": "slide"
    }
   },
   "outputs": [],
   "source": [
    "import os\n",
    "start_dir = os.path.expanduser('~/work/pip-install-this')\n",
    "os.chdir(start_dir)\n",
    "\n",
    "! ./cleanup.sh\n",
    "\n",
    "stuff_dir = os.path.join(start_dir, 'hippy-chat-stuff')\n",
    "os.chdir(stuff_dir)"
   ]
  },
  {
   "cell_type": "markdown",
   "metadata": {
    "slideshow": {
     "slide_type": "slide"
    }
   },
   "source": [
    "## Assumptions\n",
    "For this talk, I'm going to assume the following are available:\n",
    "* Python3\n",
    "* git"
   ]
  },
  {
   "cell_type": "markdown",
   "metadata": {
    "slideshow": {
     "slide_type": "slide"
    }
   },
   "source": [
    "## Introduction\n",
    "It's a great time to be a developer! There are so many great languages, lots of cool emerging tools, tons of documentation, and it's all so easy to get!\n",
    "\n",
    "The open-source community is really flourishing in the Python universe. But, getting your software published can seem like a very daunting task to new developers (and even veterans that haven't published before).\n",
    "\n",
    "Lot of tools are emerging that make publishing your software easier with a lot less 'fiddling'. Removing the barrier of tedium should encourage more diversity (in all senses of the word) in our code ecosystem and developer community\n",
    "\n"
   ]
  },
  {
   "cell_type": "markdown",
   "metadata": {
    "slideshow": {
     "slide_type": "slide"
    }
   },
   "source": [
    "## About this talk\n",
    "There's a lot of material to cover here, and the material is discussion worthy.\n",
    "\n",
    "However, to get through everything I have prepared here, I have to ask for questions to be held until the end.\n",
    "\n",
    "That being said, I look forward to discussing details, personal experiences, and individual perspectives when we get to the end of the talk.\n",
    "\n",
    "So, buckle up, and get ready to drink from the firehose!"
   ]
  },
  {
   "cell_type": "markdown",
   "metadata": {
    "slideshow": {
     "slide_type": "slide"
    }
   },
   "source": [
    "## Disclaimers\n",
    "Python is an opinionated language. I'm an opinionated developer. This is fine, as long as it is understood.\n",
    "\n",
    "I prefer Python 3. This talk is in python 3. That's all I have to say about that\n",
    "\n",
    "Holy wars are fought over dogma, not philosophy. So, start with [The Zen of Python]( https://www.python.org/dev/peps/pep-0020/) and then try to find community accepted best-practices from there. \n",
    "\n",
    "Sometimes, it's better to accept a convention you don't personally like for the sake of consistency and accessibility.\n",
    "\n"
   ]
  },
  {
   "cell_type": "markdown",
   "metadata": {
    "slideshow": {
     "slide_type": "slide"
    }
   },
   "source": [
    "## Other Thoughts\n",
    "There is a lot of philosophy and discussion about packaging. Python software is most commonly distributed in packages on [PyPI](https://pypi.python.org/pypi), but there are alternative packagers, repositories, and schools of thought. We're not going to go into this here, but it is interesting! Instead, this talk is intended to be a pragmatic guide to getting your code published.\n",
    "\n",
    "I've focused on simple and easy tools and procedures. Some of the things I talk about will be personal best practices. I'll call these out with _italics_. Your mileage may vary, and I understand and hope you have your own set of best-practices or preferences. I'm happy to talk about them later."
   ]
  },
  {
   "cell_type": "markdown",
   "metadata": {
    "slideshow": {
     "slide_type": "slide"
    }
   },
   "source": [
    "## What we're going to cover\n",
    "* Basic python package\n",
    "* Simple but thorough setup.py\n",
    "* Rapid test suite creation\n",
    "* Easy code style checking\n",
    "* Quick documentation creation\n",
    "* Fundamental github repo creation\n",
    "* Automatic documentation page generation \n",
    "* Painless continous-integration tools\n",
    "* Automatic publishing"
   ]
  },
  {
   "cell_type": "markdown",
   "metadata": {
    "slideshow": {
     "slide_type": "slide"
    }
   },
   "source": [
    "## Stuff I'd love to talk about, but ran out of time\n",
    "* pip vs easy_install\n",
    "* conda. Supposed to be really good...haven't tried it yet\n",
    "* Where's my requirements.txt file?"
   ]
  },
  {
   "cell_type": "markdown",
   "metadata": {
    "slideshow": {
     "slide_type": "slide"
    }
   },
   "source": [
    "\n",
    "## Starting from not quite 0\n",
    "At comScore, we use Hipchat for team communication. I wanted to see critical errors in my team's hipchat channel (I'm lead dev...I get to decide that =P)\n",
    "\n",
    "There weren't any extensions for python logging that do this yet, so I rolled my own using the very cool [Hipchat API](https://www.hipchat.com/docs/apiv2)\n",
    "\n",
    "Since it's a useful tool, and there is nothing proprietary in it, I think it would be a good thing to get out into the Python OSS community.\n",
    "\n",
    "So, in this talk, we're going to publish this logging handler as an independent python package\n"
   ]
  },
  {
   "cell_type": "markdown",
   "metadata": {
    "slideshow": {
     "slide_type": "slide"
    }
   },
   "source": [
    "## The basic python package\n",
    "\n",
    "There are, again, a lot of opinions about best-practices in structuring python packages. What I'm presenting here is a combination of best-practices, easy and convenient methodologies, and my peferred packages.\n",
    "\n",
    "The package structure for our package we're building today is as follows:\n",
    "```\n",
    "hippy-chat/\n",
    "|--> setup.py\n",
    "|--> MANIEST.in\n",
    "|--> LICENSE.rst\n",
    "|--> CHANGELOG.rst\n",
    "|--> README.rst\n",
    "|--> .project_metadata.json\n",
    "|--> .hipchat.json\n",
    "|--> hippy_chat\n",
    "     |--> __init__.py\n",
    "     |--> handler.py\n",
    "     |--> exec/\n",
    "          |--> demo.py\n",
    "```"
   ]
  },
  {
   "cell_type": "code",
   "execution_count": 2,
   "metadata": {
    "collapsed": false
   },
   "outputs": [],
   "source": [
    "root_dir = os.path.expanduser('~/work/hippy-chat')\n",
    "! mkdir $root_dir"
   ]
  },
  {
   "cell_type": "markdown",
   "metadata": {
    "slideshow": {
     "slide_type": "slide"
    }
   },
   "source": [
    "Some notes about setup.py:\n",
    "\n",
    "* setup.py provides info to both install **and** build your package\n",
    "* Name of the root directory doesn't actually matter\n",
    "* Don't put metadata in the base \\__init\\__.py\n",
    "* Only recently started putting executables in exec/\n",
    "* I'll talk about .project_metadata.json later. This is a _personal peference_\n",
    "* I use ReStructuredText for my documents, because it's what sphinx uses. _I also like it better than markdown_"
   ]
  },
  {
   "cell_type": "markdown",
   "metadata": {
    "slideshow": {
     "slide_type": "slide"
    }
   },
   "source": [
    "## Support files"
   ]
  },
  {
   "cell_type": "markdown",
   "metadata": {
    "slideshow": {
     "slide_type": "slide"
    }
   },
   "source": [
    "### The setup.py file for the project\n",
    "Some things to note:\n",
    "* I use the setup method from setuptools instead of distutils\n",
    "* But, _I like to install with pip even locally_\n",
    "* So, none of this stuff is tested using ```$ python setup.py install```\n",
    "* I've used a lot of variations of setup.py structure, and this is the layout I've arrived at.\n",
    "* I promise you I'm not done trying new things!"
   ]
  },
  {
   "cell_type": "code",
   "execution_count": 3,
   "metadata": {
    "collapsed": false,
    "scrolled": true,
    "slideshow": {
     "slide_type": "slide"
    }
   },
   "outputs": [
    {
     "name": "stdout",
     "output_type": "stream",
     "text": [
      "import json\r\n",
      "import setuptools\r\n",
      "\r\n",
      "\r\n",
      "with open('.project_metadata.json') as meta_file:\r\n",
      "    project_metadata = json.loads(meta_file.read())\r\n",
      "\r\n",
      "\r\n",
      "setuptools.setup(\r\n",
      "    name=project_metadata['name'],\r\n",
      "    version=project_metadata['release'],\r\n",
      "    author=project_metadata['author'],\r\n",
      "    author_email=project_metadata['author_email'],\r\n",
      "    description=project_metadata['description'],\r\n",
      "    license=project_metadata['license'],\r\n",
      "    install_requires=[\r\n",
      "        'arrow',\r\n",
      "        'click',\r\n",
      "        'py-buzz',\r\n",
      "        'requests',\r\n",
      "    ],\r\n",
      "    extras_require={\r\n",
      "        'dev': [\r\n",
      "            'flake8',\r\n",
      "            'pytest',\r\n",
      "            'pytest-capturelog',\r\n",
      "            'sphinx',\r\n",
      "        ],\r\n",
      "    },\r\n",
      "    include_package_data=True,\r\n",
      "    packages=setuptools.find_packages(),\r\n",
      "    entry_points={\r\n",
      "        'console_scripts': [\r\n",
      "            'hippy-chat-demo = hippy_chat.exec.demo:main',\r\n",
      "        ],\r\n",
      "    },\r\n",
      ")\r\n"
     ]
    }
   ],
   "source": [
    "! cp $stuff_dir/setup.py $root_dir/ \n",
    "! cat $root_dir/setup.py"
   ]
  },
  {
   "cell_type": "markdown",
   "metadata": {
    "slideshow": {
     "slide_type": "slide"
    }
   },
   "source": [
    "#### Why .project_metadata.json ???\n",
    "```\n",
    "    version=project_metadata['release'],\n",
    "```\n",
    "There's [lots and lots of discussion](https://www.google.com/search?q=python+best+practices+project+metadata) about how to include meta-data (especially version data) in your project. There doesn't seem to be a universally accepted best practice, so I came up with my own.\n",
    "\n",
    "Keeing project metadata in the root project folder this way has some advantages:\n",
    "* json. Everything can parse json.\n",
    "* dynamic. I can change metadata (like version number) in one place\n",
    "* other stuff can easily find it. Like sphinx, for instance (we'll see this later)"
   ]
  },
  {
   "cell_type": "markdown",
   "metadata": {
    "slideshow": {
     "slide_type": "slide"
    }
   },
   "source": [
    "#### Why extras_require?\n",
    "```\n",
    "    extras_require={\n",
    "        'dev': [\n",
    "            'flake8',\n",
    "            'pytest',\n",
    "            'pytest-capturelog',\n",
    "        ],\n",
    "    },\n",
    "```\n",
    "Using the extras_require directive lets you have differing requirements for different roles. Basic installs shouldn't install dependencies that are only needed for dev, testing, document generation, etc.\n",
    "\n",
    "To install using a different role, you can do it like this:\n",
    "```\n",
    "$ pip install <package>[dev]\n",
    "```\n",
    "\n",
    "\n"
   ]
  },
  {
   "cell_type": "markdown",
   "metadata": {
    "slideshow": {
     "slide_type": "slide"
    }
   },
   "source": [
    "#### Why include_package_data?\n",
    "```\n",
    "    include_package_data=True,\n",
    "```\n",
    "\n",
    "You'll need to include this to also install stuff like .project_metadata.json or any other files not a part of your source tree. These will need to be specified in MANIFEST.in.\n",
    "\n",
    "**Note**: If you're reading through examples and/or the distutils/setuptools specification, you might find (and be rather tempted by) ```data_files=...```. I have not found this to work consistently between distutils, setuptools, and pip."
   ]
  },
  {
   "cell_type": "markdown",
   "metadata": {
    "slideshow": {
     "slide_type": "slide"
    }
   },
   "source": [
    "#### Why find_packages?\n",
    "Because it's smart and really easy. Otherwise, you have to list your main package, and all sub-packages therein:\n",
    "```\n",
    "    packages=['a', 'a.a', 'a.a.a', 'a.b', 'a.b.a']\n",
    "```\n",
    "If you add additional sub-packages, you will have to remember to add them here. Of course, you won't notice until you publish to PyPI and try to pip install your package next time...\n"
   ]
  },
  {
   "cell_type": "markdown",
   "metadata": {
    "slideshow": {
     "slide_type": "slide"
    }
   },
   "source": [
    "#### Why entry_points?\n",
    "I only started doing this recently.\n",
    "\n",
    "Previously, I kept all my executables in ```<root>/bin/``` and added a ```scripts=glob.blog('bin/*')```. This works ok, but there are a few things that make it frustrating\n",
    "* No (good) way to import the scripts for unit testing\n",
    "* Don't forget to add your shebang!\n",
    "* Make sure your shebang calls out the right python version\n",
    "* Make sure that your executables have the executable flag set\n",
    "* Probably shouldn't name them with an extension (as is usual in unix for executable files)\n",
    "* Not cross-platform"
   ]
  },
  {
   "cell_type": "markdown",
   "metadata": {
    "slideshow": {
     "slide_type": "slide"
    }
   },
   "source": [
    "Using entry points gives you a lot of magic that takes care of those things (for the most part). Pip will create the executable in a platform specific way at install time, rename it, and make sure that it references the right python interpreter. Further, since the executables are part of the package itself, you can easily unit test them. Finally, a single module can have multiple entry points that are all split out into their own executables!\n",
    "\n",
    "It should also be noted that this pattern works really well with click."
   ]
  },
  {
   "cell_type": "markdown",
   "metadata": {
    "slideshow": {
     "slide_type": "slide"
    }
   },
   "source": [
    "### The CHANGELOG.rst file\n",
    "Changelogs are an important way for users to track what has changed between releases. This way, they can peruse major differences and decide if upgrading is worth the risk to their software. There is some really great discussion about this topic provided at [keepachagnelog.com](http://keepachangelog.com/en/0.3.0/). After reading through, I became a believer."
   ]
  },
  {
   "cell_type": "code",
   "execution_count": 4,
   "metadata": {
    "collapsed": false
   },
   "outputs": [
    {
     "name": "stdout",
     "output_type": "stream",
     "text": [
      "************\r\n",
      " Change Log\r\n",
      "************\r\n",
      "\r\n",
      "All notable changes to this project will be documented in this file.\r\n",
      "\r\n",
      "The format is based on [Keep a Changelog](http://keepachangelog.com/)\r\n",
      "and this project adheres to [Semantic Versioning](http://semver.org/).\r\n",
      "\r\n",
      "Unreleased\r\n",
      "----------\r\n",
      "- This CHANGELOG\r\n",
      "- README providing a brief overview of the project\r\n",
      "- First release of hippy-chat\r\n"
     ]
    }
   ],
   "source": [
    "! cp $stuff_dir/CHANGELOG.rst $root_dir/\n",
    "! cat $root_dir/CHANGELOG.rst"
   ]
  },
  {
   "cell_type": "markdown",
   "metadata": {
    "slideshow": {
     "slide_type": "subslide"
    }
   },
   "source": [
    "### The MANIFEST.in file\n",
    "As stated above, this is the most consistent way to make sure that extra files are installed with your project. The file structure is pretty much dead simple. Just list exactly the extra files that you want to include"
   ]
  },
  {
   "cell_type": "code",
   "execution_count": 5,
   "metadata": {
    "collapsed": false,
    "slideshow": {
     "slide_type": "slide"
    }
   },
   "outputs": [
    {
     "name": "stdout",
     "output_type": "stream",
     "text": [
      "include .project_metadata.json\r\n"
     ]
    }
   ],
   "source": [
    "! cp $stuff_dir/MANIFEST.in $root_dir/\n",
    "! cat $root_dir/MANIFEST.in"
   ]
  },
  {
   "cell_type": "markdown",
   "metadata": {
    "slideshow": {
     "slide_type": "slide"
    }
   },
   "source": [
    "## The LICENSE.rst file\n",
    "Always add a license. For python packages, I usually like to use the MIT license because it's very permissive. However, you should [do some reading to decide which license to use](https://choosealicense.com/)\n",
    "\n",
    "I like to format my license the same as my README and CHANGELOG, just for neurotic consistency"
   ]
  },
  {
   "cell_type": "code",
   "execution_count": 40,
   "metadata": {
    "collapsed": false,
    "scrolled": true
   },
   "outputs": [
    {
     "name": "stdout",
     "output_type": "stream",
     "text": [
      "MIT License\r\n",
      "===========\r\n",
      "\r\n",
      "Copyright (c) `2017` `Tucker Beck`\r\n",
      "\r\n",
      "Permission is hereby granted, free of charge, to any person obtaining a copy\r\n",
      "of this software and associated documentation files (the \"Software\"), to deal\r\n",
      "in the Software without restriction, including without limitation the rights\r\n",
      "to use, copy, modify, merge, publish, distribute, sublicense, and/or sell\r\n",
      "copies of the Software, and to permit persons to whom the Software is\r\n",
      "furnished to do so, subject to the following conditions:\r\n",
      "\r\n",
      "The above copyright notice and this permission notice shall be included in all\r\n",
      "copies or substantial portions of the Software.\r\n",
      "\r\n",
      "THE SOFTWARE IS PROVIDED \"AS IS\", WITHOUT WARRANTY OF ANY KIND, EXPRESS OR\r\n",
      "IMPLIED, INCLUDING BUT NOT LIMITED TO THE WARRANTIES OF MERCHANTABILITY,\r\n",
      "FITNESS FOR A PARTICULAR PURPOSE AND NONINFRINGEMENT. IN NO EVENT SHALL THE\r\n",
      "AUTHORS OR COPYRIGHT HOLDERS BE LIABLE FOR ANY CLAIM, DAMAGES OR OTHER\r\n",
      "LIABILITY, WHETHER IN AN ACTION OF CONTRACT, TORT OR OTHERWISE, ARISING FROM,\r\n",
      "OUT OF OR IN CONNECTION WITH THE SOFTWARE OR THE USE OR OTHER DEALINGS IN THE\r\n",
      "SOFTWARE.\r\n"
     ]
    }
   ],
   "source": [
    "! cp $stuff_dir/LICENSE.rst $root_dir/\n",
    "! cat $root_dir/LICENSE.rst"
   ]
  },
  {
   "cell_type": "markdown",
   "metadata": {
    "slideshow": {
     "slide_type": "slide"
    }
   },
   "source": [
    "### The README.rst file\n",
    "You really should have a README immediately. Notice no italics? This isn't an opinion. It's pretty important. Your README doesn't have to be really verbose. It also probably shouldn't be the difinitive documentation for your project (you should build those with sphinx...but more on that later). However, the README should be a touchstone for people who want to use your package. At a minimum it should include\n",
    "* A summary, no matter how terse, of what your project is for and what it does\n",
    "* Basic requirements. **Especially** which versions of python it supports\n",
    "* An explanation of how to get an environment set up for development and testing"
   ]
  },
  {
   "cell_type": "code",
   "execution_count": 6,
   "metadata": {
    "collapsed": false,
    "scrolled": true,
    "slideshow": {
     "slide_type": "slide"
    }
   },
   "outputs": [
    {
     "name": "stdout",
     "output_type": "stream",
     "text": [
      "************\r\n",
      " hippy-chat\r\n",
      "************\r\n",
      "\r\n",
      "----------------------------------\r\n",
      "Hipchat logging handler for python\r\n",
      "----------------------------------\r\n",
      "\r\n",
      "This package provides a logging handler that can send messages to a hipchat\r\n",
      "room in the form of notifications.\r\n",
      "\r\n",
      "Requirements\r\n",
      "============\r\n",
      "\r\n",
      " - Python 3\r\n",
      "\r\n",
      "Installing\r\n",
      "==========\r\n",
      "Install using pip::\r\n",
      "\r\n",
      "$ pip install hippy-chat\r\n",
      "\r\n",
      "Using\r\n",
      "=====\r\n",
      "Setup the handler with the needed credentials for the hipchat server's api that\r\n",
      "you will be sending messages to:\r\n",
      "\r\n",
      ".. code-block:: python\r\n",
      "\r\n",
      "   from hippy_chat.handler import HipchatHandler\r\n",
      "\r\n",
      "   handler = HipchatHandler(\r\n",
      "       'https://some_hipchat_server', 'some-room', 'SOME_HIPCHAT_API_TOKEN',\r\n",
      "   )\r\n",
      "   logger.addHandler(handler)\r\n",
      "\r\n",
      "Contributing\r\n",
      "============\r\n",
      "\r\n",
      "In order to get your environment set up for development, it is recommended to\r\n",
      "use virtualenv and pip to install dev dependencies::\r\n",
      "\r\n",
      "    $ virtualenv --python=python3 env\r\n",
      "    $ source env/bin/activate\r\n",
      "    $ pip install -e .[dev]\r\n"
     ]
    }
   ],
   "source": [
    "! cp $stuff_dir/README.rst $root_dir/\n",
    "! cat $root_dir/README.rst"
   ]
  },
  {
   "cell_type": "markdown",
   "metadata": {
    "slideshow": {
     "slide_type": "slide"
    }
   },
   "source": [
    "### The .project_metadata.json file\n",
    "As I explained above, this is a personal best-practice. However you do it, though, you should try to keep your project metadata together in one and only one place. This is especially important for project versions. You don't want to confuse your user when they see one version on your documentation and another on the package they download from PyPI. Using a single metadata file like this can help with these sorts of problems"
   ]
  },
  {
   "cell_type": "code",
   "execution_count": 7,
   "metadata": {
    "collapsed": false,
    "slideshow": {
     "slide_type": "slide"
    }
   },
   "outputs": [
    {
     "name": "stdout",
     "output_type": "stream",
     "text": [
      "{\r\n",
      "    \"author\": \"Tucker Beck\",\r\n",
      "    \"author_email\": \"tucker.beck@gmail.com\",\r\n",
      "    \"copyright\": \"2017, Tucker Beck\",\r\n",
      "    \"description\": \"Log messages to a hipchat room\",\r\n",
      "    \"license\": \"MIT\",\r\n",
      "    \"name\": \"hippy-chat\",\r\n",
      "    \"release\": \"0.1.0\",\r\n",
      "    \"version\": \"0.1\"\r\n",
      "}\r\n"
     ]
    }
   ],
   "source": [
    "! cp $stuff_dir/.project_metadata.json $root_dir/\n",
    "! cat .project_metadata.json"
   ]
  },
  {
   "cell_type": "markdown",
   "metadata": {
    "slideshow": {
     "slide_type": "slide"
    }
   },
   "source": [
    "## The .hipchat.json file\n",
    "This config file contains credentials that will be loaded by our demo executable to talk to my hipchat room. This one is just specific to this project"
   ]
  },
  {
   "cell_type": "code",
   "execution_count": 8,
   "metadata": {
    "collapsed": false,
    "scrolled": true,
    "slideshow": {
     "slide_type": "slide"
    }
   },
   "outputs": [
    {
     "name": "stdout",
     "output_type": "stream",
     "text": [
      "{\r\n",
      "    \"url\": \"https://pip-install-this.hipchat.com\",\r\n",
      "    \"room\": \"Pip-install-this\",\r\n",
      "    \"token\": \"c4Hp59gNczgP4Uor3gt2XklphLY5JFc3s2EZ6n1u\"\r\n",
      "}\r\n"
     ]
    }
   ],
   "source": [
    "! cp $stuff_dir/.hipchat.json $root_dir/\n",
    "! cat $root_dir/.hipchat.json"
   ]
  },
  {
   "cell_type": "markdown",
   "metadata": {
    "slideshow": {
     "slide_type": "slide"
    }
   },
   "source": [
    "## Source Code\n",
    "There are a few best practices with how source code should be laid out:\n",
    "\n",
    "* All source should go in a directory in the project root\n",
    "* This directory should be in lower **snake_case**, and should be some derivation of your package name\n",
    "* You should try to pick something unique enough that it won't collide with other packages \n",
    "* This directory name will be the importable name of your package\n",
    "  \n",
    "There are, of course, a lot of others. But these are the basics\n",
    "  "
   ]
  },
  {
   "cell_type": "markdown",
   "metadata": {
    "slideshow": {
     "slide_type": "slide"
    }
   },
   "source": [
    "### The hippy_chat handler module\n",
    "This is the source for our chat handler. A few things to note:\n",
    "* [arrow](http://crsmithdev.com/arrow/) is a really nice datetime replacement. _I recommend using this or [pendulum](https://github.com/sdispater/pendulum) for **all** cases where you work with datetimes_\n",
    "* [py-buzz](https://github.com/dusktreader/py-buzz) is one of my packages that provides some nice add-ons to python exceptions\n",
    "* [requests](http://docs.python-requests.org/en/master/) is an awesome package for working with apis. It's dead simple to use.\n",
    "\n",
    "Also worth noting: This is a logging handler for normal python logging. This is what our project started using a long time ago. Python logging is pretty cool, but _it is not as cool as it could or should be. These days, I try to use [logbook](https://github.com/getlogbook/logbook) wherever possible_. However, logbook is not a drop-in replacement, so our project will probably stick with vanilla logging for now...or maybe forever\n",
    "\n",
    "Also: We will also need to add an empty init.py module. This tells Python that this directory contains a package and, potentially, subpackages. Python won't be able to find the 'handlers' module without this"
   ]
  },
  {
   "cell_type": "code",
   "execution_count": 9,
   "metadata": {
    "collapsed": false,
    "scrolled": true,
    "slideshow": {
     "slide_type": "slide"
    }
   },
   "outputs": [
    {
     "name": "stdout",
     "output_type": "stream",
     "text": [
      "import arrow\r\n",
      "import buzz\r\n",
      "import json\r\n",
      "import logging\r\n",
      "import requests\r\n",
      "import textwrap\r\n",
      "import urllib\r\n",
      "\r\n",
      "\r\n",
      "HIPCHAT_DEFAULT_TITLE = 'event occured in application'\r\n",
      "\r\n",
      "\r\n",
      "class HipchatHandler(logging.Handler):\r\n",
      "    \"\"\"\r\n",
      "    This module provides a logging handler that sends notifications to a\r\n",
      "    hipchat room. The notifications will appear as expandable 'cards'\r\n",
      "    with relevant data.\r\n",
      "\r\n",
      "    .. todo:: Add sentry support for the card urls\r\n",
      "    \"\"\"\r\n",
      "\r\n",
      "    def __init__(\r\n",
      "            self, url, room, token, title=HIPCHAT_DEFAULT_TITLE,\r\n",
      "            *args, **kwargs\r\n",
      "    ):\r\n",
      "        \"\"\"\r\n",
      "        Initializes the handler\r\n",
      "\r\n",
      "        :param: url:   The base URL to the hipchat server\r\n",
      "        :param: room:  The name of the room in which to make the notification\r\n",
      "        :param: token: The auth token for the room\r\n",
      "        :param: title: An optional title to include in the notification\r\n",
      "        \"\"\"\r\n",
      "\r\n",
      "        self.url = '{url}/v2/room/{room}/notification'.format(\r\n",
      "            url=url,\r\n",
      "            room=urllib.parse.quote(room),\r\n",
      "        )\r\n",
      "        self.headers = {\r\n",
      "            \"Content-Type\": \"application/json\",\r\n",
      "            \"Authorization\": \"Bearer {}\".format(token),\r\n",
      "        }\r\n",
      "        self.title = title\r\n",
      "        super().__init__(*args, **kwargs)\r\n",
      "\r\n",
      "    def _make_payload(self, record):\r\n",
      "        \"\"\"\r\n",
      "        Creates a payload for the room notification\r\n",
      "        \"\"\"\r\n",
      "        html_title = '<b>{}</b> {}'.format(record.levelname, self.title)\r\n",
      "\r\n",
      "        # Note: the description has to be 500 characters or less. Othewise\r\n",
      "        #       hipchat will bounce the message\r\n",
      "        description = textwrap.shorten(\r\n",
      "            self.format(record),\r\n",
      "            width=500,\r\n",
      "            placeholder='...',\r\n",
      "        )\r\n",
      "\r\n",
      "        return json.dumps({\r\n",
      "            \"color\": \"red\",\r\n",
      "            \"notify\": True,\r\n",
      "            \"message_format\": \"html\",\r\n",
      "            \"message\": html_title,\r\n",
      "            \"card\": {\r\n",
      "                \"id\": str(arrow.get().timestamp),\r\n",
      "                \"style\": \"application\",\r\n",
      "                \"format\": \"medium\",\r\n",
      "                \"title\": '{} {}'.format(record.levelname, self.title),\r\n",
      "                \"description\": description,\r\n",
      "                \"url\": 'https://some.sentry.server.someday',\r\n",
      "                \"activity\": {\"html\": html_title},\r\n",
      "            },\r\n",
      "        })\r\n",
      "\r\n",
      "    def emit(self, record):\r\n",
      "        \"\"\"\r\n",
      "        Sends a notification to the hipchat room when a message is logged to\r\n",
      "        the handler\r\n",
      "        \"\"\"\r\n",
      "        response = requests.post(\r\n",
      "            self.url, headers=self.headers, data=self._make_payload(record),\r\n",
      "        )\r\n",
      "        buzz.Buzz.require_condition(\r\n",
      "            response is not None and response.status_code in (200, 204),\r\n",
      "            \"hipchat api did not accept the post: {}\",\r\n",
      "            str(response),\r\n",
      "        )\r\n"
     ]
    }
   ],
   "source": [
    "source_dir = os.path.join(root_dir, 'hippy_chat')\n",
    "\n",
    "! mkdir $source_dir\n",
    "! touch $source_dir/__init__.py\n",
    "! cp $stuff_dir/handler.py $source_dir\n",
    "! cat $source_dir/handler.py"
   ]
  },
  {
   "cell_type": "markdown",
   "metadata": {
    "slideshow": {
     "slide_type": "slide"
    }
   },
   "source": [
    "We will also need to add an empty __init__.py module. This tells Python that this directory contains a package and, potentially, subpackages. Python won't be able to find the 'handlers' module without this"
   ]
  },
  {
   "cell_type": "markdown",
   "metadata": {
    "slideshow": {
     "slide_type": "slide"
    }
   },
   "source": [
    "## Test Code\n",
    "There are a few different python testing frameworks out there.\n",
    "\n",
    "The unittest package is a part of the python standard library, and it offers a lot of features out of the box. However, I don't recommend it for a few reasons:\n",
    "* Test discovery is painful\n",
    "* Using the special assert methods requires a lot of lookup time that could be spent writing tests\n",
    "* Everything **has** to be done in test classes and heirarchies thereof\n",
    "* No pluggable extensions\n",
    "\n",
    "For a long time, [nose](http://nose.readthedocs.io/en/latest/) addressed a lot of those concerns. However, nose is no longer under active development, and, its replacement, [nose2](https://github.com/nose-devs/nose2) is still in 'beta' (pre 1.0 release) and is not progressing very rapidly. Additionally, _nose introduces some of its own quirks that can be annoying_."
   ]
  },
  {
   "cell_type": "markdown",
   "metadata": {
    "slideshow": {
     "slide_type": "slide"
    }
   },
   "source": [
    "I find that [pytest](http://doc.pytest.org/en/latest/) is a great testing framework that allows you to get testing very rapidly and yet hass enough features to support basically anything you want to do. There are a lot of useful pytest plugins out there as well to fill in missing functionality.\n",
    "\n",
    "The pytest framework _can_ use test class heirarchies, but they are optional. Most setup in pytest is done via fixtures, which can be incredibly powerful (if somewhat confusing at times)\n",
    "\n",
    "Project wide and directory wide configuration is available via `conftest.py` files, but we won't need any for hippy-chat, and you may not need them for your project"
   ]
  },
  {
   "cell_type": "markdown",
   "metadata": {
    "slideshow": {
     "slide_type": "slide"
    }
   },
   "source": [
    "Tests can either be\n",
    "* interleaved with your source code\n",
    "* put in a sub-module of your source module\n",
    "* put in their own directory\n",
    "\n",
    "The most common practice, and my preferred approach, is to put the tests in their own directory immediately below the root of your project. This makes them very easy to target with your command line and also lowers the risk of accidental imports."
   ]
  },
  {
   "cell_type": "markdown",
   "metadata": {
    "slideshow": {
     "slide_type": "slide"
    }
   },
   "source": [
    "### The test_handler.py test module\n",
    "This module contains the unit tests for the hippy_chat.handler module. This example is pretty spartan, but there should be enough here to show some pytest features.\n"
   ]
  },
  {
   "cell_type": "code",
   "execution_count": 10,
   "metadata": {
    "collapsed": false,
    "scrolled": true,
    "slideshow": {
     "slide_type": "slide"
    }
   },
   "outputs": [
    {
     "name": "stdout",
     "output_type": "stream",
     "text": [
      "import collections\r\n",
      "import json\r\n",
      "import logging\r\n",
      "import pytest\r\n",
      "import requests\r\n",
      "\r\n",
      "from hippy_chat.handler import HipchatHandler, HIPCHAT_DEFAULT_TITLE\r\n",
      "\r\n",
      "\r\n",
      "class TestHipchatHandler:\r\n",
      "\r\n",
      "    @pytest.fixture(autouse=True)\r\n",
      "    def setup(self):\r\n",
      "        \"\"\"\r\n",
      "        Sets up the logger for the tests in this class. Is automatically\r\n",
      "        invoked before each test function is called\r\n",
      "        \"\"\"\r\n",
      "        self.logger = logging.getLogger('TestHipchatLogger')\r\n",
      "        self.logger.setLevel(logging.DEBUG)\r\n",
      "\r\n",
      "    @pytest.yield_fixture\r\n",
      "    def dummy_handler(self):\r\n",
      "        \"\"\"\r\n",
      "        Provides a dummy instance of a HipchatHandler\r\n",
      "        \"\"\"\r\n",
      "        dummy_url = 'https://some.fake.server.hipchat.com'\r\n",
      "        dummy_room_name = 'some-room'\r\n",
      "        dummy_token = 'SOME_TOKEN'\r\n",
      "\r\n",
      "        dummy_handler = HipchatHandler(dummy_url, dummy_room_name, dummy_token)\r\n",
      "        self.logger.addHandler(dummy_handler)\r\n",
      "        yield dummy_handler\r\n",
      "        self.logger.removeHandler(dummy_handler)\r\n",
      "\r\n",
      "    def test___init__(self, dummy_handler):\r\n",
      "        \"\"\"\r\n",
      "        This test verifies that a HipchatHandler instance can be initialized\r\n",
      "        and that its url, headers, and title are properly set up based on the\r\n",
      "        init params\r\n",
      "\r\n",
      "        .. todo::\r\n",
      "            check url formatting of weird room names\r\n",
      "        \"\"\"\r\n",
      "        assert dummy_handler.url == (\r\n",
      "            'https://some.fake.server.hipchat.com'\r\n",
      "            '/v2/room/some-room/notification'\r\n",
      "        )\r\n",
      "        assert dummy_handler.headers == {\r\n",
      "            'Content-Type': 'application/json',\r\n",
      "            'Authorization': 'Bearer SOME_TOKEN',\r\n",
      "        }\r\n",
      "        assert dummy_handler.title == HIPCHAT_DEFAULT_TITLE\r\n",
      "\r\n",
      "    def test__make_payload(self, dummy_handler):\r\n",
      "        \"\"\"\r\n",
      "        This test verifies that the data payload for the request that is sent\r\n",
      "        to the hipchat API is properly constructed and encoded\r\n",
      "\r\n",
      "        .. todo::\r\n",
      "            * test long (>500 char) messages\r\n",
      "            * test timestamp id\r\n",
      "        \"\"\"\r\n",
      "        pass\r\n",
      "\r\n",
      "    def test_integration(self, monkeypatch, dummy_handler):\r\n",
      "        \"\"\"\r\n",
      "        This test verifies that the HipchatHandler integrates correctly with\r\n",
      "        the logging module and that a request is posted to the hipchat api\r\n",
      "        when a logging message at or above the level that the handler is\r\n",
      "        initialized with\r\n",
      "        \"\"\"\r\n",
      "        results = []\r\n",
      "\r\n",
      "        def mock_post(url, headers=[], data={}):\r\n",
      "            Result = collections.namedtuple('Result', ['status_code'])\r\n",
      "            results.append(data)\r\n",
      "            return Result(status_code=204)\r\n",
      "\r\n",
      "        monkeypatch.setattr(requests, 'post', mock_post)\r\n",
      "\r\n",
      "        self.logger.error(\"test error message\")\r\n",
      "        assert len(results) == 1\r\n",
      "        result_data = results.pop()\r\n",
      "\r\n",
      "        computed_data = json.loads(result_data)\r\n",
      "        assert computed_data['color'] == 'red'\r\n",
      "        assert computed_data['notify']\r\n",
      "        assert computed_data['message'] == '<b>ERROR</b> {}'.format(HIPCHAT_DEFAULT_TITLE)\r\n"
     ]
    }
   ],
   "source": [
    "test_dir = os.path.join(root_dir, 'tests')\n",
    "\n",
    "! mkdir $test_dir\n",
    "! touch $test_dir/__init__.py\n",
    "! cp $stuff_dir/test_handler.py $test_dir\n",
    "! cat $test_dir/test_handler.py"
   ]
  },
  {
   "cell_type": "markdown",
   "metadata": {
    "slideshow": {
     "slide_type": "slide"
    }
   },
   "source": [
    "Invoking pytest against our project is incredibly simple. You simply need to call it and target the test directory. You can target specific tests, test directories, or tests matching a specific pattern.\n",
    "\n",
    "We'll invoke tests in a bit after we are done setting up the package"
   ]
  },
  {
   "cell_type": "markdown",
   "metadata": {
    "slideshow": {
     "slide_type": "slide"
    }
   },
   "source": [
    "## Executables\n",
    "Executable code should be as compact as possible. It's good practice to make your entry-points as concise as possible and have most logic within your python modules. Ideally, an executable does little more than parse a command line, call into a function, and then possibly produce output\n",
    "\n",
    "I use [click](https://github.com/pallets/click) for command line processing. _This is a matter of personal preference_. However, you should **never do your own command line processing**. Even for really simple stuff, I reccommend using a command line parser. [argparse](https://docs.python.org/3/library/argparse.html) (and its predecessor, [optparse](https://docs.python.org/2/library/optparse.html)) is built into the language and provides a full-featured command-line parser."
   ]
  },
  {
   "cell_type": "markdown",
   "metadata": {
    "slideshow": {
     "slide_type": "slide"
    }
   },
   "source": [
    "### The demo.py executable file\n",
    "This module will just be used to show a demonstration of the logging handler in action. It parses some basic command line options and does some logging to show the handler working"
   ]
  },
  {
   "cell_type": "code",
   "execution_count": 11,
   "metadata": {
    "collapsed": false,
    "scrolled": true,
    "slideshow": {
     "slide_type": "slide"
    }
   },
   "outputs": [
    {
     "name": "stdout",
     "output_type": "stream",
     "text": [
      "import arrow\r\n",
      "import click\r\n",
      "import json\r\n",
      "import logging\r\n",
      "import os\r\n",
      "import time\r\n",
      "import hippy_chat.handler\r\n",
      "\r\n",
      "\r\n",
      "@click.command()\r\n",
      "@click.option(\r\n",
      "    '-c', '--config-file',\r\n",
      "    default='.hipchat.json',\r\n",
      "    help=\"the file containing hipchat deets\",\r\n",
      ")\r\n",
      "@click.option(\r\n",
      "    '-l', '--log-level',\r\n",
      "    default='ERROR',\r\n",
      "    type=click.Choice(['DEBUG', 'INFO', 'WARNING', 'ERROR', 'CRITICAL']),\r\n",
      "    help=\"select the level of messges that should be logged to the room\",\r\n",
      ")\r\n",
      "@click.option(\r\n",
      "    '-i', '--message-interval',\r\n",
      "    default=5,\r\n",
      "    type=int,\r\n",
      "    help=\"How often to message the room\",\r\n",
      ")\r\n",
      "def main(config_file, log_level, message_interval):\r\n",
      "\r\n",
      "    log_level = getattr(logging, log_level)\r\n",
      "\r\n",
      "    logger = logging.getLogger(__name__)\r\n",
      "    logger.setLevel(logging.INFO)\r\n",
      "\r\n",
      "    with open(os.path.expanduser('.hipchat.json')) as config_file:\r\n",
      "        config = json.load(config_file)\r\n",
      "    hipchat_handler = hippy_chat.handler.HipchatHandler(**config)\r\n",
      "    hipchat_handler.setLevel(log_level)\r\n",
      "\r\n",
      "    logger.addHandler(hipchat_handler)\r\n",
      "\r\n",
      "    logger.debug(\"DEBUG level message\")\r\n",
      "    logger.info(\"INFO level message\")\r\n",
      "    logger.warning(\"WARNING level message\")\r\n",
      "    logger.error(\"ERROR level message\")\r\n",
      "    logger.critical(\"CRITICAL level message\")\r\n",
      "\r\n",
      "    for i in range(5):\r\n",
      "        logger.log(log_level, \"The time is {}\".format(arrow.get()))\r\n",
      "        time.sleep(message_interval)\r\n",
      "\r\n",
      "\r\n",
      "if __name__ == '__main__':\r\n",
      "    main()\r\n"
     ]
    }
   ],
   "source": [
    "exec_dir = os.path.join(source_dir, 'exec')\n",
    "\n",
    "! mkdir $exec_dir\n",
    "! touch $exec_dir/__init__.py\n",
    "! cp demo.py $exec_dir\n",
    "! cat demo.py"
   ]
  },
  {
   "cell_type": "markdown",
   "metadata": {
    "slideshow": {
     "slide_type": "slide"
    }
   },
   "source": [
    "## Working within a virtual environment\n",
    "Python's virtual environments are just too nice to _not_ use. They are really simple to set up, and provide a good way to isolate your environment as you develop. Using virtual environments has the following benefits:\n",
    "* Improve repeatability in package setup\n",
    "* Easy _removal_ of your installed package\n",
    "* Provide custom configuration to your package without breaking anything else\n",
    "* Use whatever version of python interpreter you want"
   ]
  },
  {
   "cell_type": "markdown",
   "metadata": {
    "slideshow": {
     "slide_type": "slide"
    }
   },
   "source": [
    "### Setting up the virtual environment\n",
    "Note that I'm making the wild assumption that you have [virtualenv](https://virtualenv.pypa.io/en/stable/) set up. If not, the setup is pretty easy. That does, however, depend on your os\n",
    "\n",
    "Creating and activating the virtualenv is pretty easy:"
   ]
  },
  {
   "cell_type": "code",
   "execution_count": 12,
   "metadata": {
    "collapsed": false,
    "slideshow": {
     "slide_type": "slide"
    }
   },
   "outputs": [
    {
     "name": "stdout",
     "output_type": "stream",
     "text": [
      "Running virtualenv with interpreter /Users/tbeck/.virtualenvs/pip-install-this/bin/python3\n",
      "Using real prefix '/usr/local/Cellar/python3/3.5.1/Frameworks/Python.framework/Versions/3.5'\n",
      "New python executable in /Users/tbeck/work/hippy-chat/env/bin/python3.5\n",
      "Also creating executable in /Users/tbeck/work/hippy-chat/env/bin/python\n",
      "Installing setuptools, pip, wheel...done.\n"
     ]
    }
   ],
   "source": [
    "os.chdir(root_dir)\n",
    "\n",
    "! virtualenv --python=python3 env\n",
    "! source env/bin/activate"
   ]
  },
  {
   "cell_type": "markdown",
   "metadata": {
    "slideshow": {
     "slide_type": "slide"
    }
   },
   "source": [
    "Now invoking python (or a script that invokes python via a shebang line) in the active virtual environment will be working in its own encapsulated environment. This also means that any packages that are installed via pip will be localized to this virtual environment"
   ]
  },
  {
   "cell_type": "markdown",
   "metadata": {
    "slideshow": {
     "slide_type": "slide"
    }
   },
   "source": [
    "## Installing the new package in 'edit' mode\n",
    "While you are actively developing a project, it is very convenient to have it installed inside of your active virtual environment in 'editable' mode. Pip offers this feature so that you can modify a source code and see the changes reflected the next time you invoke python or a python script without having to re-install the package. Trust me, you want to use this feature when you are working on your package\n",
    "\n",
    "Here we will invoke the install command against the pwd with the 'dev' modifier. This will install all of the normal package dependencies but will also install the dependencies from the 'dev' section of 'extras_require' in our setup.py:\n",
    "\n",
    "Once the install is finished, our environment has all the dependencies satisfied including the hippy-chat package that we are building"
   ]
  },
  {
   "cell_type": "code",
   "execution_count": 13,
   "metadata": {
    "collapsed": false,
    "scrolled": true,
    "slideshow": {
     "slide_type": "slide"
    }
   },
   "outputs": [
    {
     "name": "stdout",
     "output_type": "stream",
     "text": [
      "Obtaining file:///Users/tbeck/work/hippy-chat\n",
      "Requirement already satisfied: arrow in /Users/tbeck/.virtualenvs/pip-install-this/lib/python3.5/site-packages (from hippy-chat==0.1.0)\n",
      "Requirement already satisfied: click in /Users/tbeck/.virtualenvs/pip-install-this/lib/python3.5/site-packages (from hippy-chat==0.1.0)\n",
      "Requirement already satisfied: py-buzz in /Users/tbeck/.virtualenvs/pip-install-this/lib/python3.5/site-packages (from hippy-chat==0.1.0)\n",
      "Requirement already satisfied: requests in /Users/tbeck/.virtualenvs/pip-install-this/lib/python3.5/site-packages (from hippy-chat==0.1.0)\n",
      "Requirement already satisfied: flake8 in /Users/tbeck/.virtualenvs/pip-install-this/lib/python3.5/site-packages (from hippy-chat==0.1.0)\n",
      "Requirement already satisfied: pytest in /Users/tbeck/.virtualenvs/pip-install-this/lib/python3.5/site-packages (from hippy-chat==0.1.0)\n",
      "Requirement already satisfied: pytest-capturelog in /Users/tbeck/.virtualenvs/pip-install-this/lib/python3.5/site-packages (from hippy-chat==0.1.0)\n",
      "Requirement already satisfied: sphinx in /Users/tbeck/.virtualenvs/pip-install-this/lib/python3.5/site-packages (from hippy-chat==0.1.0)\n",
      "Requirement already satisfied: python-dateutil in /Users/tbeck/.virtualenvs/pip-install-this/lib/python3.5/site-packages (from arrow->hippy-chat==0.1.0)\n",
      "Requirement already satisfied: mccabe<0.6.0,>=0.5.0 in /Users/tbeck/.virtualenvs/pip-install-this/lib/python3.5/site-packages (from flake8->hippy-chat==0.1.0)\n",
      "Requirement already satisfied: pycodestyle<2.3.0,>=2.0.0 in /Users/tbeck/.virtualenvs/pip-install-this/lib/python3.5/site-packages (from flake8->hippy-chat==0.1.0)\n",
      "Requirement already satisfied: pyflakes!=1.2.0,!=1.2.1,!=1.2.2,<1.4.0,>=0.8.1 in /Users/tbeck/.virtualenvs/pip-install-this/lib/python3.5/site-packages (from flake8->hippy-chat==0.1.0)\n",
      "Requirement already satisfied: py>=1.4.29 in /Users/tbeck/.virtualenvs/pip-install-this/lib/python3.5/site-packages (from pytest->hippy-chat==0.1.0)\n",
      "Requirement already satisfied: setuptools in /Users/tbeck/.virtualenvs/pip-install-this/lib/python3.5/site-packages (from pytest->hippy-chat==0.1.0)\n",
      "Requirement already satisfied: docutils>=0.11 in /Users/tbeck/.virtualenvs/pip-install-this/lib/python3.5/site-packages (from sphinx->hippy-chat==0.1.0)\n",
      "Requirement already satisfied: snowballstemmer>=1.1 in /Users/tbeck/.virtualenvs/pip-install-this/lib/python3.5/site-packages (from sphinx->hippy-chat==0.1.0)\n",
      "Requirement already satisfied: six>=1.5 in /Users/tbeck/.virtualenvs/pip-install-this/lib/python3.5/site-packages (from sphinx->hippy-chat==0.1.0)\n",
      "Requirement already satisfied: alabaster<0.8,>=0.7 in /Users/tbeck/.virtualenvs/pip-install-this/lib/python3.5/site-packages (from sphinx->hippy-chat==0.1.0)\n",
      "Requirement already satisfied: babel!=2.0,>=1.3 in /Users/tbeck/.virtualenvs/pip-install-this/lib/python3.5/site-packages (from sphinx->hippy-chat==0.1.0)\n",
      "Requirement already satisfied: Pygments>=2.0 in /Users/tbeck/.virtualenvs/pip-install-this/lib/python3.5/site-packages (from sphinx->hippy-chat==0.1.0)\n",
      "Requirement already satisfied: Jinja2>=2.3 in /Users/tbeck/.virtualenvs/pip-install-this/lib/python3.5/site-packages (from sphinx->hippy-chat==0.1.0)\n",
      "Requirement already satisfied: imagesize in /Users/tbeck/.virtualenvs/pip-install-this/lib/python3.5/site-packages (from sphinx->hippy-chat==0.1.0)\n",
      "Requirement already satisfied: appdirs>=1.4.0 in /Users/tbeck/.virtualenvs/pip-install-this/lib/python3.5/site-packages (from setuptools->pytest->hippy-chat==0.1.0)\n",
      "Requirement already satisfied: packaging>=16.8 in /Users/tbeck/.virtualenvs/pip-install-this/lib/python3.5/site-packages (from setuptools->pytest->hippy-chat==0.1.0)\n",
      "Requirement already satisfied: pytz>=0a in /Users/tbeck/.virtualenvs/pip-install-this/lib/python3.5/site-packages (from babel!=2.0,>=1.3->sphinx->hippy-chat==0.1.0)\n",
      "Requirement already satisfied: MarkupSafe>=0.23 in /Users/tbeck/.virtualenvs/pip-install-this/lib/python3.5/site-packages (from Jinja2>=2.3->sphinx->hippy-chat==0.1.0)\n",
      "Requirement already satisfied: pyparsing in /Users/tbeck/.virtualenvs/pip-install-this/lib/python3.5/site-packages (from packaging>=16.8->setuptools->pytest->hippy-chat==0.1.0)\n",
      "Installing collected packages: hippy-chat\n",
      "  Found existing installation: hippy-chat 0.1.0\n",
      "    Uninstalling hippy-chat-0.1.0:\n",
      "      Successfully uninstalled hippy-chat-0.1.0\n",
      "  Running setup.py develop for hippy-chat\n",
      "Successfully installed hippy-chat\n"
     ]
    }
   ],
   "source": [
    "! pip install -e .[dev]"
   ]
  },
  {
   "cell_type": "markdown",
   "metadata": {
    "slideshow": {
     "slide_type": "slide"
    }
   },
   "source": [
    "## Invoking the test suite\n",
    "\n",
    "The pytest framework has a whole slew of options that you can specify on the command line. Two options I find most useful are the --maxfail and --verbose options\n",
    "\n",
    "I generally invoke pytest against my entire test suite using the `--maxfail=1` option. This tells pytest to stop immediately upon the first test failure. This is useful for larger projects where you want to see a problem right away when a test fails. You usually won't set this if you are, for instance, running your test suite as a deployment step or any time you want a report of all failing tests\n",
    "\n",
    "You can also increase the verbosity of failure messages by passing `--verbose` flags. The flags are additive, so two verbose flags will show even more verbose output.\n",
    "\n",
    "Note: As of this writing, I discovered some weirdness with python interpreter and py.test vs pytest"
   ]
  },
  {
   "cell_type": "code",
   "execution_count": 14,
   "metadata": {
    "collapsed": false,
    "slideshow": {
     "slide_type": "slide"
    }
   },
   "outputs": [
    {
     "name": "stdout",
     "output_type": "stream",
     "text": [
      "\u001b[1m============================= test session starts ==============================\u001b[0m\n",
      "platform darwin -- Python 3.5.1, pytest-3.0.6, py-1.4.32, pluggy-0.4.0 -- /Users/tbeck/.virtualenvs/pip-install-this/bin/python3.5\n",
      "cachedir: .cache\n",
      "rootdir: /Users/tbeck/work/hippy-chat, inifile: \n",
      "plugins: capturelog-0.7\n",
      "collected 3 items \u001b[0m\u001b[1m\n",
      "\u001b[0m\n",
      "tests/test_handler.py::TestHipchatHandler::test___init__ \u001b[32mPASSED\u001b[0m\n",
      "tests/test_handler.py::TestHipchatHandler::test__make_payload \u001b[32mPASSED\u001b[0m\n",
      "tests/test_handler.py::TestHipchatHandler::test_integration \u001b[32mPASSED\u001b[0m\n",
      "\n",
      "============================ pytest-warning summary ============================\n",
      "WI1 /Users/tbeck/.virtualenvs/pip-install-this/lib/python3.5/site-packages/pytest_capturelog.py:171 'pytest_runtest_makereport' hook uses deprecated __multicall__ argument\n",
      "WC1 None pytest_funcarg__caplog: declaring fixtures using \"pytest_funcarg__\" prefix is deprecated and scheduled to be removed in pytest 4.0.  Please remove the prefix and use the @pytest.fixture decorator instead.\n",
      "WC1 None pytest_funcarg__capturelog: declaring fixtures using \"pytest_funcarg__\" prefix is deprecated and scheduled to be removed in pytest 4.0.  Please remove the prefix and use the @pytest.fixture decorator instead.\n",
      "\u001b[1m\u001b[33m================= 3 passed, 3 pytest-warnings in 0.15 seconds ==================\u001b[0m\n"
     ]
    }
   ],
   "source": [
    "! py.test --maxfail=1 --verbose $test_dir"
   ]
  },
  {
   "cell_type": "markdown",
   "metadata": {
    "slideshow": {
     "slide_type": "slide"
    }
   },
   "source": [
    "## Trying out the demo\n",
    "Now that everything is setup, we should be able to try out the demo. Note, that it is installed into our editable virtualenv, and is invokable by its installed name: 'hippy-chat-demo'\n",
    "\n",
    "We'll watch for the results in [a hipchat room I set up for this talk](https://pip-install-this.hipchat.com/chat/room/3517101)"
   ]
  },
  {
   "cell_type": "code",
   "execution_count": 15,
   "metadata": {
    "collapsed": false,
    "slideshow": {
     "slide_type": "slide"
    }
   },
   "outputs": [],
   "source": [
    "! hippy-chat-demo --log-level WARNING --message-interval=2"
   ]
  },
  {
   "cell_type": "markdown",
   "metadata": {
    "slideshow": {
     "slide_type": "slide"
    }
   },
   "source": [
    "## Code Style\n",
    "\n",
    "Style checking is great! It takes the thinking out of code formatting. I used to like to develop my own style and tinker with it. That's a lot of thought put into something that _doesn't really matter that much_. What I've found is that using an established style-guide let's me dedicate that mind space to working on my package. It also prevents 'discussions' about style within my team. Even if no one quite agrees, having some 3rd party style guide helps keep the team working on implementation.\n",
    "\n",
    "So, I like to use vanilla pep8 via out-of-the-box [flake8](https://pypi.python.org/pypi/flake8)"
   ]
  },
  {
   "cell_type": "markdown",
   "metadata": {
    "slideshow": {
     "slide_type": "slide"
    }
   },
   "source": [
    "There are a few different style-checkers out there that also work well. Choosing one is a matter of perference. Most of them do the same linting, but they all have different sets of extras. I use flake8 because it's easy, well-established, actively maintained, and has _a sweet vim plugin_.\n",
    "\n",
    "flake8 is very configurable. For a some of my work projects, we have a different flake8 configuration for tests and source code. This lets us do things like have long lines and tabular alignment in tests where it wouldn't be acceptable in the source. However, for packages you are releasing to the community _it's best to just use the vanilla pep8 guidelines_.\n",
    "\n",
    "Checking a single file or an entire directory is really simple:\n",
    "\n",
    "**Quick Note**: Don't target your root folder with flake8! It will check all the packages in your virtualenv."
   ]
  },
  {
   "cell_type": "code",
   "execution_count": 16,
   "metadata": {
    "collapsed": false,
    "slideshow": {
     "slide_type": "slide"
    }
   },
   "outputs": [],
   "source": [
    "! flake8 hippy_chat"
   ]
  },
  {
   "cell_type": "code",
   "execution_count": 17,
   "metadata": {
    "collapsed": false,
    "slideshow": {
     "slide_type": "slide"
    }
   },
   "outputs": [
    {
     "name": "stdout",
     "output_type": "stream",
     "text": [
      "tests/test_handler.py:88:80: E501 line too long (90 > 79 characters)\r\n"
     ]
    }
   ],
   "source": [
    "! flake8 tests"
   ]
  },
  {
   "cell_type": "markdown",
   "metadata": {
    "slideshow": {
     "slide_type": "slide"
    }
   },
   "source": [
    "flake8 has a nice feature where you can add a special `# noqa` comment at the end of a line that you don't want to be checked. It's kinda ugly, but that's good because it helps keep you from overusing it"
   ]
  },
  {
   "cell_type": "code",
   "execution_count": 18,
   "metadata": {
    "collapsed": false,
    "scrolled": true,
    "slideshow": {
     "slide_type": "slide"
    }
   },
   "outputs": [
    {
     "name": "stdout",
     "output_type": "stream",
     "text": [
      "import collections\r\n",
      "import json\r\n",
      "import logging\r\n",
      "import pytest\r\n",
      "import requests\r\n",
      "\r\n",
      "from hippy_chat.handler import HipchatHandler, HIPCHAT_DEFAULT_TITLE\r\n",
      "\r\n",
      "\r\n",
      "class TestHipchatHandler:\r\n",
      "\r\n",
      "    @pytest.fixture(autouse=True)\r\n",
      "    def setup(self):\r\n",
      "        \"\"\"\r\n",
      "        Sets up the logger for the tests in this class. Is automatically\r\n",
      "        invoked before each test function is called\r\n",
      "        \"\"\"\r\n",
      "        self.logger = logging.getLogger('TestHipchatLogger')\r\n",
      "        self.logger.setLevel(logging.DEBUG)\r\n",
      "\r\n",
      "    @pytest.yield_fixture\r\n",
      "    def dummy_handler(self):\r\n",
      "        \"\"\"\r\n",
      "        Provides a dummy instance of a HipchatHandler\r\n",
      "        \"\"\"\r\n",
      "        dummy_url = 'https://some.fake.server.hipchat.com'\r\n",
      "        dummy_room_name = 'some-room'\r\n",
      "        dummy_token = 'SOME_TOKEN'\r\n",
      "\r\n",
      "        dummy_handler = HipchatHandler(dummy_url, dummy_room_name, dummy_token)\r\n",
      "        self.logger.addHandler(dummy_handler)\r\n",
      "        yield dummy_handler\r\n",
      "        self.logger.removeHandler(dummy_handler)\r\n",
      "\r\n",
      "    def test___init__(self, dummy_handler):\r\n",
      "        \"\"\"\r\n",
      "        This test verifies that a HipchatHandler instance can be initialized\r\n",
      "        and that its url, headers, and title are properly set up based on the\r\n",
      "        init params\r\n",
      "\r\n",
      "        .. todo::\r\n",
      "            check url formatting of weird room names\r\n",
      "        \"\"\"\r\n",
      "        assert dummy_handler.url == (\r\n",
      "            'https://some.fake.server.hipchat.com'\r\n",
      "            '/v2/room/some-room/notification'\r\n",
      "        )\r\n",
      "        assert dummy_handler.headers == {\r\n",
      "            'Content-Type': 'application/json',\r\n",
      "            'Authorization': 'Bearer SOME_TOKEN',\r\n",
      "        }\r\n",
      "        assert dummy_handler.title == HIPCHAT_DEFAULT_TITLE\r\n",
      "\r\n",
      "    def test__make_payload(self, dummy_handler):\r\n",
      "        \"\"\"\r\n",
      "        This test verifies that the data payload for the request that is sent\r\n",
      "        to the hipchat API is properly constructed and encoded\r\n",
      "\r\n",
      "        .. todo::\r\n",
      "            * test long (>500 char) messages\r\n",
      "            * test timestamp id\r\n",
      "        \"\"\"\r\n",
      "        pass\r\n",
      "\r\n",
      "    def test_integration(self, monkeypatch, dummy_handler):\r\n",
      "        \"\"\"\r\n",
      "        This test verifies that the HipchatHandler integrates correctly with\r\n",
      "        the logging module and that a request is posted to the hipchat api\r\n",
      "        when a logging message at or above the level that the handler is\r\n",
      "        initialized with\r\n",
      "        \"\"\"\r\n",
      "        results = []\r\n",
      "\r\n",
      "        def mock_post(url, headers=[], data={}):\r\n",
      "            Result = collections.namedtuple('Result', ['status_code'])\r\n",
      "            results.append(data)\r\n",
      "            return Result(status_code=204)\r\n",
      "\r\n",
      "        monkeypatch.setattr(requests, 'post', mock_post)\r\n",
      "\r\n",
      "        self.logger.error(\"test error message\")\r\n",
      "        assert len(results) == 1\r\n",
      "        result_data = results.pop()\r\n",
      "\r\n",
      "        computed_data = json.loads(result_data)\r\n",
      "        assert computed_data['color'] == 'red'\r\n",
      "        assert computed_data['notify']\r\n",
      "        assert computed_data['message'] == '<b>ERROR</b> {}'.format(HIPCHAT_DEFAULT_TITLE)  # noqa\r\n"
     ]
    }
   ],
   "source": [
    "! cat $stuff_dir/test_handler_with_noqa.py"
   ]
  },
  {
   "cell_type": "code",
   "execution_count": 19,
   "metadata": {
    "collapsed": false,
    "slideshow": {
     "slide_type": "slide"
    }
   },
   "outputs": [],
   "source": [
    "! cp $stuff_dir/test_handler_with_noqa.py tests/test_handler.py\n",
    "! flake8 tests"
   ]
  },
  {
   "cell_type": "markdown",
   "metadata": {
    "slideshow": {
     "slide_type": "slide"
    }
   },
   "source": [
    "## Adding Documentation\n",
    "Documentation is important for any open source package. For packages of any degree of complexity, documentation **must** extend beyond comments in your code and your README. A lot of times folks avoid writing documentation because getting it all set up is tricky.\n",
    "\n",
    "The thing is: it isn't"
   ]
  },
  {
   "cell_type": "markdown",
   "metadata": {
    "slideshow": {
     "slide_type": "slide"
    }
   },
   "source": [
    "Most of the Python universe uses [Sphinx](http://www.sphinx-doc.org/en/stable/) for building documentation. Sphinx has a lot of useful plugins, but the one I'm most partial to is called [apidoc](http://www.sphinx-doc.org/en/1.5.1/man/sphinx-apidoc.html). The apidoc plugin can produce documentation pages from your projects module, class, and function docstrings.\n",
    "\n",
    "This is great because it means your api documenation is produced dynamically, and it encourages you to write good docstrings!"
   ]
  },
  {
   "cell_type": "markdown",
   "metadata": {
    "slideshow": {
     "slide_type": "slide"
    }
   },
   "source": [
    "There's some scaffolding that needs to be put into place first, and Sphinx offers a nice tool that will get you started quickly. It's called sphinx-quickstart. Sphinx-quickstart is an interactive tool that will ask you about what options you want. It produces some boiler-plate doc structure, and, most importantly, it produces a config file for sphinx.\n",
    "\n",
    "You can also specify all of the options on the command line, which I'm going to do here.\n",
    "\n",
    "Don't be intimidated by all the options. We're only going override a few defaults, and we're going to blow a lot of stuff away. So, buckle up!"
   ]
  },
  {
   "cell_type": "code",
   "execution_count": 20,
   "metadata": {
    "collapsed": false,
    "scrolled": true,
    "slideshow": {
     "slide_type": "slide"
    }
   },
   "outputs": [
    {
     "name": "stdout",
     "output_type": "stream",
     "text": [
      "Sphinx v1.5.2\r\n",
      "Usage: sphinx-quickstart [options] [projectdir]\r\n",
      "\r\n",
      "Options:\r\n",
      "  --version             show program's version number and exit\r\n",
      "  -h, --help            show this help message and exit\r\n",
      "  -q, --quiet           quiet mode\r\n",
      "\r\n",
      "  Structure options:\r\n",
      "    --sep               if specified, separate source and build dirs\r\n",
      "    --dot=DOT           replacement for dot in _templates etc.\r\n",
      "\r\n",
      "  Project basic options:\r\n",
      "    -p PROJECT, --project=PROJECT\r\n",
      "                        project name\r\n",
      "    -a AUTHOR, --author=AUTHOR\r\n",
      "                        author names\r\n",
      "    -v VERSION          version of project\r\n",
      "    -r RELEASE, --release=RELEASE\r\n",
      "                        release of project\r\n",
      "    -l LANGUAGE, --language=LANGUAGE\r\n",
      "                        document language\r\n",
      "    --suffix=SUFFIX     source file suffix\r\n",
      "    --master=MASTER     master document name\r\n",
      "    --epub              use epub\r\n",
      "\r\n",
      "  Extension options:\r\n",
      "    --ext-autodoc       enable autodoc extension\r\n",
      "    --ext-doctest       enable doctest extension\r\n",
      "    --ext-intersphinx   enable intersphinx extension\r\n",
      "    --ext-todo          enable todo extension\r\n",
      "    --ext-coverage      enable coverage extension\r\n",
      "    --ext-imgmath       enable imgmath extension\r\n",
      "    --ext-mathjax       enable mathjax extension\r\n",
      "    --ext-ifconfig      enable ifconfig extension\r\n",
      "    --ext-viewcode      enable viewcode extension\r\n",
      "    --ext-githubpages   enable githubpages extension\r\n",
      "    --extensions=EXTENSIONS\r\n",
      "                        enable extensions\r\n",
      "\r\n",
      "  Makefile and Batchfile creation:\r\n",
      "    --makefile          create makefile\r\n",
      "    --no-makefile       not create makefile\r\n",
      "    --batchfile         create batchfile\r\n",
      "    --no-batchfile      not create batchfile\r\n",
      "    -M, --no-use-make-mode\r\n",
      "                        not use make-mode for Makefile/make.bat\r\n",
      "    -m, --use-make-mode\r\n",
      "                        use make-mode for Makefile/make.bat\r\n",
      "\r\n",
      "  Project templating:\r\n",
      "    -t TEMPLATEDIR, --templatedir=TEMPLATEDIR\r\n",
      "                        template directory for template files\r\n",
      "    -d NAME=VALUE       define a template variable\r\n",
      "\r\n",
      "For more information, visit <http://sphinx-doc.org/>.\r\n"
     ]
    }
   ],
   "source": [
    "! sphinx-quickstart --help"
   ]
  },
  {
   "cell_type": "code",
   "execution_count": 21,
   "metadata": {
    "collapsed": false,
    "slideshow": {
     "slide_type": "slide"
    }
   },
   "outputs": [
    {
     "name": "stdout",
     "output_type": "stream",
     "text": [
      "Creating file docs/source/conf.py.\r\n",
      "Creating file docs/source/index.rst.\r\n",
      "\r\n",
      "\u001b[01mFinished: An initial directory structure has been created.\u001b[39;49;00m\r\n",
      "\r\n",
      "You should now populate your master file docs/source/index.rst and create other documentation\r\n",
      "source files. Use the sphinx-build command to build the docs, like so:\r\n",
      "   sphinx-build -b builder docs/source docs/build\r\n",
      "where \"builder\" is one of the supported builders, e.g. html, latex or linkcheck.\r\n",
      "\r\n"
     ]
    }
   ],
   "source": [
    "docs_dir = os.path.join(root_dir, 'docs')\n",
    "\n",
    "# --sep tells quickstart to separate out the docs source and build directories\n",
    "# I'll explain the CHANGEME values shortly\n",
    "# -v is for the project version, not to be confused with the sphinx-quickstart --version option...\n",
    "# I have _opinions_ about makefiles, but we won't need these anyway\n",
    "# The same goes for windows batch files\n",
    "! sphinx-quickstart \\\n",
    "--sep               \\\n",
    "--project=CHANGEME  \\\n",
    "--author=CHANGEME   \\\n",
    "-v CHANGEME         \\\n",
    "--release=CHANGEME  \\\n",
    "--language=en       \\\n",
    "--suffix=.rst       \\\n",
    "--master=index      \\\n",
    "--ext-autodoc       \\\n",
    "--no-makefile       \\\n",
    "--no-batchfile      \\\n",
    "--quiet             \\\n",
    "$docs_dir"
   ]
  },
  {
   "cell_type": "markdown",
   "metadata": {
    "slideshow": {
     "slide_type": "slide"
    }
   },
   "source": [
    "The first thing I'm going to do is to do away with the build directory. In this talk, I'm going to follow my usual script which is to build and host my documentation elsewhere, so I will never actually build the docs pages locally. I'm also going to then move the contents of the source directory directly into docs, since there won't be any need for another level of folder containment:"
   ]
  },
  {
   "cell_type": "code",
   "execution_count": 22,
   "metadata": {
    "collapsed": false,
    "scrolled": true,
    "slideshow": {
     "slide_type": "slide"
    }
   },
   "outputs": [
    {
     "name": "stdout",
     "output_type": "stream",
     "text": [
      "\u001b[34m_static\u001b[m\u001b[m    \u001b[34m_templates\u001b[m\u001b[m conf.py    index.rst\n",
      "#!/usr/bin/env python3\n",
      "# -*- coding: utf-8 -*-\n",
      "#\n",
      "# CHANGEME documentation build configuration file, created by\n",
      "# sphinx-quickstart on Wed Jan 25 17:25:57 2017.\n",
      "#\n",
      "# This file is execfile()d with the current directory set to its\n",
      "# containing dir.\n",
      "#\n",
      "# Note that not all possible configuration values are present in this\n",
      "# autogenerated file.\n",
      "#\n",
      "# All configuration values have a default; values that are commented out\n",
      "# serve to show the default.\n",
      "\n",
      "# If extensions (or modules to document with autodoc) are in another directory,\n",
      "# add these directories to sys.path here. If the directory is relative to the\n",
      "# documentation root, use os.path.abspath to make it absolute, like shown here.\n",
      "#\n",
      "# import os\n",
      "# import sys\n",
      "# sys.path.insert(0, os.path.abspath('.'))\n",
      "\n",
      "\n",
      "# -- General configuration ------------------------------------------------\n",
      "\n",
      "# If your documentation needs a minimal Sphinx version, state it here.\n",
      "#\n",
      "# needs_sphinx = '1.0'\n",
      "\n",
      "# Add any Sphinx extension module names here, as strings. They can be\n",
      "# extensions coming with Sphinx (named 'sphinx.ext.*') or your custom\n",
      "# ones.\n",
      "extensions = ['sphinx.ext.autodoc']\n",
      "\n",
      "# Add any paths that contain templates here, relative to this directory.\n",
      "templates_path = ['_templates']\n",
      "\n",
      "# The suffix(es) of source filenames.\n",
      "# You can specify multiple suffix as a list of string:\n",
      "#\n",
      "# source_suffix = ['.rst', '.md']\n",
      "source_suffix = '.rst'\n",
      "\n",
      "# The master toctree document.\n",
      "master_doc = 'index'\n",
      "\n",
      "# General information about the project.\n",
      "project = 'CHANGEME'\n",
      "copyright = '2017, CHANGEME'\n",
      "author = 'CHANGEME'\n",
      "\n",
      "# The version info for the project you're documenting, acts as replacement for\n",
      "# |version| and |release|, also used in various other places throughout the\n",
      "# built documents.\n",
      "#\n",
      "# The short X.Y version.\n",
      "version = 'CHANGEME'\n",
      "# The full version, including alpha/beta/rc tags.\n",
      "release = 'CHANGEME'\n",
      "\n",
      "# The language for content autogenerated by Sphinx. Refer to documentation\n",
      "# for a list of supported languages.\n",
      "#\n",
      "# This is also used if you do content translation via gettext catalogs.\n",
      "# Usually you set \"language\" from the command line for these cases.\n",
      "language = 'en'\n",
      "\n",
      "# List of patterns, relative to source directory, that match files and\n",
      "# directories to ignore when looking for source files.\n",
      "# This patterns also effect to html_static_path and html_extra_path\n",
      "exclude_patterns = []\n",
      "\n",
      "# The name of the Pygments (syntax highlighting) style to use.\n",
      "pygments_style = 'sphinx'\n",
      "\n",
      "# If true, `todo` and `todoList` produce output, else they produce nothing.\n",
      "todo_include_todos = False\n",
      "\n",
      "\n",
      "# -- Options for HTML output ----------------------------------------------\n",
      "\n",
      "# The theme to use for HTML and HTML Help pages.  See the documentation for\n",
      "# a list of builtin themes.\n",
      "#\n",
      "html_theme = 'alabaster'\n",
      "\n",
      "# Theme options are theme-specific and customize the look and feel of a theme\n",
      "# further.  For a list of options available for each theme, see the\n",
      "# documentation.\n",
      "#\n",
      "# html_theme_options = {}\n",
      "\n",
      "# Add any paths that contain custom static files (such as style sheets) here,\n",
      "# relative to this directory. They are copied after the builtin static files,\n",
      "# so a file named \"default.css\" will overwrite the builtin \"default.css\".\n",
      "html_static_path = ['_static']\n",
      "\n",
      "\n",
      "# -- Options for HTMLHelp output ------------------------------------------\n",
      "\n",
      "# Output file base name for HTML help builder.\n",
      "htmlhelp_basename = 'CHANGEMEdoc'\n",
      "\n",
      "\n",
      "# -- Options for LaTeX output ---------------------------------------------\n",
      "\n",
      "latex_elements = {\n",
      "    # The paper size ('letterpaper' or 'a4paper').\n",
      "    #\n",
      "    # 'papersize': 'letterpaper',\n",
      "\n",
      "    # The font size ('10pt', '11pt' or '12pt').\n",
      "    #\n",
      "    # 'pointsize': '10pt',\n",
      "\n",
      "    # Additional stuff for the LaTeX preamble.\n",
      "    #\n",
      "    # 'preamble': '',\n",
      "\n",
      "    # Latex figure (float) alignment\n",
      "    #\n",
      "    # 'figure_align': 'htbp',\n",
      "}\n",
      "\n",
      "# Grouping the document tree into LaTeX files. List of tuples\n",
      "# (source start file, target name, title,\n",
      "#  author, documentclass [howto, manual, or own class]).\n",
      "latex_documents = [\n",
      "    (master_doc, 'CHANGEME.tex', 'CHANGEME Documentation',\n",
      "     'CHANGEME', 'manual'),\n",
      "]\n",
      "\n",
      "\n",
      "# -- Options for manual page output ---------------------------------------\n",
      "\n",
      "# One entry per manual page. List of tuples\n",
      "# (source start file, name, description, authors, manual section).\n",
      "man_pages = [\n",
      "    (master_doc, 'changeme', 'CHANGEME Documentation',\n",
      "     [author], 1)\n",
      "]\n",
      "\n",
      "\n",
      "# -- Options for Texinfo output -------------------------------------------\n",
      "\n",
      "# Grouping the document tree into Texinfo files. List of tuples\n",
      "# (source start file, target name, title, author,\n",
      "#  dir menu entry, description, category)\n",
      "texinfo_documents = [\n",
      "    (master_doc, 'CHANGEME', 'CHANGEME Documentation',\n",
      "     author, 'CHANGEME', 'One line description of project.',\n",
      "     'Miscellaneous'),\n",
      "]\n",
      "\n",
      "\n",
      "\n"
     ]
    }
   ],
   "source": [
    "! rm -rf $docs_dir/build\n",
    "! mv $docs_dir/source/* $docs_dir/\n",
    "! rm -rf $docs_dir/source\n",
    "! ls $docs_dir/\n",
    "! cat $docs_dir/conf.py"
   ]
  },
  {
   "cell_type": "markdown",
   "metadata": {
    "slideshow": {
     "slide_type": "slide"
    }
   },
   "source": [
    "Next, I'm I'm going to change the generated conf.py file so that it will use our dynamic .project_metadata.json\n",
    "\n",
    "This is a convenient thing to do, because it allows us to keep metadata in one place so that our docs pages and setup.py always agree:\n",
    "\n",
    "While I'm at it, I'm going to remove the options for LaTeX, man pages, and Texinfo output since we won't be using those:"
   ]
  },
  {
   "cell_type": "code",
   "execution_count": 48,
   "metadata": {
    "collapsed": false,
    "slideshow": {
     "slide_type": "slide"
    }
   },
   "outputs": [
    {
     "name": "stdout",
     "output_type": "stream",
     "text": [
      "#!/usr/bin/env python3\r\n",
      "# -*- coding: utf-8 -*-\r\n",
      "#\r\n",
      "# CHANGEME documentation build configuration file, created by\r\n",
      "# sphinx-quickstart on Wed Jan 25 10:55:21 2017.\r\n",
      "#\r\n",
      "# This file is execfile()d with the current directory set to its\r\n",
      "# containing dir.\r\n",
      "#\r\n",
      "# Note that not all possible configuration values are present in this\r\n",
      "# autogenerated file.\r\n",
      "#\r\n",
      "# All configuration values have a default; values that are commented out\r\n",
      "# serve to show the default.\r\n",
      "\r\n",
      "# If extensions (or modules to document with autodoc) are in another directory,\r\n",
      "# add these directories to sys.path here. If the directory is relative to the\r\n",
      "# documentation root, use os.path.abspath to make it absolute, like shown here.\r\n",
      "\r\n",
      "import json\r\n",
      "import os\r\n",
      "import setuptools\r\n",
      "import sys\r\n",
      "\r\n",
      "# There's some magic here, but, in short, this loads the project metadata\r\n",
      "# and adds the source package and sub-packages to the sys path for apidoc\r\n",
      "project_root = os.path.dirname(os.path.dirname(__file__))\r\n",
      "with open(os.path.join(project_root, '.project_metadata.json')) as meta_file:\r\n",
      "    project_metadata = json.loads(meta_file.read())\r\n",
      "packages = setuptools.find_packages(where=project_root, exclude=['test*'])\r\n",
      "unique_roots = set([p.split('.')[0] for p in packages])\r\n",
      "full_paths = [os.path.join(project_root, p) for p in unique_roots]\r\n",
      "[sys.path.insert(0, p) for p in full_paths]\r\n",
      "\r\n",
      "\r\n",
      "# -- General configuration ------------------------------------------------\r\n",
      "\r\n",
      "# If your documentation needs a minimal Sphinx version, state it here.\r\n",
      "#\r\n",
      "# needs_sphinx = '1.0'\r\n",
      "\r\n",
      "# Add any Sphinx extension module names here, as strings. They can be\r\n",
      "# extensions coming with Sphinx (named 'sphinx.ext.*') or your custom\r\n",
      "# ones.\r\n",
      "extensions = ['sphinx.ext.autodoc']\r\n",
      "\r\n",
      "# Add any paths that contain templates here, relative to this directory.\r\n",
      "templates_path = ['_templates']\r\n",
      "\r\n",
      "# The suffix(es) of source filenames.\r\n",
      "# You can specify multiple suffix as a list of string:\r\n",
      "#\r\n",
      "# source_suffix = ['.rst', '.md']\r\n",
      "source_suffix = '.rst'\r\n",
      "\r\n",
      "# The master toctree document.\r\n",
      "master_doc = 'index'\r\n",
      "\r\n",
      "# General information about the project.\r\n",
      "project = project_metadata['author']\r\n",
      "copyright = project_metadata['copyright']\r\n",
      "author = project_metadata['author']\r\n",
      "\r\n",
      "# The version info for the project you're documenting, acts as replacement for\r\n",
      "# |version| and |release|, also used in various other places throughout the\r\n",
      "# built documents.\r\n",
      "#\r\n",
      "# The short X.Y version.\r\n",
      "version = project_metadata['version']\r\n",
      "# The full version, including alpha/beta/rc tags.\r\n",
      "release = project_metadata['release']\r\n",
      "\r\n",
      "# The language for content autogenerated by Sphinx. Refer to documentation\r\n",
      "# for a list of supported languages.\r\n",
      "#\r\n",
      "# This is also used if you do content translation via gettext catalogs.\r\n",
      "# Usually you set \"language\" from the command line for these cases.\r\n",
      "language = 'en'\r\n",
      "\r\n",
      "# List of patterns, relative to source directory, that match files and\r\n",
      "# directories to ignore when looking for source files.\r\n",
      "# This patterns also effect to html_static_path and html_extra_path\r\n",
      "exclude_patterns = []\r\n",
      "\r\n",
      "# The name of the Pygments (syntax highlighting) style to use.\r\n",
      "pygments_style = 'sphinx'\r\n",
      "\r\n",
      "# If true, `todo` and `todoList` produce output, else they produce nothing.\r\n",
      "todo_include_todos = False\r\n",
      "\r\n",
      "\r\n",
      "# -- Options for HTML output ----------------------------------------------\r\n",
      "\r\n",
      "# The theme to use for HTML and HTML Help pages.  See the documentation for\r\n",
      "# a list of builtin themes.\r\n",
      "#\r\n",
      "html_theme = 'alabaster'\r\n",
      "\r\n",
      "# Theme options are theme-specific and customize the look and feel of a theme\r\n",
      "# further.  For a list of options available for each theme, see the\r\n",
      "# documentation.\r\n",
      "#\r\n",
      "# html_theme_options = {}\r\n",
      "\r\n",
      "# Add any paths that contain custom static files (such as style sheets) here,\r\n",
      "# relative to this directory. They are copied after the builtin static files,\r\n",
      "# so a file named \"default.css\" will overwrite the builtin \"default.css\".\r\n",
      "html_static_path = ['_static']\r\n",
      "\r\n",
      "\r\n",
      "# -- Options for HTMLHelp output ------------------------------------------\r\n",
      "\r\n",
      "# Output file base name for HTML help builder.\r\n",
      "htmlhelp_basename = project_metadata['name'] + 'doc'\r\n"
     ]
    }
   ],
   "source": [
    "! cp $stuff_dir/conf.py $docs_dir\n",
    "! cat $docs_dir/conf.py"
   ]
  },
  {
   "cell_type": "markdown",
   "metadata": {
    "slideshow": {
     "slide_type": "slide"
    }
   },
   "source": [
    "Next, we're going to generate the api documentation using the sphinx-apidoc tool:"
   ]
  },
  {
   "cell_type": "code",
   "execution_count": 24,
   "metadata": {
    "collapsed": false,
    "scrolled": true,
    "slideshow": {
     "slide_type": "slide"
    }
   },
   "outputs": [
    {
     "name": "stdout",
     "output_type": "stream",
     "text": [
      "Usage: sphinx-apidoc [options] -o <output_path> <module_path> [exclude_pattern, ...]\r\n",
      "\r\n",
      "Look recursively in <module_path> for Python modules and packages and create\r\n",
      "one reST file with automodule directives per package in the <output_path>.\r\n",
      "\r\n",
      "The <exclude_pattern>s can be file and/or directory patterns that will be\r\n",
      "excluded from generation.\r\n",
      "\r\n",
      "Note: By default this script will not overwrite already created files.\r\n",
      "\r\n",
      "Options:\r\n",
      "  -h, --help            show this help message and exit\r\n",
      "  -o DESTDIR, --output-dir=DESTDIR\r\n",
      "                        Directory to place all output\r\n",
      "  -d MAXDEPTH, --maxdepth=MAXDEPTH\r\n",
      "                        Maximum depth of submodules to show in the TOC\r\n",
      "                        (default: 4)\r\n",
      "  -f, --force           Overwrite existing files\r\n",
      "  -l, --follow-links    Follow symbolic links. Powerful when combined with\r\n",
      "                        collective.recipe.omelette.\r\n",
      "  -n, --dry-run         Run the script without creating files\r\n",
      "  -e, --separate        Put documentation for each module on its own page\r\n",
      "  -P, --private         Include \"_private\" modules\r\n",
      "  -T, --no-toc          Don't create a table of contents file\r\n",
      "  -E, --no-headings     Don't create headings for the module/package packages\r\n",
      "                        (e.g. when the docstrings already contain them)\r\n",
      "  -M, --module-first    Put module documentation before submodule\r\n",
      "                        documentation\r\n",
      "  --implicit-namespaces\r\n",
      "                        Interpret module paths according to PEP-0420 implicit\r\n",
      "                        namespaces specification\r\n",
      "  -s SUFFIX, --suffix=SUFFIX\r\n",
      "                        file suffix (default: rst)\r\n",
      "  -F, --full            Generate a full project with sphinx-quickstart\r\n",
      "  -a, --append-syspath  Append module_path to sys.path, used when --full is\r\n",
      "                        given\r\n",
      "  -H HEADER, --doc-project=HEADER\r\n",
      "                        Project name (default: root module name)\r\n",
      "  -A AUTHOR, --doc-author=AUTHOR\r\n",
      "                        Project author(s), used when --full is given\r\n",
      "  -V VERSION, --doc-version=VERSION\r\n",
      "                        Project version, used when --full is given\r\n",
      "  -R RELEASE, --doc-release=RELEASE\r\n",
      "                        Project release, used when --full is given, defaults\r\n",
      "                        to --doc-version\r\n",
      "  --version             Show version information and exit\r\n"
     ]
    }
   ],
   "source": [
    "! sphinx-apidoc --help"
   ]
  },
  {
   "cell_type": "code",
   "execution_count": 25,
   "metadata": {
    "collapsed": false,
    "slideshow": {
     "slide_type": "slide"
    }
   },
   "outputs": [
    {
     "name": "stdout",
     "output_type": "stream",
     "text": [
      "Creating file docs/hippy_chat.rst.\r\n",
      "Creating file docs/hippy_chat.exec.rst.\r\n",
      "Creating file docs/modules.rst.\r\n"
     ]
    }
   ],
   "source": [
    "# I like to restrict the TOC depth to 2. For this talk, that won't matter\n",
    "# --force because, why not?\n",
    "# for large projects with lots of modules and docs, use separate. For this, no\n",
    "# generally, you shouldn't use the --private flags...I mean, 'private' methods are private for a reason, right?\n",
    "# I don't really understand **why** you wouldn't want your module documentation before it's submodules...\n",
    "! sphinx-apidoc    \\\n",
    "--output-dir=docs  \\\n",
    "--maxdepth=2       \\\n",
    "--force            \\\n",
    "--module-first     \\\n",
    "--suffix=.rst      \\\n",
    "hippy_chat"
   ]
  },
  {
   "cell_type": "markdown",
   "metadata": {
    "slideshow": {
     "slide_type": "slide"
    }
   },
   "source": [
    "_I always delete modules.rst. Can't see where it's really every needed or even used_.\n",
    "\n",
    "The generated module pages are not interesting and don't really need to be modified:"
   ]
  },
  {
   "cell_type": "code",
   "execution_count": 26,
   "metadata": {
    "collapsed": false,
    "scrolled": true,
    "slideshow": {
     "slide_type": "slide"
    }
   },
   "outputs": [
    {
     "name": "stdout",
     "output_type": "stream",
     "text": [
      "hippy_chat package\n",
      "==================\n",
      "\n",
      ".. automodule:: hippy_chat\n",
      "    :members:\n",
      "    :undoc-members:\n",
      "    :show-inheritance:\n",
      "\n",
      "Subpackages\n",
      "-----------\n",
      "\n",
      ".. toctree::\n",
      "\n",
      "    hippy_chat.exec\n",
      "\n",
      "Submodules\n",
      "----------\n",
      "\n",
      "hippy_chat.handler module\n",
      "-------------------------\n",
      "\n",
      ".. automodule:: hippy_chat.handler\n",
      "    :members:\n",
      "    :undoc-members:\n",
      "    :show-inheritance:\n",
      "\n",
      "\n",
      "hippy_chat.exec package\n",
      "=======================\n",
      "\n",
      ".. automodule:: hippy_chat.exec\n",
      "    :members:\n",
      "    :undoc-members:\n",
      "    :show-inheritance:\n",
      "\n",
      "Submodules\n",
      "----------\n",
      "\n",
      "hippy_chat.exec.demo module\n",
      "---------------------------\n",
      "\n",
      ".. automodule:: hippy_chat.exec.demo\n",
      "    :members:\n",
      "    :undoc-members:\n",
      "    :show-inheritance:\n",
      "\n",
      "\n"
     ]
    }
   ],
   "source": [
    "! rm $docs_dir/modules.rst\n",
    "! cat $docs_dir/hippy_chat.rst\n",
    "! cat $docs_dir/hippy_chat.exec.rst"
   ]
  },
  {
   "cell_type": "markdown",
   "metadata": {
    "slideshow": {
     "slide_type": "slide"
    }
   },
   "source": [
    "I like to write an overview as a separate document. It should include mostly the same data as the README, but embedded in the docs pages instead. It should be simple, and just go over the functionality that your package provides\n",
    "\n",
    "**Note**: Do not try to `include` or link to README from your doc pages. It doesn't work well, and includes are not supported universally\n"
   ]
  },
  {
   "cell_type": "code",
   "execution_count": 27,
   "metadata": {
    "collapsed": false,
    "scrolled": true,
    "slideshow": {
     "slide_type": "slide"
    }
   },
   "outputs": [
    {
     "name": "stdout",
     "output_type": "stream",
     "text": [
      "Overview\r\n",
      "========\r\n",
      "\r\n",
      "This package provides a logging handler that can send messages to a hipchat\r\n",
      "room in the form of notifications.\r\n",
      "\r\n",
      "It makes use of Hipchat's `API <https://www.hipchat.com/docs/apiv2>`_ to post\r\n",
      "notifications to a hipchat server and room of your choosing.\r\n",
      "\r\n",
      "The handler works like a standard logging handler, and may be set up with its\r\n",
      "own formatter and log level.\r\n",
      "\r\n",
      "Note that messages posted to the chat room can be at most 3 lines of text.\r\n",
      "However, the notification can be supplied with a url link. This could be used\r\n",
      "to show more information about the error such as with an error aggregator like\r\n",
      "Sentry or to show the full log messages with a tool like Splunk.\r\n"
     ]
    }
   ],
   "source": [
    "! cp $stuff_dir/overview.rst $docs_dir/\n",
    "! cat $docs_dir/overview.rst"
   ]
  },
  {
   "cell_type": "markdown",
   "metadata": {
    "slideshow": {
     "slide_type": "slide"
    }
   },
   "source": [
    "It's also nice to have a Quickstart document to help your users get going with your package quickly:"
   ]
  },
  {
   "cell_type": "code",
   "execution_count": 28,
   "metadata": {
    "collapsed": false,
    "scrolled": true,
    "slideshow": {
     "slide_type": "slide"
    }
   },
   "outputs": [
    {
     "name": "stdout",
     "output_type": "stream",
     "text": [
      "Quickstart\r\n",
      "==========\r\n",
      "\r\n",
      "Requirements\r\n",
      "------------\r\n",
      "\r\n",
      "* Python 3\r\n",
      "\r\n",
      "Installation\r\n",
      "------------\r\n",
      "\r\n",
      "Install from pypi\r\n",
      ".................\r\n",
      "This will install the latest release of hippy-chat from pypi via pip::\r\n",
      "\r\n",
      "$ pip install hippy-chat\r\n",
      "\r\n",
      "Install latest version from github\r\n",
      "..................................\r\n",
      "If you would like a version other than the latest published on pypi, you may\r\n",
      "do so by cloning the git repostiory::\r\n",
      "\r\n",
      "$ git clone https://github.com/dusktreader/hippy-chat.git\r\n",
      "\r\n",
      "Next, checkout the branch or tag that you wish to use::\r\n",
      "\r\n",
      "$ cd sphinx-view\r\n",
      "$ git checkout integration\r\n",
      "\r\n",
      "Finally, use pip to install from the local directory::\r\n",
      "\r\n",
      "$ pip install .\r\n",
      "\r\n",
      ".. note::\r\n",
      "\r\n",
      "   sphinx-view does not support distutils or setuptools. pip is a really\r\n",
      "   complete package manager and has become the de-facto standard for installing\r\n",
      "   python packages from remote locations. Compatability with pip is of primary\r\n",
      "   importance, and since pip is such a great tool, it makes the most sense to\r\n",
      "   the original author to use pip for local installs as well.\r\n",
      "\r\n",
      "View a single document\r\n",
      "----------------------\r\n",
      "Just execute ``sphinx-view`` targeting the file you wish to view in a browser::\r\n",
      "\r\n",
      "$ sphinx-view README.rst\r\n",
      "\r\n",
      "A new page will open in your browser showing the html rendered document.\r\n",
      "\r\n",
      "sphinx-view will automatically refresh the browser if you make any changes to\r\n",
      "the document, so you can view the file as you edit it.\r\n",
      "\r\n",
      "View a directory\r\n",
      "----------------\r\n",
      "This feature is most useful for looking at the rendered version of docs for a\r\n",
      "python package. Simply target the directory with ``spinx-view`` and everything\r\n",
      "should just work::\r\n",
      "\r\n",
      "$ sphinx-view docs\r\n",
      "\r\n",
      "For a directory, ``sphinx-view`` will watch for changes to any of the files\r\n",
      "and update the browser with new changes\r\n"
     ]
    }
   ],
   "source": [
    "! cp $stuff_dir/quickstart.rst $docs_dir/\n",
    "! cat $docs_dir/quickstart.rst"
   ]
  },
  {
   "cell_type": "markdown",
   "metadata": {
    "slideshow": {
     "slide_type": "slide"
    }
   },
   "source": [
    "Finally, you will want to basically rebuild your index page. I like to set it up like this:"
   ]
  },
  {
   "cell_type": "code",
   "execution_count": 29,
   "metadata": {
    "collapsed": false,
    "scrolled": true,
    "slideshow": {
     "slide_type": "slide"
    }
   },
   "outputs": [
    {
     "name": "stdout",
     "output_type": "stream",
     "text": [
      "*************\r\n",
      " hippy-chat\r\n",
      "*************\r\n",
      "\r\n",
      "------------------------------------------------\r\n",
      "See python logging messages in your hipchat room\r\n",
      "------------------------------------------------\r\n",
      "\r\n",
      ".. include:: overview.rst\r\n",
      "\r\n",
      "Table of Contents\r\n",
      "=================\r\n",
      "\r\n",
      ".. toctree::\r\n",
      "   :glob:\r\n",
      "   :maxdepth: 2\r\n",
      "   :caption: Contents:\r\n",
      "\r\n",
      "   Quickstart <quickstart>\r\n",
      "   API <hippy_chat>\r\n"
     ]
    }
   ],
   "source": [
    "! cp $stuff_dir/index.rst docs/\n",
    "! cat docs/index.rst"
   ]
  },
  {
   "cell_type": "markdown",
   "metadata": {
    "slideshow": {
     "slide_type": "slide"
    }
   },
   "source": [
    "Now that the docs are all built, wanna see what your rendered docs will look? I have an app for that.\n",
    "\n",
    "I used to use the [restview](https://pypi.python.org/pypi/restview) app to view ReStructuredText files as I edited them. It's an awesome app, but it doesn't use sphinx to render. And I wanted to see sphinx doucments.\n",
    "\n",
    "So, for fun, I built an app that can do it. There's some fun backstory there, but the long and the short of it is that [sphninx-view](http://sphinx-view.readthedocs.io/en/latest/) works pretty well for this:"
   ]
  },
  {
   "cell_type": "code",
   "execution_count": 30,
   "metadata": {
    "collapsed": false,
    "scrolled": true,
    "slideshow": {
     "slide_type": "slide"
    }
   },
   "outputs": [
    {
     "name": "stdout",
     "output_type": "stream",
     "text": [
      "Requirement already satisfied: sphinx-view in /Users/tbeck/.virtualenvs/pip-install-this/lib/python3.5/site-packages\n",
      "Requirement already satisfied: sphinx in /Users/tbeck/.virtualenvs/pip-install-this/lib/python3.5/site-packages (from sphinx-view)\n",
      "Requirement already satisfied: py-buzz in /Users/tbeck/.virtualenvs/pip-install-this/lib/python3.5/site-packages (from sphinx-view)\n",
      "Requirement already satisfied: livereload in /Users/tbeck/.virtualenvs/pip-install-this/lib/python3.5/site-packages (from sphinx-view)\n",
      "Requirement already satisfied: inflection in /Users/tbeck/.virtualenvs/pip-install-this/lib/python3.5/site-packages (from sphinx-view)\n",
      "Requirement already satisfied: Flask in /Users/tbeck/.virtualenvs/pip-install-this/lib/python3.5/site-packages (from sphinx-view)\n",
      "Requirement already satisfied: docutils>=0.11 in /Users/tbeck/.virtualenvs/pip-install-this/lib/python3.5/site-packages (from sphinx->sphinx-view)\n",
      "Requirement already satisfied: alabaster<0.8,>=0.7 in /Users/tbeck/.virtualenvs/pip-install-this/lib/python3.5/site-packages (from sphinx->sphinx-view)\n",
      "Requirement already satisfied: Jinja2>=2.3 in /Users/tbeck/.virtualenvs/pip-install-this/lib/python3.5/site-packages (from sphinx->sphinx-view)\n",
      "Requirement already satisfied: six>=1.5 in /Users/tbeck/.virtualenvs/pip-install-this/lib/python3.5/site-packages (from sphinx->sphinx-view)\n",
      "Requirement already satisfied: requests>=2.4.0 in /Users/tbeck/.virtualenvs/pip-install-this/lib/python3.5/site-packages (from sphinx->sphinx-view)\n",
      "Requirement already satisfied: babel!=2.0,>=1.3 in /Users/tbeck/.virtualenvs/pip-install-this/lib/python3.5/site-packages (from sphinx->sphinx-view)\n",
      "Requirement already satisfied: Pygments>=2.0 in /Users/tbeck/.virtualenvs/pip-install-this/lib/python3.5/site-packages (from sphinx->sphinx-view)\n",
      "Requirement already satisfied: snowballstemmer>=1.1 in /Users/tbeck/.virtualenvs/pip-install-this/lib/python3.5/site-packages (from sphinx->sphinx-view)\n",
      "Requirement already satisfied: imagesize in /Users/tbeck/.virtualenvs/pip-install-this/lib/python3.5/site-packages (from sphinx->sphinx-view)\n",
      "Requirement already satisfied: tornado in /Users/tbeck/.virtualenvs/pip-install-this/lib/python3.5/site-packages (from livereload->sphinx-view)\n",
      "Requirement already satisfied: itsdangerous>=0.21 in /Users/tbeck/.virtualenvs/pip-install-this/lib/python3.5/site-packages (from Flask->sphinx-view)\n",
      "Requirement already satisfied: click>=2.0 in /Users/tbeck/.virtualenvs/pip-install-this/lib/python3.5/site-packages (from Flask->sphinx-view)\n",
      "Requirement already satisfied: Werkzeug>=0.7 in /Users/tbeck/.virtualenvs/pip-install-this/lib/python3.5/site-packages (from Flask->sphinx-view)\n",
      "Requirement already satisfied: MarkupSafe>=0.23 in /Users/tbeck/.virtualenvs/pip-install-this/lib/python3.5/site-packages (from Jinja2>=2.3->sphinx->sphinx-view)\n",
      "Requirement already satisfied: pytz>=0a in /Users/tbeck/.virtualenvs/pip-install-this/lib/python3.5/site-packages (from babel!=2.0,>=1.3->sphinx->sphinx-view)\n"
     ]
    }
   ],
   "source": [
    "! pip install sphinx-view"
   ]
  },
  {
   "cell_type": "code",
   "execution_count": 31,
   "metadata": {
    "collapsed": false,
    "scrolled": true,
    "slideshow": {
     "slide_type": "slide"
    }
   },
   "outputs": [],
   "source": [
    "# ! sphinx-view $docs_dir"
   ]
  },
  {
   "cell_type": "markdown",
   "metadata": {
    "slideshow": {
     "slide_type": "slide"
    }
   },
   "source": [
    "## Gitting the code up to github\n",
    "I'm going to assume that folks listening to this talk are familiar with git and github. If you need to learn about these tools, you can [get started here](https://help.github.com/articles/git-and-github-learning-resources/). I'm going to skip these details in the interst of time.\n",
    "\n",
    "You should have a github account set up with an ssh key added already.\n",
    "\n",
    "The first thing you will need to do is [create a new repository](https://github.com/new) on github for your project"
   ]
  },
  {
   "cell_type": "markdown",
   "metadata": {
    "slideshow": {
     "slide_type": "slide"
    }
   },
   "source": [
    "Once that is done, we will need to:\n",
    "* initialize our directory as a git repo\n",
    "* add the *right* files to the repo\n",
    "* make our first commit\n",
    "* add the github repo as a remote\n",
    "* push our first commit up to github"
   ]
  },
  {
   "cell_type": "code",
   "execution_count": 32,
   "metadata": {
    "collapsed": false,
    "scrolled": true,
    "slideshow": {
     "slide_type": "slide"
    }
   },
   "outputs": [
    {
     "name": "stdout",
     "output_type": "stream",
     "text": [
      "Initialized empty Git repository in /Users/tbeck/work/hippy-chat/.git/\n",
      "[master (root-commit) 6472d0b] First commit\n",
      " 18 files changed, 601 insertions(+)\n",
      " create mode 100644 .hipchat.json\n",
      " create mode 100644 .project_metadata.json\n",
      " create mode 100644 CHANGELOG.rst\n",
      " create mode 100644 MANIFEST.in\n",
      " create mode 100644 README.rst\n",
      " create mode 100644 docs/conf.py\n",
      " create mode 100644 docs/hippy_chat.exec.rst\n",
      " create mode 100644 docs/hippy_chat.rst\n",
      " create mode 100644 docs/index.rst\n",
      " create mode 100644 docs/overview.rst\n",
      " create mode 100644 docs/quickstart.rst\n",
      " create mode 100644 hippy_chat/__init__.py\n",
      " create mode 100644 hippy_chat/exec/__init__.py\n",
      " create mode 100644 hippy_chat/exec/demo.py\n",
      " create mode 100644 hippy_chat/handler.py\n",
      " create mode 100644 setup.py\n",
      " create mode 100644 tests/__init__.py\n",
      " create mode 100644 tests/test_handler.py\n",
      "To git@github.com:pip-install-this/hippy-chat.git\n",
      " ! [rejected]        master -> master (fetch first)\n",
      "error: failed to push some refs to 'git@github.com:pip-install-this/hippy-chat.git'\n",
      "hint: Updates were rejected because the remote contains work that you do\n",
      "hint: not have locally. This is usually caused by another repository pushing\n",
      "hint: to the same ref. You may want to first integrate the remote changes\n",
      "hint: (e.g., 'git pull ...') before pushing again.\n",
      "hint: See the 'Note about fast-forwards' in 'git push --help' for details.\n"
     ]
    }
   ],
   "source": [
    "! git init\n",
    "! git add              \\\n",
    "CHANGELOG.rst          \\\n",
    "MANIFEST.in            \\\n",
    "README.rst             \\\n",
    "setup.py               \\\n",
    ".project_metadata.json \\\n",
    ".hipchat.json          \\\n",
    "docs/conf.py           \\\n",
    "docs/*.rst             \\\n",
    "hippy_chat/*.py        \\\n",
    "hippy_chat/exec/*.py   \\\n",
    "tests/*.py\n",
    "! git commit -m \"First commit\"\n",
    "! git remote add origin git@github.com:pip-install-this/hippy-chat.git\n",
    "! git push -u origin master"
   ]
  },
  {
   "cell_type": "markdown",
   "metadata": {
    "slideshow": {
     "slide_type": "slide"
    }
   },
   "source": [
    "Now we can see the hosted git repo at https://github.com/pip-install-this/hippy-chat"
   ]
  },
  {
   "cell_type": "markdown",
   "metadata": {
    "slideshow": {
     "slide_type": "slide"
    }
   },
   "source": [
    "## Documentation Hosting\n",
    "There are a few different documentation hosting services out there. I have found [readthedocs.org](https://readthedocs.org/) to be my preference. It offers free hosting, natively supports ReStructuredText, has automatic build support, and renders my documents nicely.\n",
    "\n",
    "This talk assumes that the user already has a readthedocs account set up"
   ]
  },
  {
   "cell_type": "markdown",
   "metadata": {
    "slideshow": {
     "slide_type": "slide"
    }
   },
   "source": [
    "* Navigate to [readthedocs.org](https://readthedocs.org/)\n",
    "* Connect your readthedocs account to your github account\n",
    "* Click the admin button and fill it out.\n",
    "* Click the down-arrow by your user name in the upper-right and select ['My Projects'](https://readthedocs.org/dashboard/)\n",
    "* Click the ['import a project'](https://readthedocs.org/dashboard/import/?) button\n",
    "* If the project doesn't show up, click the 'refresh' button. It should now appear there\n",
    "* Click the '+' button by your github project's name.\n",
    "* Select 'Python' in the 'programming languages' box, and make sure 'Sphinx html' is selected in the 'Documentation type' box\n",
    "* Click 'Finish'\n",
    "* Once the build is done, click 'View your Documentation' button."
   ]
  },
  {
   "cell_type": "markdown",
   "metadata": {
    "slideshow": {
     "slide_type": "slide"
    }
   },
   "source": [
    "That's it. Now, your documentation is built at http://hippy-chat.readthedocs.io. There are other settings that you can change like which branch the documentation is built from, what version of python interpreter should be used, the default version to show, and others. For now, we will just leave them as they are. Note that the documentation should rebuild _automatically_ any time a new commit is pushed to the branch your documentation is built from"
   ]
  },
  {
   "cell_type": "markdown",
   "metadata": {
    "slideshow": {
     "slide_type": "slide"
    }
   },
   "source": [
    "## Continuous Integration\n",
    "Again, there are lots and lots of different continuous integration tools. I like [travis-ci](https://travis-ci.org/) because it's been around a long time, it's really stable, well known (read, well documented), and offers a lot of free integration with github.\n",
    "\n",
    "This talk assumes that a user account on travis-ci.org is already set up."
   ]
  },
  {
   "cell_type": "markdown",
   "metadata": {
    "slideshow": {
     "slide_type": "slide"
    }
   },
   "source": [
    "* Navigate to [travis-ci.org](https://travis-ci.org)\n",
    "* Click the '+' button next to 'My Repositories' on the far left\n",
    "* If your repo doesn't show up, click the 'sync-account' button\n",
    "* There should be a slider switch next to the repo name. Activate this, then click on the repo name\n",
    "* You'll see a notice that there are 'No builds for this repository'.\n",
    "* If you click the 'read the docs' button it will tell you that you nee to setup a .travis.yml file.\n",
    "* I have one prepared ahead of time\n",
    "* After it is added, it will need to be committed and pushed to the repo\n"
   ]
  },
  {
   "cell_type": "code",
   "execution_count": 33,
   "metadata": {
    "collapsed": false,
    "slideshow": {
     "slide_type": "slide"
    }
   },
   "outputs": [
    {
     "name": "stdout",
     "output_type": "stream",
     "text": [
      "language: python\r\n",
      "python:\r\n",
      "- '3.4'\r\n",
      "- '3.5'\r\n",
      "install:\r\n",
      "- pip install --upgrade pip\r\n",
      "- pip install .[dev]\r\n",
      "before_script:\r\n",
      "- flake8 hippy_chat\r\n",
      "- flake8 tests\r\n",
      "script: py.test tests\r\n"
     ]
    }
   ],
   "source": [
    "! cp $stuff_dir/.travis.yml $root_dir/\n",
    "! cat $root_dir/.travis.yml"
   ]
  },
  {
   "cell_type": "code",
   "execution_count": 34,
   "metadata": {
    "collapsed": false,
    "slideshow": {
     "slide_type": "slide"
    }
   },
   "outputs": [
    {
     "name": "stdout",
     "output_type": "stream",
     "text": [
      "[master f6252d7] Added travis-ci config\n",
      " 1 file changed, 11 insertions(+)\n",
      " create mode 100644 .travis.yml\n",
      "fatal: The current branch master has no upstream branch.\n",
      "To push the current branch and set the remote as upstream, use\n",
      "\n",
      "    git push --set-upstream origin master\n",
      "\n"
     ]
    }
   ],
   "source": [
    "! git add .travis.yml\n",
    "! git commit -m \"Added travis-ci config\"\n",
    "! git push"
   ]
  },
  {
   "cell_type": "markdown",
   "metadata": {
    "slideshow": {
     "slide_type": "slide"
    }
   },
   "source": [
    "That's it! Now, you should [see that travis-ci has already started a build](https://travis-ci.org/pip-install-this/hippy-chat) for your master branch."
   ]
  },
  {
   "cell_type": "markdown",
   "metadata": {
    "slideshow": {
     "slide_type": "slide"
    }
   },
   "source": [
    "## Checking commits on github\n",
    "One of the nice ways that github.com and travis-ci.org integrate is by checking pull-requests for a successful build prior to merging. By enabling this feature, you can ensure that any pull-request passes the basic style checking and test suite as a first step to ensuring that the code is right\n",
    "* Navigate to the [github page](https://github.com/pip-install-this/hippy-chat)\n",
    "* Click the [settings tab](https://github.com/pip-install-this/hippy-chat/settings)\n",
    "* Go to [Branches](https://github.com/pip-install-this/hippy-chat/settings/branches)\n",
    "* In the 'Protected Branches' section, click 'choose a branch' and select ['master'](https://github.com/pip-install-this/hippy-chat/settings/branches/master)\n",
    "* Enable 'protect this branch'\n",
    "* Enable 'Require pull request reviews before merging' and 'Require status checks to pass before merging'\n",
    "* Don't include administrators\n",
    "* Click on the 'continuous-integration/travis-ci' to enable the travis check before merging\n",
    "\n",
    "\n"
   ]
  },
  {
   "cell_type": "markdown",
   "metadata": {
    "slideshow": {
     "slide_type": "slide"
    }
   },
   "source": [
    "Now, let's try a new pull request just to see how it works:"
   ]
  },
  {
   "cell_type": "code",
   "execution_count": 36,
   "metadata": {
    "collapsed": false,
    "slideshow": {
     "slide_type": "slide"
    }
   },
   "outputs": [
    {
     "name": "stdout",
     "output_type": "stream",
     "text": [
      "Switched to a new branch 'pip-install-this/changelog-updates'\n",
      "[pip-install-this/changelog-updates ea3e5cd] Added a couple of entries to the CHANGELOG\n",
      " 1 file changed, 2 insertions(+)\n",
      "Counting objects: 3, done.\n",
      "Delta compression using up to 4 threads.\n",
      "Compressing objects: 100% (3/3), done.\n",
      "Writing objects: 100% (3/3), 378 bytes | 0 bytes/s, done.\n",
      "Total 3 (delta 2), reused 0 (delta 0)\n",
      "remote: Resolving deltas: 100% (2/2), completed with 2 local objects.\u001b[K\n",
      "To git@github.com:pip-install-this/hippy-chat.git\n",
      " * [new branch]      pip-install-this/changelog-updates -> pip-install-this/changelog-updates\n",
      "Branch pip-install-this/changelog-updates set up to track remote branch pip-install-this/changelog-updates from origin.\n"
     ]
    }
   ],
   "source": [
    "! git checkout -b pip-install-this/changelog-updates\n",
    "! echo \" - Added project documentation pages\" >> $root_dir/CHANGELOG.rst\n",
    "! echo \" - Set up travis-ci integration\" >> $root_dir/CHANGELOG.rst\n",
    "! git add $root_dir/CHANGELOG.rst\n",
    "! git commit -m \"Added a couple of entries to the CHANGELOG\"\n",
    "! git push --set-upstream origin pip-install-this/changelog-updates"
   ]
  },
  {
   "cell_type": "markdown",
   "metadata": {
    "slideshow": {
     "slide_type": "slide"
    }
   },
   "source": [
    "Now, [create a new pull request for the latest commit](https://github.com/pip-install-this/hippy-chat/compare)\n",
    "* select the branch to 'compare'\n",
    "* click 'create pull-request'\n",
    "* click 'create pull-request' again...\n",
    "\n",
    "If you wait a while, the checks will either pass or fail. If the checks pass, the branch can be merged.\n",
    "\n",
    "You can watch the status of your checks at [travis-ci.org](https://travis-ci.org/pip-install-this/hippy-chat/builds)"
   ]
  },
  {
   "cell_type": "markdown",
   "metadata": {
    "slideshow": {
     "slide_type": "slide"
    }
   },
   "source": [
    "## Publishing to PyPI\n",
    "Once you have a reasonably stable package with good documentation and testing, you are probably ready to publish your package on [PyPI](https://pypi.python.org/pypi)\n",
    "\n",
    "Again, this talk is assuming that a user account has already been created on PyPI\n",
    "\n",
    "It is good wisdom to publish your package to the [PyPI Testing Site](https://testpypi.python.org/pypi) before you actually submit it to the main registry. We're not going to do that in this talk for the sake of time, but you should in real life. This will allow you to resolve problems without worrying about anyone having already installed your package"
   ]
  },
  {
   "cell_type": "markdown",
   "metadata": {
    "slideshow": {
     "slide_type": "slide"
    }
   },
   "source": [
    "### Setting up a .pypirc file\n",
    "This file contains your credentials for PyPI. It is used when you need to publish 'the old fashioned way'. It will be useful in the initial publication to PyPI"
   ]
  },
  {
   "cell_type": "code",
   "execution_count": 45,
   "metadata": {
    "collapsed": false,
    "slideshow": {
     "slide_type": "slide"
    }
   },
   "outputs": [
    {
     "name": "stdout",
     "output_type": "stream",
     "text": [
      "[distutils]\r\n",
      "index-servers =\r\n",
      "    pypi\r\n",
      "\r\n",
      "[pypi]\r\n",
      "repository: https://www.python.org/pypi\r\n",
      "username: pip-install-this\r\n"
     ]
    }
   ],
   "source": [
    "! cp $stuff_dir/.pypirc ~/\n",
    "! cat ~/.pypirc\n",
    "! cat ~/.pip-install-this.pw >> ~/.pypirc"
   ]
  },
  {
   "cell_type": "markdown",
   "metadata": {
    "slideshow": {
     "slide_type": "slide"
    }
   },
   "source": [
    "### Your first build\n",
    "We're going to build a [wheel](http://pythonwheels.com/) and source distribution of our package for the first time. Don't worry, we won't be doing this maybe ever again, because we're going to let automated tools help us. However, for this first time, we have to do it by hand\n",
    "\n",
    "There is no option (_that I know of_) to build using pip, so we are going to use the ol' setuptools approach:"
   ]
  },
  {
   "cell_type": "code",
   "execution_count": 41,
   "metadata": {
    "collapsed": false,
    "scrolled": true,
    "slideshow": {
     "slide_type": "slide"
    }
   },
   "outputs": [
    {
     "name": "stdout",
     "output_type": "stream",
     "text": [
      "running sdist\n",
      "running egg_info\n",
      "writing top-level names to hippy_chat.egg-info/top_level.txt\n",
      "writing dependency_links to hippy_chat.egg-info/dependency_links.txt\n",
      "writing requirements to hippy_chat.egg-info/requires.txt\n",
      "writing entry points to hippy_chat.egg-info/entry_points.txt\n",
      "writing hippy_chat.egg-info/PKG-INFO\n",
      "reading manifest file 'hippy_chat.egg-info/SOURCES.txt'\n",
      "reading manifest template 'MANIFEST.in'\n",
      "writing manifest file 'hippy_chat.egg-info/SOURCES.txt'\n",
      "running check\n",
      "warning: check: missing required meta-data: url\n",
      "\n",
      "creating hippy-chat-0.1.0\n",
      "creating hippy-chat-0.1.0/hippy_chat\n",
      "creating hippy-chat-0.1.0/hippy_chat.egg-info\n",
      "creating hippy-chat-0.1.0/hippy_chat/exec\n",
      "creating hippy-chat-0.1.0/tests\n",
      "copying files to hippy-chat-0.1.0...\n",
      "copying .project_metadata.json -> hippy-chat-0.1.0\n",
      "copying MANIFEST.in -> hippy-chat-0.1.0\n",
      "copying README.rst -> hippy-chat-0.1.0\n",
      "copying setup.py -> hippy-chat-0.1.0\n",
      "copying hippy_chat/__init__.py -> hippy-chat-0.1.0/hippy_chat\n",
      "copying hippy_chat/handler.py -> hippy-chat-0.1.0/hippy_chat\n",
      "copying hippy_chat.egg-info/PKG-INFO -> hippy-chat-0.1.0/hippy_chat.egg-info\n",
      "copying hippy_chat.egg-info/SOURCES.txt -> hippy-chat-0.1.0/hippy_chat.egg-info\n",
      "copying hippy_chat.egg-info/dependency_links.txt -> hippy-chat-0.1.0/hippy_chat.egg-info\n",
      "copying hippy_chat.egg-info/entry_points.txt -> hippy-chat-0.1.0/hippy_chat.egg-info\n",
      "copying hippy_chat.egg-info/requires.txt -> hippy-chat-0.1.0/hippy_chat.egg-info\n",
      "copying hippy_chat.egg-info/top_level.txt -> hippy-chat-0.1.0/hippy_chat.egg-info\n",
      "copying hippy_chat/exec/__init__.py -> hippy-chat-0.1.0/hippy_chat/exec\n",
      "copying hippy_chat/exec/demo.py -> hippy-chat-0.1.0/hippy_chat/exec\n",
      "copying tests/test_handler.py -> hippy-chat-0.1.0/tests\n",
      "Writing hippy-chat-0.1.0/setup.cfg\n",
      "creating dist\n",
      "Creating tar archive\n",
      "removing 'hippy-chat-0.1.0' (and everything under it)\n",
      "running bdist_wheel\n",
      "running build\n",
      "running build_py\n",
      "creating build\n",
      "creating build/lib\n",
      "creating build/lib/hippy_chat\n",
      "copying hippy_chat/__init__.py -> build/lib/hippy_chat\n",
      "copying hippy_chat/handler.py -> build/lib/hippy_chat\n",
      "creating build/lib/hippy_chat/exec\n",
      "copying hippy_chat/exec/__init__.py -> build/lib/hippy_chat/exec\n",
      "copying hippy_chat/exec/demo.py -> build/lib/hippy_chat/exec\n",
      "installing to build/bdist.macosx-10.11-x86_64/wheel\n",
      "running install\n",
      "running install_lib\n",
      "creating build/bdist.macosx-10.11-x86_64\n",
      "creating build/bdist.macosx-10.11-x86_64/wheel\n",
      "creating build/bdist.macosx-10.11-x86_64/wheel/hippy_chat\n",
      "copying build/lib/hippy_chat/__init__.py -> build/bdist.macosx-10.11-x86_64/wheel/hippy_chat\n",
      "creating build/bdist.macosx-10.11-x86_64/wheel/hippy_chat/exec\n",
      "copying build/lib/hippy_chat/exec/__init__.py -> build/bdist.macosx-10.11-x86_64/wheel/hippy_chat/exec\n",
      "copying build/lib/hippy_chat/exec/demo.py -> build/bdist.macosx-10.11-x86_64/wheel/hippy_chat/exec\n",
      "copying build/lib/hippy_chat/handler.py -> build/bdist.macosx-10.11-x86_64/wheel/hippy_chat\n",
      "running install_egg_info\n",
      "Copying hippy_chat.egg-info to build/bdist.macosx-10.11-x86_64/wheel/hippy_chat-0.1.0-py3.5.egg-info\n",
      "running install_scripts\n",
      "creating build/bdist.macosx-10.11-x86_64/wheel/hippy_chat-0.1.0.dist-info/WHEEL\n"
     ]
    }
   ],
   "source": [
    "! python setup.py sdist bdist_wheel"
   ]
  },
  {
   "cell_type": "markdown",
   "metadata": {
    "slideshow": {
     "slide_type": "slide"
    }
   },
   "source": [
    "Next, we will need to upload our package to PyPI. Again, we can use distutils/setuptools to do this:"
   ]
  },
  {
   "cell_type": "code",
   "execution_count": 46,
   "metadata": {
    "collapsed": false,
    "slideshow": {
     "slide_type": "slide"
    }
   },
   "outputs": [
    {
     "name": "stdout",
     "output_type": "stream",
     "text": [
      "running register\n",
      "running egg_info\n",
      "writing dependency_links to hippy_chat.egg-info/dependency_links.txt\n",
      "writing requirements to hippy_chat.egg-info/requires.txt\n",
      "writing hippy_chat.egg-info/PKG-INFO\n",
      "writing entry points to hippy_chat.egg-info/entry_points.txt\n",
      "writing top-level names to hippy_chat.egg-info/top_level.txt\n",
      "reading manifest file 'hippy_chat.egg-info/SOURCES.txt'\n",
      "reading manifest template 'MANIFEST.in'\n",
      "writing manifest file 'hippy_chat.egg-info/SOURCES.txt'\n",
      "running check\n",
      "warning: check: missing required meta-data: url\n",
      "\n",
      "Registering hippy-chat to https://upload.pypi.org/legacy/\n",
      "Server response (410): This API is no longer supported, instead simply upload the file.\n"
     ]
    }
   ],
   "source": [
    "! python setup.py sdist bdist_wheel upload"
   ]
  },
  {
   "cell_type": "markdown",
   "metadata": {},
   "source": [
    "If you navigate back to [PyPI](https://pypi.python.org/pypi) now, you should be able to see a link to your package on the right. You can even try to pip install your package as well"
   ]
  }
 ],
 "metadata": {
  "celltoolbar": "Slideshow",
  "kernelspec": {
   "display_name": "Python 3",
   "language": "python",
   "name": "python3"
  },
  "language_info": {
   "codemirror_mode": {
    "name": "ipython",
    "version": 3
   },
   "file_extension": ".py",
   "mimetype": "text/x-python",
   "name": "python",
   "nbconvert_exporter": "python",
   "pygments_lexer": "ipython3",
   "version": "3.5.1"
  }
 },
 "nbformat": 4,
 "nbformat_minor": 2
}
