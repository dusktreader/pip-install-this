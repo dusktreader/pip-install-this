{
 "cells": [
  {
   "cell_type": "markdown",
   "metadata": {
    "slideshow": {
     "slide_type": "slide"
    }
   },
   "source": [
    "# pip install this\n",
    "0 to PyPI in 60 minutes"
   ]
  },
  {
   "cell_type": "code",
   "execution_count": null,
   "metadata": {
    "collapsed": false,
    "slideshow": {
     "slide_type": "slide"
    }
   },
   "outputs": [],
   "source": [
    "# Pay no heed to the man behind the terminal\n",
    "\n",
    "import os\n",
    "start_dir = os.path.expanduser('~/work/pip-install-this')\n",
    "os.chdir(start_dir)\n",
    "\n",
    "! ./cleanup.sh\n",
    "! ssh-add -D\n",
    "! ssh-add ~/.ssh/pip-install-this-id_rsa\n",
    "\n",
    "stuff_dir = os.path.join(start_dir, 'hippy-chat-stuff')\n",
    "os.chdir(stuff_dir)"
   ]
  },
  {
   "cell_type": "markdown",
   "metadata": {},
   "source": [
    "## About Me\n",
    "I'm Tucker Beck.\n",
    "* twitter: [@tuckerbeck](https://twitter.com/tuckerbeck)\n",
    "* github: [dusktreader](https://github.com/dusktreader)\n",
    "\n",
    "I'm a senior backend software developer with some full-stack tendencies.\n",
    "\n",
    "I work for [comScore](https://www.comscore.com/). We measure and analyze media consumption at a global scale.\n",
    "\n",
    "I love python, and I'd love to tell you why...after this talk!"
   ]
  },
  {
   "cell_type": "markdown",
   "metadata": {
    "slideshow": {
     "slide_type": "slide"
    }
   },
   "source": [
    "## Introduction\n",
    "It's a great time to be a developer! There are so many great languages, lots of cool emerging tools, tons of documentation, and it's all so easy to get!\n",
    "\n",
    "The open-source community is really flourishing in the Python universe. But, getting your software published can seem like a very daunting task to new developers (and even veterans that haven't published before).\n",
    "\n",
    "Lot of tools are emerging that make publishing your software easier with a lot less 'fiddling'. Removing the barrier of tedium should encourage more diversity (in all senses of the word) in our code ecosystem and developer community\n",
    "\n"
   ]
  },
  {
   "cell_type": "markdown",
   "metadata": {
    "slideshow": {
     "slide_type": "slide"
    }
   },
   "source": [
    "## About this talk\n",
    "There's a lot of material to cover here, and the material is discussion worthy.\n",
    "\n",
    "However, to get through everything I have prepared here, I have to ask for questions to be held until the end.\n",
    "\n",
    "That being said, I look forward to discussing details, personal experiences, and individual perspectives when we get to the end of the talk.\n",
    "\n",
    "So, buckle up, and get ready to drink from the firehose!"
   ]
  },
  {
   "cell_type": "markdown",
   "metadata": {
    "slideshow": {
     "slide_type": "slide"
    }
   },
   "source": [
    "## Assumptions\n",
    "For this talk, I'm going to assume the following are available:\n",
    "* Python3\n",
    "* git"
   ]
  },
  {
   "cell_type": "markdown",
   "metadata": {
    "slideshow": {
     "slide_type": "slide"
    }
   },
   "source": [
    "## Some Thoughts\n",
    "Python is an opinionated language. I'm an opinionated developer. This is fine, as long as it is understood.\n",
    "\n",
    "I prefer Python 3. This talk is in python 3. That's all I have to say about that\n",
    "\n",
    "Holy wars are fought over dogma, not philosophy. So, start with [The Zen of Python]( https://www.python.org/dev/peps/pep-0020/) and then try to find community accepted best-practices from there. \n",
    "\n",
    "Sometimes, it's better to accept a convention you don't personally like for the sake of consistency and accessibility.\n",
    "\n"
   ]
  },
  {
   "cell_type": "markdown",
   "metadata": {
    "slideshow": {
     "slide_type": "slide"
    }
   },
   "source": [
    "## Other Thoughts\n",
    "There is a lot of philosophy and discussion about packaging. Python software is most commonly distributed in packages on [PyPI](https://pypi.python.org/pypi), but there are alternative packagers, repositories, and schools of thought. We're not going to go into this here, but it is interesting! Instead, this talk is intended to be a pragmatic guide to getting your code published.\n",
    "\n",
    "I've focused on simple and easy tools and procedures. Some of the things I talk about will be personal best practices. I'll call these out with _italics_. Your mileage may vary, and I understand and hope you have your own set of best-practices or preferences. I'm happy to talk about them later."
   ]
  },
  {
   "cell_type": "markdown",
   "metadata": {
    "slideshow": {
     "slide_type": "slide"
    }
   },
   "source": [
    "## What we're going to cover\n",
    "* Basic python package\n",
    "* Simple but thorough setup.py\n",
    "* Rapid test suite creation\n",
    "* Easy code style checking\n",
    "* Quick documentation creation\n",
    "* Fundamental github repo creation\n",
    "* Automatic documentation page generation \n",
    "* Painless continous-integration tools\n",
    "* Automatic publishing"
   ]
  },
  {
   "cell_type": "markdown",
   "metadata": {
    "slideshow": {
     "slide_type": "slide"
    }
   },
   "source": [
    "\n",
    "## Starting from not quite 0\n",
    "At comScore, we use Hipchat for team communication. I wanted to see critical errors in my team's hipchat channel (I'm lead dev...I get to decide that =P)\n",
    "\n",
    "There weren't any extensions for python logging that do this yet, so I rolled my own using the very cool [Hipchat API](https://www.hipchat.com/docs/apiv2)\n",
    "\n",
    "Since it's a useful tool, and there is nothing proprietary in it, I think it would be a good thing to get out into the Python OSS community.\n",
    "\n",
    "So, in this talk, we're going to publish this logging handler as an independent python package\n"
   ]
  },
  {
   "cell_type": "markdown",
   "metadata": {
    "slideshow": {
     "slide_type": "slide"
    }
   },
   "source": [
    "## The basic python package\n",
    "\n",
    "There are, again, a lot of opinions about best-practices in structuring python packages. What I'm presenting here is a combination of best-practices, easy and convenient methodologies, and my peferred packages.\n",
    "\n",
    "The package structure for our package we're building today is as follows:\n",
    "```\n",
    "hippy-chat/\n",
    "|--> setup.py\n",
    "|--> MANIEST.in\n",
    "|--> LICENSE.rst\n",
    "|--> CHANGELOG.rst\n",
    "|--> README.rst\n",
    "|--> .project_metadata.json\n",
    "|--> .hipchat.json\n",
    "|--> hippy_chat\n",
    "     |--> __init__.py\n",
    "     |--> handler.py\n",
    "     |--> exec/\n",
    "          |--> demo.py\n",
    "```"
   ]
  },
  {
   "cell_type": "code",
   "execution_count": null,
   "metadata": {
    "collapsed": false,
    "slideshow": {
     "slide_type": "slide"
    }
   },
   "outputs": [],
   "source": [
    "root_dir = os.path.expanduser('~/work/hippy-chat')\n",
    "! mkdir $root_dir"
   ]
  },
  {
   "cell_type": "markdown",
   "metadata": {
    "slideshow": {
     "slide_type": "slide"
    }
   },
   "source": [
    "## Support files"
   ]
  },
  {
   "cell_type": "markdown",
   "metadata": {
    "slideshow": {
     "slide_type": "slide"
    }
   },
   "source": [
    "### The setup.py file for the project\n",
    "Some things to note:\n",
    "* I use the setup method from setuptools instead of distutils\n",
    "* But, _I like to install with pip even locally_\n",
    "* So, none of this stuff is tested using ```$ python setup.py install```\n",
    "* I've used a lot of variations of setup.py structure, and this is the layout I've arrived at.\n",
    "* I promise you I'm not done trying new things!"
   ]
  },
  {
   "cell_type": "code",
   "execution_count": null,
   "metadata": {
    "collapsed": false,
    "scrolled": true,
    "slideshow": {
     "slide_type": "slide"
    }
   },
   "outputs": [],
   "source": [
    "! cp $stuff_dir/setup.py $root_dir/ \n",
    "! cat $root_dir/setup.py"
   ]
  },
  {
   "cell_type": "markdown",
   "metadata": {
    "slideshow": {
     "slide_type": "slide"
    }
   },
   "source": [
    "### Some notes about setup.py\n",
    "\n",
    "* setup.py provides info to both install **and** build your package\n",
    "* Name of the root directory doesn't actually matter\n",
    "* Don't put metadata in the base \\__init\\__.py\n",
    "* Only recently started putting executables in exec/\n",
    "* I'll talk about .project_metadata.json later. This is a _personal peference_\n",
    "* I use ReStructuredText for my documents, because it's what sphinx uses. _I also like it better than markdown_"
   ]
  },
  {
   "cell_type": "markdown",
   "metadata": {
    "slideshow": {
     "slide_type": "slide"
    }
   },
   "source": [
    "#### Why tye project_metadata dict?\n",
    "```\n",
    "    version=project_metadata['release'],\n",
    "```\n",
    "There's [lots and lots of discussion](https://www.google.com/search?q=python+best+practices+project+metadata) about how to include meta-data (especially version data) in your project. There doesn't seem to be a universally accepted best practice, so I came up with my own.\n",
    "\n",
    "Keeing project metadata in the root project folder this way has some advantages:\n",
    "* json. Everything can parse json.\n",
    "* dynamic. I can change metadata (like version number) in one place\n",
    "* other stuff can easily find it. Like sphinx, for instance (we'll see this later)"
   ]
  },
  {
   "cell_type": "markdown",
   "metadata": {
    "slideshow": {
     "slide_type": "slide"
    }
   },
   "source": [
    "#### Why extras_require?\n",
    "```\n",
    "    extras_require={\n",
    "        'dev': [\n",
    "            'flake8',\n",
    "            'pytest',\n",
    "            'pytest-capturelog',\n",
    "        ],\n",
    "    },\n",
    "```\n",
    "Using the extras_require directive lets you have differing requirements for different roles. Basic installs shouldn't install dependencies that are only needed for dev, testing, document generation, etc.\n",
    "\n",
    "To install using a different role, you can do it like this:\n",
    "```\n",
    "$ pip install <package>[dev]\n",
    "```\n",
    "\n",
    "\n"
   ]
  },
  {
   "cell_type": "markdown",
   "metadata": {
    "slideshow": {
     "slide_type": "slide"
    }
   },
   "source": [
    "#### Why include_package_data?\n",
    "```\n",
    "    include_package_data=True,\n",
    "```\n",
    "\n",
    "You'll need to include this to also install stuff like .project_metadata.json or any other files not a part of your source tree. These will need to be specified in MANIFEST.in.\n",
    "\n",
    "**Note**: If you're reading through examples and/or the distutils/setuptools specification, you might find (and be rather tempted by) ```data_files=...```. I have not found this to work consistently between distutils, setuptools, and pip."
   ]
  },
  {
   "cell_type": "markdown",
   "metadata": {
    "slideshow": {
     "slide_type": "slide"
    }
   },
   "source": [
    "#### Why find_packages?\n",
    "Because it's smart and really easy. Otherwise, you have to list your main package, and all sub-packages therein:\n",
    "```\n",
    "    packages=['a', 'a.a', 'a.a.a', 'a.b', 'a.b.a']\n",
    "```\n",
    "If you add additional sub-packages, you will have to remember to add them here. Of course, you won't notice until you publish to PyPI and try to pip install your package next time...\n"
   ]
  },
  {
   "cell_type": "markdown",
   "metadata": {
    "slideshow": {
     "slide_type": "slide"
    }
   },
   "source": [
    "#### Why entry_points?\n",
    "I only started doing this recently.\n",
    "\n",
    "Previously, I kept all my executables in ```<root>/bin/``` and added a ```scripts=glob.blog('bin/*')```. This works ok, but there are a few things that make it frustrating\n",
    "* No (good) way to import the scripts for unit testing\n",
    "* Don't forget to add your shebang!\n",
    "* Make sure your shebang calls out the right python version\n",
    "* Make sure that your executables have the executable flag set\n",
    "* Probably shouldn't name them with an extension (as is usual in unix for executable files)\n",
    "* Not cross-platform"
   ]
  },
  {
   "cell_type": "markdown",
   "metadata": {
    "slideshow": {
     "slide_type": "slide"
    }
   },
   "source": [
    "#### Why entry_points? (continued)\n",
    "Using entry points gives you a lot of magic that takes care of those things (for the most part). Pip will create the executable in a platform specific way at install time, rename it, and make sure that it references the right python interpreter. Further, since the executables are part of the package itself, you can easily unit test them. Finally, a single module can have multiple entry points that are all split out into their own executables!\n",
    "\n",
    "It should also be noted that this pattern works really well with click."
   ]
  },
  {
   "cell_type": "markdown",
   "metadata": {
    "slideshow": {
     "slide_type": "slide"
    }
   },
   "source": [
    "### The CHANGELOG.rst file\n",
    "Changelogs are an important way for users to track what has changed between releases. This way, they can peruse major differences and decide if upgrading is worth the risk to their software. There is some really great discussion about this topic provided at [keepachagnelog.com](http://keepachangelog.com/en/0.3.0/). After reading through, I became a believer."
   ]
  },
  {
   "cell_type": "code",
   "execution_count": null,
   "metadata": {
    "collapsed": false,
    "slideshow": {
     "slide_type": "slide"
    }
   },
   "outputs": [],
   "source": [
    "! cp $stuff_dir/CHANGELOG.rst $root_dir/\n",
    "! cat $root_dir/CHANGELOG.rst"
   ]
  },
  {
   "cell_type": "markdown",
   "metadata": {
    "slideshow": {
     "slide_type": "slide"
    }
   },
   "source": [
    "### The MANIFEST.in file\n",
    "As stated above, this is the most consistent way to make sure that extra files are installed with your project. The file structure is pretty much dead simple. Just list exactly the extra files that you want to include"
   ]
  },
  {
   "cell_type": "code",
   "execution_count": null,
   "metadata": {
    "collapsed": false,
    "slideshow": {
     "slide_type": "slide"
    }
   },
   "outputs": [],
   "source": [
    "! cp $stuff_dir/MANIFEST.in $root_dir/\n",
    "! cat $root_dir/MANIFEST.in"
   ]
  },
  {
   "cell_type": "markdown",
   "metadata": {
    "slideshow": {
     "slide_type": "slide"
    }
   },
   "source": [
    "### The LICENSE.rst file\n",
    "Always add a license. For python packages, I usually like to use the MIT license because it's very permissive. However, you should [do some reading to decide which license to use](https://choosealicense.com/)\n",
    "\n",
    "I like to format my license the same as my README and CHANGELOG, just for neurotic consistency"
   ]
  },
  {
   "cell_type": "code",
   "execution_count": null,
   "metadata": {
    "collapsed": false,
    "scrolled": true,
    "slideshow": {
     "slide_type": "slide"
    }
   },
   "outputs": [],
   "source": [
    "! cp $stuff_dir/LICENSE.rst $root_dir/\n",
    "! cat $root_dir/LICENSE.rst"
   ]
  },
  {
   "cell_type": "markdown",
   "metadata": {
    "slideshow": {
     "slide_type": "slide"
    }
   },
   "source": [
    "### The README.rst file\n",
    "You really should have a README immediately. Notice no italics? This isn't an opinion. It's pretty important. Your README doesn't have to be really verbose. It also probably shouldn't be the difinitive documentation for your project (you should build those with sphinx...but more on that later). However, the README should be a touchstone for people who want to use your package. At a minimum it should include\n",
    "* A summary, no matter how terse, of what your project is for and what it does\n",
    "* Basic requirements. **Especially** which versions of python it supports\n",
    "* An explanation of how to get an environment set up for development and testing"
   ]
  },
  {
   "cell_type": "code",
   "execution_count": null,
   "metadata": {
    "collapsed": false,
    "scrolled": true,
    "slideshow": {
     "slide_type": "slide"
    }
   },
   "outputs": [],
   "source": [
    "! cp $stuff_dir/README.rst $root_dir/\n",
    "! cat $root_dir/README.rst"
   ]
  },
  {
   "cell_type": "markdown",
   "metadata": {
    "slideshow": {
     "slide_type": "slide"
    }
   },
   "source": [
    "### The .project_metadata.json file\n",
    "As I explained above, this is a personal best-practice. However you do it, though, you should try to keep your project metadata together in one and only one place. This is especially important for project versions. You don't want to confuse your user when they see one version on your documentation and another on the package they download from PyPI. Using a single metadata file like this can help with these sorts of problems"
   ]
  },
  {
   "cell_type": "code",
   "execution_count": null,
   "metadata": {
    "collapsed": false,
    "slideshow": {
     "slide_type": "slide"
    }
   },
   "outputs": [],
   "source": [
    "! cp $stuff_dir/.project_metadata.json $root_dir/\n",
    "! cat .project_metadata.json"
   ]
  },
  {
   "cell_type": "markdown",
   "metadata": {
    "slideshow": {
     "slide_type": "slide"
    }
   },
   "source": [
    "### The .hipchat.json file\n",
    "This config file contains credentials that will be loaded by our demo executable to talk to my hipchat room. This one is just specific to this project"
   ]
  },
  {
   "cell_type": "code",
   "execution_count": null,
   "metadata": {
    "collapsed": false,
    "scrolled": true,
    "slideshow": {
     "slide_type": "slide"
    }
   },
   "outputs": [],
   "source": [
    "! cp $stuff_dir/.hipchat.json $root_dir/\n",
    "! cat $root_dir/.hipchat.json"
   ]
  },
  {
   "cell_type": "markdown",
   "metadata": {
    "slideshow": {
     "slide_type": "slide"
    }
   },
   "source": [
    "## Source Code\n",
    "There are a few best practices with how source code should be laid out:\n",
    "\n",
    "* All source should go in a directory in the project root\n",
    "* This directory should be in lower **snake_case**, and should be some derivation of your package name\n",
    "* You should try to pick something unique enough that it won't collide with other packages \n",
    "* This directory name will be the importable name of your package\n",
    "  \n",
    "There are, of course, a lot of others. But these are the basics\n",
    "  "
   ]
  },
  {
   "cell_type": "markdown",
   "metadata": {
    "slideshow": {
     "slide_type": "slide"
    }
   },
   "source": [
    "### The hippy_chat handler module\n",
    "This is the source for our chat handler. A few things to note:\n",
    "* [arrow](http://crsmithdev.com/arrow/) is a really nice datetime replacement. _I recommend using this or [pendulum](https://github.com/sdispater/pendulum) for **all** cases where you work with datetimes_\n",
    "* [py-buzz](https://github.com/dusktreader/py-buzz) is one of my packages that provides some nice add-ons to python exceptions\n",
    "* [requests](http://docs.python-requests.org/en/master/) is an awesome package for working with apis. It's dead simple to use.\n",
    "\n",
    "Also worth noting: This is a logging handler for normal python logging. This is what our project started using a long time ago. Python logging is pretty cool, but _it is not as cool as it could or should be. These days, I try to use [logbook](https://github.com/getlogbook/logbook) wherever possible_. However, logbook is not a drop-in replacement, so our project will probably stick with vanilla logging for now...or maybe forever\n",
    "\n",
    "Also: We will also need to add an empty init.py module. This tells Python that this directory contains a package and, potentially, subpackages. Python won't be able to find the 'handlers' module without this"
   ]
  },
  {
   "cell_type": "code",
   "execution_count": null,
   "metadata": {
    "collapsed": false,
    "scrolled": true,
    "slideshow": {
     "slide_type": "slide"
    }
   },
   "outputs": [],
   "source": [
    "source_dir = os.path.join(root_dir, 'hippy_chat')\n",
    "\n",
    "! mkdir $source_dir\n",
    "! touch $source_dir/__init__.py\n",
    "! cp $stuff_dir/handler.py $source_dir\n",
    "! cat $source_dir/handler.py"
   ]
  },
  {
   "cell_type": "markdown",
   "metadata": {
    "slideshow": {
     "slide_type": "slide"
    }
   },
   "source": [
    "### The __init__.py file\n",
    "We will also need to add an empty __init__.py module. This tells Python that this directory contains a package and, potentially, subpackages. Python won't be able to find the 'handlers' module without this"
   ]
  },
  {
   "cell_type": "markdown",
   "metadata": {
    "slideshow": {
     "slide_type": "slide"
    }
   },
   "source": [
    "## Test Code\n",
    "There are a few different python testing frameworks out there.\n",
    "\n",
    "The unittest package is a part of the python standard library, and it offers a lot of features out of the box. However, I don't recommend it for a few reasons:\n",
    "* Test discovery is painful\n",
    "* Using the special assert methods requires a lot of lookup time that could be spent writing tests\n",
    "* Everything **has** to be done in test classes and heirarchies thereof\n",
    "* No pluggable extensions\n",
    "\n",
    "For a long time, [nose](http://nose.readthedocs.io/en/latest/) addressed a lot of those concerns. However, nose is no longer under active development, and, its replacement, [nose2](https://github.com/nose-devs/nose2) is still in 'beta' (pre 1.0 release) and is not progressing very rapidly. Additionally, _nose introduces some of its own quirks that can be annoying_."
   ]
  },
  {
   "cell_type": "markdown",
   "metadata": {
    "slideshow": {
     "slide_type": "slide"
    }
   },
   "source": [
    "### Why pytest?\n",
    "I find that [pytest](http://doc.pytest.org/en/latest/) is a great testing framework that allows you to get testing very rapidly and yet hass enough features to support basically anything you want to do. There are a lot of useful pytest plugins out there as well to fill in missing functionality.\n",
    "\n",
    "The pytest framework _can_ use test class heirarchies, but they are optional. Most setup in pytest is done via fixtures, which can be incredibly powerful (if somewhat confusing at times)\n",
    "\n",
    "Project wide and directory wide configuration is available via `conftest.py` files, but we won't need any for hippy-chat, and you may not need them for your project"
   ]
  },
  {
   "cell_type": "markdown",
   "metadata": {
    "slideshow": {
     "slide_type": "slide"
    }
   },
   "source": [
    "### Where to put tests\n",
    "Tests can either be\n",
    "* interleaved with your source code\n",
    "* put in a sub-module of your source module\n",
    "* put in their own directory\n",
    "\n",
    "The most common practice, and my preferred approach, is to put the tests in their own directory immediately below the root of your project. This makes them very easy to target with your command line and also lowers the risk of accidental imports."
   ]
  },
  {
   "cell_type": "markdown",
   "metadata": {
    "slideshow": {
     "slide_type": "slide"
    }
   },
   "source": [
    "### The test_handler.py test module\n",
    "This module contains the unit tests for the hippy_chat.handler module. This example is pretty spartan, but there should be enough here to show some pytest features.\n"
   ]
  },
  {
   "cell_type": "code",
   "execution_count": null,
   "metadata": {
    "collapsed": false,
    "scrolled": true,
    "slideshow": {
     "slide_type": "slide"
    }
   },
   "outputs": [],
   "source": [
    "test_dir = os.path.join(root_dir, 'tests')\n",
    "\n",
    "! mkdir $test_dir\n",
    "! touch $test_dir/__init__.py\n",
    "! cp $stuff_dir/test_handler.py $test_dir\n",
    "! cat $test_dir/test_handler.py"
   ]
  },
  {
   "cell_type": "markdown",
   "metadata": {
    "slideshow": {
     "slide_type": "slide"
    }
   },
   "source": [
    "### More about pytest\n",
    "Invoking pytest against our project is incredibly simple. You simply need to call it and target the test directory. You can target specific tests, test directories, or tests matching a specific pattern.\n",
    "\n",
    "We'll invoke tests in a bit after we are done setting up the package"
   ]
  },
  {
   "cell_type": "markdown",
   "metadata": {
    "slideshow": {
     "slide_type": "slide"
    }
   },
   "source": [
    "## Executables\n",
    "Executable code should be as compact as possible. It's good practice to make your entry-points as concise as possible and have most logic within your python modules. Ideally, an executable does little more than parse a command line, call into a function, and then possibly produce output\n",
    "\n",
    "I use [click](https://github.com/pallets/click) for command line processing. _This is a matter of personal preference_. However, you should **never do your own command line processing**. Even for really simple stuff, I reccommend using a command line parser. [argparse](https://docs.python.org/3/library/argparse.html) (and its predecessor, [optparse](https://docs.python.org/2/library/optparse.html)) is built into the language and provides a full-featured command-line parser."
   ]
  },
  {
   "cell_type": "markdown",
   "metadata": {
    "slideshow": {
     "slide_type": "slide"
    }
   },
   "source": [
    "### The demo.py executable file\n",
    "This module will just be used to show a demonstration of the logging handler in action. It parses some basic command line options and does some logging to show the handler working.\n",
    "\n",
    "We'll run this demo a bit later."
   ]
  },
  {
   "cell_type": "code",
   "execution_count": null,
   "metadata": {
    "collapsed": false,
    "scrolled": true,
    "slideshow": {
     "slide_type": "slide"
    }
   },
   "outputs": [],
   "source": [
    "exec_dir = os.path.join(source_dir, 'exec')\n",
    "\n",
    "! mkdir $exec_dir\n",
    "! touch $exec_dir/__init__.py\n",
    "! cp demo.py $exec_dir\n",
    "! cat demo.py"
   ]
  },
  {
   "cell_type": "markdown",
   "metadata": {
    "slideshow": {
     "slide_type": "slide"
    }
   },
   "source": [
    "## Working within a virtual environment\n",
    "Python's virtual environments are just too nice to _not_ use. They are really simple to set up, and provide a good way to isolate your environment as you develop. Using virtual environments has the following benefits:\n",
    "* Improve repeatability in package setup\n",
    "* Easy _removal_ of your installed package\n",
    "* Provide custom configuration to your package without breaking anything else\n",
    "* Use whatever version of python interpreter you want"
   ]
  },
  {
   "cell_type": "markdown",
   "metadata": {
    "slideshow": {
     "slide_type": "slide"
    }
   },
   "source": [
    "### Setting up the virtual environment\n",
    "Note that I'm making the wild assumption that you have [virtualenv](https://virtualenv.pypa.io/en/stable/) set up. If not, the setup is pretty easy. That does, however, depend on your os\n",
    "\n",
    "Creating and activating the virtualenv is pretty easy. Once it is done, invoking python (or a script that invokes python via a shebang line) in the active virtual environment will be working in its own encapsulated environment. This also means that any packages that are installed via pip will be localized to this virtual environment"
   ]
  },
  {
   "cell_type": "code",
   "execution_count": null,
   "metadata": {
    "collapsed": false,
    "slideshow": {
     "slide_type": "slide"
    }
   },
   "outputs": [],
   "source": [
    "os.chdir(root_dir)\n",
    "\n",
    "! virtualenv --python=python3 env\n",
    "! source env/bin/activate"
   ]
  },
  {
   "cell_type": "markdown",
   "metadata": {
    "slideshow": {
     "slide_type": "slide"
    }
   },
   "source": [
    "## Installing the new package in 'edit' mode\n",
    "While you are actively developing a project, it is very convenient to have it installed inside of your active virtual environment in 'editable' mode. Pip offers this feature so that you can modify a source code and see the changes reflected the next time you invoke python or a python script without having to re-install the package. Trust me, you want to use this feature when you are working on your package\n",
    "\n",
    "Here we will invoke the install command against the pwd with the 'dev' modifier. This will install all of the normal package dependencies but will also install the dependencies from the 'dev' section of 'extras_require' in our setup.py:\n",
    "\n",
    "Once the install is finished, our environment has all the dependencies satisfied including the hippy-chat package that we are building"
   ]
  },
  {
   "cell_type": "code",
   "execution_count": null,
   "metadata": {
    "collapsed": false,
    "scrolled": true,
    "slideshow": {
     "slide_type": "slide"
    }
   },
   "outputs": [],
   "source": [
    "! pip install -e .[dev]"
   ]
  },
  {
   "cell_type": "markdown",
   "metadata": {
    "slideshow": {
     "slide_type": "slide"
    }
   },
   "source": [
    "## Invoking the test suite\n",
    "\n",
    "The pytest framework has a whole slew of options that you can specify on the command line. Two options I find most useful are the --maxfail and --verbose options\n",
    "\n",
    "I generally invoke pytest against my entire test suite using the `--maxfail=1` option. This tells pytest to stop immediately upon the first test failure. This is useful for larger projects where you want to see a problem right away when a test fails. You usually won't set this if you are, for instance, running your test suite as a deployment step or any time you want a report of all failing tests\n",
    "\n",
    "You can also increase the verbosity of failure messages by passing `--verbose` flags. The flags are additive, so two verbose flags will show even more verbose output.\n",
    "\n",
    "Note: As of this writing, I discovered some weirdness with python interpreter and py.test vs pytest"
   ]
  },
  {
   "cell_type": "code",
   "execution_count": null,
   "metadata": {
    "collapsed": false,
    "slideshow": {
     "slide_type": "slide"
    }
   },
   "outputs": [],
   "source": [
    "! py.test --maxfail=1 --verbose $test_dir"
   ]
  },
  {
   "cell_type": "markdown",
   "metadata": {
    "slideshow": {
     "slide_type": "slide"
    }
   },
   "source": [
    "## Trying out the demo\n",
    "Now that everything is setup, we should be able to try out the demo. Note, that it is installed into our editable virtualenv, and is invokable by its installed name: 'hippy-chat-demo'\n",
    "\n",
    "We'll watch for the results in [a hipchat room I set up for this talk](https://pip-install-this.hipchat.com/chat/room/3517101)"
   ]
  },
  {
   "cell_type": "code",
   "execution_count": null,
   "metadata": {
    "collapsed": false,
    "slideshow": {
     "slide_type": "slide"
    }
   },
   "outputs": [],
   "source": [
    "! hippy-chat-demo --log-level WARNING --message-interval=2"
   ]
  },
  {
   "cell_type": "markdown",
   "metadata": {
    "slideshow": {
     "slide_type": "slide"
    }
   },
   "source": [
    "## Code Style\n",
    "\n",
    "Style checking is great! It takes the thinking out of code formatting. I used to like to develop my own style and tinker with it. That's a lot of thought put into something that _doesn't really matter that much_. What I've found is that using an established style-guide let's me dedicate that mind space to working on my package. It also prevents 'discussions' about style within my team. Even if no one quite agrees, having some 3rd party style guide helps keep the team working on implementation.\n",
    "\n",
    "So, I like to use vanilla pep8 via out-of-the-box [flake8](https://pypi.python.org/pypi/flake8)"
   ]
  },
  {
   "cell_type": "markdown",
   "metadata": {
    "slideshow": {
     "slide_type": "slide"
    }
   },
   "source": [
    "### Why flake8?\n",
    "There are a few different style-checkers out there that also work well. Choosing one is a matter of perference. Most of them do the same linting, but they all have different sets of extras. I use flake8 because it's easy, well-established, actively maintained, and has _a sweet vim plugin_.\n",
    "\n",
    "flake8 is very configurable. For a some of my work projects, we have a different flake8 configuration for tests and source code. This lets us do things like have long lines and tabular alignment in tests where it wouldn't be acceptable in the source. However, for packages you are releasing to the community _it's best to just use the vanilla pep8 guidelines_.\n",
    "\n",
    "Checking a single file or an entire directory is really simple:\n",
    "\n",
    "**Quick Note**: Don't target your root folder with flake8! It will check all the packages in your virtualenv."
   ]
  },
  {
   "cell_type": "code",
   "execution_count": null,
   "metadata": {
    "collapsed": false,
    "slideshow": {
     "slide_type": "slide"
    }
   },
   "outputs": [],
   "source": [
    "! flake8 hippy_chat"
   ]
  },
  {
   "cell_type": "code",
   "execution_count": null,
   "metadata": {
    "collapsed": false,
    "slideshow": {
     "slide_type": "slide"
    }
   },
   "outputs": [],
   "source": [
    "! flake8 tests"
   ]
  },
  {
   "cell_type": "markdown",
   "metadata": {
    "slideshow": {
     "slide_type": "slide"
    }
   },
   "source": [
    "### Ignoring lines\n",
    "flake8 has a nice feature where you can add a special `# noqa` comment at the end of a line that you don't want to be checked. It's kinda ugly, but that's good because it helps keep you from overusing it.\n",
    "\n",
    "You can also ignore a whole source file by adding `# flake8: noqa` anywhere in the file"
   ]
  },
  {
   "cell_type": "code",
   "execution_count": null,
   "metadata": {
    "collapsed": false,
    "scrolled": true,
    "slideshow": {
     "slide_type": "slide"
    }
   },
   "outputs": [],
   "source": [
    "! cat $stuff_dir/test_handler_with_noqa.py"
   ]
  },
  {
   "cell_type": "code",
   "execution_count": null,
   "metadata": {
    "collapsed": false,
    "slideshow": {
     "slide_type": "slide"
    }
   },
   "outputs": [],
   "source": [
    "! cp $stuff_dir/test_handler_with_noqa.py tests/test_handler.py\n",
    "! flake8 tests"
   ]
  },
  {
   "cell_type": "markdown",
   "metadata": {
    "slideshow": {
     "slide_type": "slide"
    }
   },
   "source": [
    "## Adding Documentation\n",
    "Documentation is important for any open source package. For packages of any degree of complexity, documentation **must** extend beyond comments in your code and your README. A lot of times folks avoid writing documentation because getting it all set up is tricky.\n",
    "\n",
    "The thing is: it isn't"
   ]
  },
  {
   "cell_type": "markdown",
   "metadata": {
    "slideshow": {
     "slide_type": "slide"
    }
   },
   "source": [
    "### Why Sphinx?\n",
    "Most of the Python universe uses [Sphinx](http://www.sphinx-doc.org/en/stable/) for building documentation. Sphinx has a lot of useful plugins, but the one I'm most partial to is called [apidoc](http://www.sphinx-doc.org/en/1.5.1/man/sphinx-apidoc.html). The apidoc plugin can produce documentation pages from your projects module, class, and function docstrings.\n",
    "\n",
    "This is great because it means your api documenation is produced dynamically, and it encourages you to write good docstrings!"
   ]
  },
  {
   "cell_type": "markdown",
   "metadata": {
    "slideshow": {
     "slide_type": "slide"
    }
   },
   "source": [
    "### Getting started with sphinx-quickstart\n",
    "There's some scaffolding that needs to be put into place first, and Sphinx offers a nice tool that will get you started quickly. It's called sphinx-quickstart. Sphinx-quickstart is an interactive tool that will ask you about what options you want. It produces some boiler-plate doc structure, and, most importantly, it produces a config file for sphinx.\n",
    "\n",
    "You can also specify all of the options on the command line, which I'm going to do here.\n",
    "\n",
    "Don't be intimidated by all the options. We're only going override a few defaults, and we're going to blow a lot of stuff away. So, buckle up!"
   ]
  },
  {
   "cell_type": "code",
   "execution_count": null,
   "metadata": {
    "collapsed": false,
    "scrolled": true,
    "slideshow": {
     "slide_type": "slide"
    }
   },
   "outputs": [],
   "source": [
    "! sphinx-quickstart --help"
   ]
  },
  {
   "cell_type": "code",
   "execution_count": null,
   "metadata": {
    "collapsed": false,
    "slideshow": {
     "slide_type": "slide"
    }
   },
   "outputs": [],
   "source": [
    "docs_dir = os.path.join(root_dir, 'docs')\n",
    "\n",
    "# --sep tells quickstart to separate out the docs source and build directories\n",
    "# I'll explain the CHANGEME values shortly\n",
    "# -v is for the project version, not to be confused with the sphinx-quickstart --version option...\n",
    "# I have _opinions_ about makefiles, but we won't need these anyway\n",
    "# The same goes for windows batch files\n",
    "! sphinx-quickstart \\\n",
    "--sep               \\\n",
    "--project=CHANGEME  \\\n",
    "--author=CHANGEME   \\\n",
    "-v CHANGEME         \\\n",
    "--release=CHANGEME  \\\n",
    "--language=en       \\\n",
    "--suffix=.rst       \\\n",
    "--master=index      \\\n",
    "--ext-autodoc       \\\n",
    "--no-makefile       \\\n",
    "--no-batchfile      \\\n",
    "--quiet             \\\n",
    "$docs_dir"
   ]
  },
  {
   "cell_type": "markdown",
   "metadata": {
    "slideshow": {
     "slide_type": "slide"
    }
   },
   "source": [
    "### Some immediate adjustments\n",
    "The first thing I'm going to do is to do away with the build directory. In this talk, I'm going to follow my usual script which is to build and host my documentation elsewhere, so I will never actually build the docs pages locally. I'm also going to then move the contents of the source directory directly into docs, since there won't be any need for another level of folder containment:"
   ]
  },
  {
   "cell_type": "code",
   "execution_count": null,
   "metadata": {
    "collapsed": false,
    "scrolled": true,
    "slideshow": {
     "slide_type": "slide"
    }
   },
   "outputs": [],
   "source": [
    "! rm -rf $docs_dir/build\n",
    "! mv $docs_dir/source/* $docs_dir/\n",
    "! rm -rf $docs_dir/source\n",
    "! ls $docs_dir/\n",
    "! cat $docs_dir/conf.py"
   ]
  },
  {
   "cell_type": "markdown",
   "metadata": {
    "slideshow": {
     "slide_type": "slide"
    }
   },
   "source": [
    "Next, I'm I'm going to change the generated conf.py file so that it will use our dynamic .project_metadata.json\n",
    "\n",
    "This is a convenient thing to do, because it allows us to keep metadata in one place so that our docs pages and setup.py always agree:\n",
    "\n",
    "While I'm at it, I'm going to remove the options for LaTeX, man pages, and Texinfo output since we won't be using those:"
   ]
  },
  {
   "cell_type": "code",
   "execution_count": null,
   "metadata": {
    "collapsed": false,
    "slideshow": {
     "slide_type": "slide"
    }
   },
   "outputs": [],
   "source": [
    "! cp $stuff_dir/conf.py $docs_dir\n",
    "! cat $docs_dir/conf.py"
   ]
  },
  {
   "cell_type": "markdown",
   "metadata": {
    "slideshow": {
     "slide_type": "slide"
    }
   },
   "source": [
    "### Generating api documentation with sphinx-apidoc\n",
    "Next, we're going to generate the api documentation using the sphinx-apidoc tool"
   ]
  },
  {
   "cell_type": "code",
   "execution_count": null,
   "metadata": {
    "collapsed": false,
    "scrolled": true,
    "slideshow": {
     "slide_type": "slide"
    }
   },
   "outputs": [],
   "source": [
    "! sphinx-apidoc --help"
   ]
  },
  {
   "cell_type": "code",
   "execution_count": null,
   "metadata": {
    "collapsed": false,
    "slideshow": {
     "slide_type": "slide"
    }
   },
   "outputs": [],
   "source": [
    "# I like to restrict the TOC depth to 2. For this talk, that won't matter\n",
    "# --force because, why not?\n",
    "# for large projects with lots of modules and docs, use separate. For this, no\n",
    "# generally, you shouldn't use the --private flags...I mean, 'private' methods are private for a reason, right?\n",
    "# I don't really understand **why** you wouldn't want your module documentation before it's submodules...\n",
    "! sphinx-apidoc    \\\n",
    "--output-dir=docs  \\\n",
    "--maxdepth=2       \\\n",
    "--force            \\\n",
    "--module-first     \\\n",
    "--suffix=.rst      \\\n",
    "hippy_chat"
   ]
  },
  {
   "cell_type": "markdown",
   "metadata": {
    "slideshow": {
     "slide_type": "slide"
    }
   },
   "source": [
    "### Tweaking and viewing the api docs\n",
    "_I always delete modules.rst. Can't see where it's really every needed or even used_.\n",
    "\n",
    "The generated module pages are not interesting and don't really need to be modified:"
   ]
  },
  {
   "cell_type": "code",
   "execution_count": null,
   "metadata": {
    "collapsed": false,
    "scrolled": true,
    "slideshow": {
     "slide_type": "slide"
    }
   },
   "outputs": [],
   "source": [
    "! rm $docs_dir/modules.rst\n",
    "! cat $docs_dir/hippy_chat.rst\n",
    "! cat $docs_dir/hippy_chat.exec.rst"
   ]
  },
  {
   "cell_type": "markdown",
   "metadata": {
    "slideshow": {
     "slide_type": "slide"
    }
   },
   "source": [
    "### Adding an overview\n",
    "I like to write an overview as a separate document. It should include mostly the same data as the README, but embedded in the docs pages instead. It should be simple, and just go over the functionality that your package provides\n",
    "\n",
    "**Note**: Do not try to `include` or link to README from your doc pages. It doesn't work well, and includes are not supported universally\n"
   ]
  },
  {
   "cell_type": "code",
   "execution_count": null,
   "metadata": {
    "collapsed": false,
    "scrolled": true,
    "slideshow": {
     "slide_type": "slide"
    }
   },
   "outputs": [],
   "source": [
    "! rm $docs_dir/modules.rst\n",
    "! cat $docs_dir/hippy_chat.rst\n",
    "! cat $docs_dir/hippy_chat.exec.rst"
   ]
  },
  {
   "cell_type": "code",
   "execution_count": null,
   "metadata": {
    "collapsed": false,
    "scrolled": true,
    "slideshow": {
     "slide_type": "slide"
    }
   },
   "outputs": [],
   "source": [
    "! cp $stuff_dir/overview.rst $docs_dir/\n",
    "! cat $docs_dir/overview.rst"
   ]
  },
  {
   "cell_type": "markdown",
   "metadata": {
    "slideshow": {
     "slide_type": "slide"
    }
   },
   "source": [
    "### Adding a quickstart\n",
    "It's also nice to have a Quickstart document to help your users get going with your package quickly:"
   ]
  },
  {
   "cell_type": "code",
   "execution_count": null,
   "metadata": {
    "collapsed": false,
    "scrolled": true,
    "slideshow": {
     "slide_type": "slide"
    }
   },
   "outputs": [],
   "source": [
    "! cp $stuff_dir/quickstart.rst $docs_dir/\n",
    "! cat $docs_dir/quickstart.rst"
   ]
  },
  {
   "cell_type": "markdown",
   "metadata": {
    "slideshow": {
     "slide_type": "slide"
    }
   },
   "source": [
    "### Customizing (rebuilding) the index page\n",
    "Finally, you will want to basically rebuild your index page. I like to set it up like this:"
   ]
  },
  {
   "cell_type": "code",
   "execution_count": null,
   "metadata": {
    "collapsed": false,
    "scrolled": true,
    "slideshow": {
     "slide_type": "slide"
    }
   },
   "outputs": [],
   "source": [
    "! cp $stuff_dir/index.rst docs/\n",
    "! cat docs/index.rst"
   ]
  },
  {
   "cell_type": "markdown",
   "metadata": {
    "slideshow": {
     "slide_type": "slide"
    }
   },
   "source": [
    "### Viewing rendered docs pages\n",
    "Now that the docs are all built, wanna see what your rendered docs will look? I have an app for that.\n",
    "\n",
    "I used to use the [restview](https://pypi.python.org/pypi/restview) app to view ReStructuredText files as I edited them. It's an awesome app, but it doesn't use sphinx to render. And I wanted to see sphinx doucments.\n",
    "\n",
    "So, for fun, I built an app that can do it. There's some fun backstory there, but the long and the short of it is that [sphninx-view](http://sphinx-view.readthedocs.io/en/latest/) works pretty well for this:"
   ]
  },
  {
   "cell_type": "code",
   "execution_count": null,
   "metadata": {
    "collapsed": false,
    "scrolled": true,
    "slideshow": {
     "slide_type": "slide"
    }
   },
   "outputs": [],
   "source": [
    "! pip install sphinx-view"
   ]
  },
  {
   "cell_type": "code",
   "execution_count": null,
   "metadata": {
    "collapsed": false,
    "scrolled": true,
    "slideshow": {
     "slide_type": "slide"
    }
   },
   "outputs": [],
   "source": [
    "# ! sphinx-view $docs_dir"
   ]
  },
  {
   "cell_type": "markdown",
   "metadata": {
    "slideshow": {
     "slide_type": "slide"
    }
   },
   "source": [
    "## Gitting the code up to github\n",
    "I'm going to assume that folks listening to this talk are familiar with git and github. If you need to learn about these tools, you can [get started here](https://help.github.com/articles/git-and-github-learning-resources/). I'm going to skip these details in the interst of time.\n",
    "\n",
    "You should have a github account set up with an ssh key added already.\n",
    "\n",
    "The first thing you will need to do is [create a new repository](https://github.com/new) on github for your project"
   ]
  },
  {
   "cell_type": "markdown",
   "metadata": {
    "slideshow": {
     "slide_type": "slide"
    }
   },
   "source": [
    "### Things todo after creating the repo\n",
    "Once that is done, we will need to:\n",
    "* initialize our directory as a git repo\n",
    "* add the *right* files to the repo\n",
    "* make our first commit\n",
    "* add the github repo as a remote\n",
    "* push our first commit up to github"
   ]
  },
  {
   "cell_type": "code",
   "execution_count": null,
   "metadata": {
    "collapsed": false,
    "scrolled": true,
    "slideshow": {
     "slide_type": "slide"
    }
   },
   "outputs": [],
   "source": [
    "! git init\n",
    "! git add              \\\n",
    "CHANGELOG.rst          \\\n",
    "MANIFEST.in            \\\n",
    "README.rst             \\\n",
    "setup.py               \\\n",
    ".project_metadata.json \\\n",
    ".hipchat.json          \\\n",
    "docs/conf.py           \\\n",
    "docs/*.rst             \\\n",
    "hippy_chat/*.py        \\\n",
    "hippy_chat/exec/*.py   \\\n",
    "tests/*.py\n",
    "! git commit -m \"First commit\"\n",
    "! git remote add origin git@github.com:pip-install-this/hippy-chat.git\n",
    "! git push -u origin master"
   ]
  },
  {
   "cell_type": "markdown",
   "metadata": {
    "slideshow": {
     "slide_type": "slide"
    }
   },
   "source": [
    "### Check out your new github repo\n",
    "Now we can see the hosted git repo at https://github.com/pip-install-this/hippy-chat"
   ]
  },
  {
   "cell_type": "markdown",
   "metadata": {
    "slideshow": {
     "slide_type": "slide"
    }
   },
   "source": [
    "## Documentation Hosting\n",
    "There are a few different documentation hosting services out there. I have found [readthedocs.org](https://readthedocs.org/) to be my preference. It offers free hosting, natively supports ReStructuredText, has automatic build support, and renders my documents nicely.\n",
    "\n",
    "This talk assumes that the user already has a readthedocs account set up"
   ]
  },
  {
   "cell_type": "markdown",
   "metadata": {
    "slideshow": {
     "slide_type": "slide"
    }
   },
   "source": [
    "### Getting the docs up to readthedocs.org\n",
    "* Navigate to [readthedocs.org](https://readthedocs.org/)\n",
    "* Connect your readthedocs account to your github account\n",
    "* Click the admin button and fill it out.\n",
    "* Click the down-arrow by your user name in the upper-right and select ['My Projects'](https://readthedocs.org/dashboard/)\n",
    "* Click the ['import a project'](https://readthedocs.org/dashboard/import/?) button\n",
    "* If the project doesn't show up, click the 'refresh' button. It should now appear there\n",
    "* Click the '+' button by your github project's name.\n",
    "* Select 'Python' in the 'programming languages' box, and make sure 'Sphinx html' is selected in the 'Documentation type' box\n",
    "* Click 'Finish'\n",
    "* Once the build is done, click 'View your Documentation' button."
   ]
  },
  {
   "cell_type": "markdown",
   "metadata": {
    "slideshow": {
     "slide_type": "slide"
    }
   },
   "source": [
    "### Viewing the docs pages in their new home\n",
    "That's it. Now, your documentation is built at http://hippy-chat.readthedocs.io. There are other settings that you can change like which branch the documentation is built from, what version of python interpreter should be used, the default version to show, and others. For now, we will just leave them as they are. Note that the documentation should rebuild _automatically_ any time a new commit is pushed to the branch your documentation is built from"
   ]
  },
  {
   "cell_type": "markdown",
   "metadata": {
    "slideshow": {
     "slide_type": "slide"
    }
   },
   "source": [
    "## Continuous Integration\n",
    "Again, there are lots and lots of different continuous integration tools. I like [travis-ci](https://travis-ci.org/) because it's been around a long time, it's really stable, well known (read, well documented), and offers a lot of free integration with github.\n",
    "\n",
    "This talk assumes that a user account on travis-ci.org is already set up."
   ]
  },
  {
   "cell_type": "markdown",
   "metadata": {
    "slideshow": {
     "slide_type": "slide"
    }
   },
   "source": [
    "### Getting CI going with travis-ci\n",
    "* Navigate to [travis-ci.org](https://travis-ci.org)\n",
    "* Click the '+' button next to 'My Repositories' on the far left\n",
    "* If your repo doesn't show up, click the 'sync-account' button\n",
    "* There should be a slider switch next to the repo name. Activate this, then click on the repo name\n",
    "* You'll see a notice that there are 'No builds for this repository'.\n",
    "* If you click the 'read the docs' button it will tell you that you nee to setup a .travis.yml file.\n",
    "* I have one prepared ahead of time\n",
    "* After it is added, it will need to be committed and pushed to the repo\n"
   ]
  },
  {
   "cell_type": "code",
   "execution_count": null,
   "metadata": {
    "collapsed": false,
    "slideshow": {
     "slide_type": "slide"
    }
   },
   "outputs": [],
   "source": [
    "! cp $stuff_dir/.travis.yml $root_dir/\n",
    "! cat $root_dir/.travis.yml"
   ]
  },
  {
   "cell_type": "code",
   "execution_count": null,
   "metadata": {
    "collapsed": false,
    "slideshow": {
     "slide_type": "slide"
    }
   },
   "outputs": [],
   "source": [
    "! git add .travis.yml\n",
    "! git commit -m \"Added travis-ci config\"\n",
    "! git push"
   ]
  },
  {
   "cell_type": "markdown",
   "metadata": {
    "slideshow": {
     "slide_type": "slide"
    }
   },
   "source": [
    "### Seeing the results on travis-ci.org\n",
    "That's it! Now, you should [see that travis-ci has already started a build](https://travis-ci.org/pip-install-this/hippy-chat) for your master branch."
   ]
  },
  {
   "cell_type": "markdown",
   "metadata": {
    "slideshow": {
     "slide_type": "slide"
    }
   },
   "source": [
    "### Checking commits on github with travis-ci\n",
    "One of the nice ways that github.com and travis-ci.org integrate is by checking pull-requests for a successful build prior to merging. By enabling this feature, you can ensure that any pull-request passes the basic style checking and test suite as a first step to ensuring that the code is right\n",
    "* Navigate to the [github page](https://github.com/pip-install-this/hippy-chat)\n",
    "* Click the [settings tab](https://github.com/pip-install-this/hippy-chat/settings)\n",
    "* Go to [Branches](https://github.com/pip-install-this/hippy-chat/settings/branches)\n",
    "* In the 'Protected Branches' section, click 'choose a branch' and select ['master'](https://github.com/pip-install-this/hippy-chat/settings/branches/master)\n",
    "* Enable 'protect this branch'\n",
    "* Enable 'Require pull request reviews before merging' and 'Require status checks to pass before merging'\n",
    "* Don't include administrators\n",
    "* Click on the 'continuous-integration/travis-ci' to enable the travis check before merging\n",
    "\n",
    "\n"
   ]
  },
  {
   "cell_type": "markdown",
   "metadata": {
    "slideshow": {
     "slide_type": "slide"
    }
   },
   "source": [
    "### Making a commit on a branch to try out commit checks\n",
    "Before we can see travis-ci and github in action, we'll need a new commit on a new branch:"
   ]
  },
  {
   "cell_type": "code",
   "execution_count": null,
   "metadata": {
    "collapsed": false,
    "slideshow": {
     "slide_type": "slide"
    }
   },
   "outputs": [],
   "source": [
    "! git checkout -b pip-install-this/changelog-updates\n",
    "! echo \" - Added project documentation pages\" >> $root_dir/CHANGELOG.rst\n",
    "! echo \" - Set up travis-ci integration\" >> $root_dir/CHANGELOG.rst\n",
    "! git add $root_dir/CHANGELOG.rst\n",
    "! git commit -m \"Added a couple of entries to the CHANGELOG\"\n",
    "! git push --set-upstream origin pip-install-this/changelog-updates"
   ]
  },
  {
   "cell_type": "markdown",
   "metadata": {
    "slideshow": {
     "slide_type": "slide"
    }
   },
   "source": [
    "### Observing commit checks in the wild\n",
    "Now, [create a new pull request for the latest commit](https://github.com/pip-install-this/hippy-chat/compare)\n",
    "* select the branch to 'compare'\n",
    "* click 'create pull-request'\n",
    "* click 'create pull-request' again...\n",
    "\n",
    "If you wait a while, the checks will either pass or fail. If the checks pass, the branch can be merged.\n",
    "\n",
    "You can watch the status of your checks at [travis-ci.org](https://travis-ci.org/pip-install-this/hippy-chat/builds)"
   ]
  },
  {
   "cell_type": "markdown",
   "metadata": {
    "slideshow": {
     "slide_type": "slide"
    }
   },
   "source": [
    "## Publishing to PyPI\n",
    "Once you have a reasonably stable package with good documentation and testing, you are probably ready to publish your package on [PyPI](https://pypi.python.org/pypi)\n",
    "\n",
    "Again, this talk is assuming that a user account has already been created on PyPI\n",
    "\n",
    "It is good wisdom to publish your package to the [PyPI Testing Site](https://testpypi.python.org/pypi) before you actually submit it to the main registry. We're not going to do that in this talk for the sake of time, but you should in real life. This will allow you to resolve problems without worrying about anyone having already installed your package"
   ]
  },
  {
   "cell_type": "markdown",
   "metadata": {
    "slideshow": {
     "slide_type": "slide"
    }
   },
   "source": [
    "### Setting up a .pypirc file\n",
    "This file contains your credentials for PyPI. It is used when you need to publish 'the old fashioned way'. It will be useful in the initial publication to PyPI"
   ]
  },
  {
   "cell_type": "code",
   "execution_count": null,
   "metadata": {
    "collapsed": false,
    "slideshow": {
     "slide_type": "slide"
    }
   },
   "outputs": [],
   "source": [
    "! cp $stuff_dir/.pypirc ~/\n",
    "! cat ~/.pypirc\n",
    "! echo \"password: $(cat ~/.pip-install-this.pw)\" >> ~/.pypirc"
   ]
  },
  {
   "cell_type": "markdown",
   "metadata": {
    "slideshow": {
     "slide_type": "slide"
    }
   },
   "source": [
    "### Your first build\n",
    "We're going to build a [wheel](http://pythonwheels.com/) and source distribution of our package for the first time. Don't worry, we won't be doing this maybe ever again, because we're going to let automated tools help us. However, for this first time, we have to do it by hand\n",
    "\n",
    "There is no option (_that I know of_) to build using pip, so we are going to use the ol' setuptools approach:"
   ]
  },
  {
   "cell_type": "code",
   "execution_count": null,
   "metadata": {
    "collapsed": false,
    "scrolled": true,
    "slideshow": {
     "slide_type": "slide"
    }
   },
   "outputs": [],
   "source": [
    "! python setup.py sdist bdist_wheel"
   ]
  },
  {
   "cell_type": "markdown",
   "metadata": {
    "slideshow": {
     "slide_type": "slide"
    }
   },
   "source": [
    "### Uploading builds to PyPI\n",
    "Next, we will need to upload our package to PyPI. Again, we can use distutils/setuptools to do this:"
   ]
  },
  {
   "cell_type": "code",
   "execution_count": null,
   "metadata": {
    "collapsed": false,
    "slideshow": {
     "slide_type": "slide"
    }
   },
   "outputs": [],
   "source": [
    "! python setup.py sdist bdist_wheel upload"
   ]
  },
  {
   "cell_type": "markdown",
   "metadata": {
    "slideshow": {
     "slide_type": "slide"
    }
   },
   "source": [
    "### Taking a peek at your published package on PyPI\n",
    "If you navigate back to [PyPI](https://pypi.python.org/pypi) now, you should be able to see a link to your package on the right. You can even try to pip install your package as well"
   ]
  },
  {
   "cell_type": "markdown",
   "metadata": {
    "slideshow": {
     "slide_type": "slide"
    }
   },
   "source": [
    "## Automatic publishing of new versions\n",
    "The travis-ci service offers an option to automatically publish new tagged versions of your repo to PyPI. This is incredibly handy because it means you can update your package's version just by pushing a new tag.  You can [read more about this on the travis-ci doc pages](https://docs.travis-ci.com/user/deployment/pypi/)\n",
    "\n"
   ]
  },
  {
   "cell_type": "markdown",
   "metadata": {
    "slideshow": {
     "slide_type": "slide"
    }
   },
   "source": [
    "### Setting up travis for automatically publishing\n",
    "You will need to configure your `.travis.yml` file to enable automatic publishing. You can do this by hand, but there is a command-line tool that can do it for you.\n",
    "\n",
    "It's a ruby app that's installable as a gem (`gem install travis`). I already have that set up, so you'll just have to take my word for it.\n",
    "\n",
    "The command-line tool, and I've had no success running it in non-interactive mode. So, we go to a terminal here and type:\n",
    "\n",
    "`$ travis setup pypi`"
   ]
  },
  {
   "cell_type": "markdown",
   "metadata": {
    "slideshow": {
     "slide_type": "slide"
    }
   },
   "source": [
    "### Setting up travis for automatically publishing continued\n",
    "Once we have updated the .travis.yml file with deployment settings, all we need to do is push the commit to github"
   ]
  },
  {
   "cell_type": "code",
   "execution_count": null,
   "metadata": {
    "collapsed": false
   },
   "outputs": [],
   "source": [
    "! git checkout master\n",
    "! git add .travis.yml\n",
    "! git commit -m \"Updated the .travis.yml file with deployment settings\"\n",
    "! git push"
   ]
  },
  {
   "cell_type": "markdown",
   "metadata": {},
   "source": [
    "## Deploying a new version automagically\n",
    "In order to deploy a new version, we will need to create a new tag in our git repo. This tag should include an updated version from our `.project_metadata.json` file, and the tag needs to be pushed out to our github repo"
   ]
  },
  {
   "cell_type": "code",
   "execution_count": null,
   "metadata": {
    "collapsed": false
   },
   "outputs": [],
   "source": [
    "! cp $stuff_dir/.project_metadata.json.bumped $root_dir/.project_metadata.json\n",
    "! cat $root_dir/.project_metadata.json\n",
    "! git add $root_dir/.project_metadata.json\n",
    "! git tag -a v0.2.0 -m \"hippy-chat version 0.2.0\"\n",
    "! git push --tags"
   ]
  },
  {
   "cell_type": "markdown",
   "metadata": {},
   "source": [
    "## Observing the new deploy\n",
    "We should be able to see the tag now on [github.com](https://github.com/pip-install-this/hippy-chat/) under 'tags'\n",
    "\n",
    "We can follow the build of our new tagged version on [travis-ci.org](https://travis-ci.org/pip-install-this/hippy-chat)\n",
    "\n",
    "Once it is finished, we can see the results on [PyPI](https://pypi.python.org/pypi?%3Aaction=pkg_edit&name=hippy-chat)"
   ]
  },
  {
   "cell_type": "markdown",
   "metadata": {},
   "source": [
    "## Wrapping Up\n",
    "Well, that's about it for this talk. There's a lot here, and hopefully, we're reviewing this slide around the 60 minute mark, and really hopefully we actually made it here."
   ]
  },
  {
   "cell_type": "markdown",
   "metadata": {
    "slideshow": {
     "slide_type": "slide"
    }
   },
   "source": [
    "### Stuff I'd love to talk about, but ran out of time\n",
    "* pip vs easy_install\n",
    "* conda. Supposed to be really good...haven't tried it yet\n",
    "* Where's my requirements.txt file?"
   ]
  },
  {
   "cell_type": "markdown",
   "metadata": {},
   "source": [
    "### Discussion\n",
    "* Questions?\n",
    "* Where did I screw up?\n",
    "* What alternative tools do you like and why?\n",
    "* What else should be included here?"
   ]
  },
  {
   "cell_type": "markdown",
   "metadata": {},
   "source": [
    "## Thank you!"
   ]
  }
 ],
 "metadata": {
  "celltoolbar": "Slideshow",
  "kernelspec": {
   "display_name": "Python 3",
   "language": "python",
   "name": "python3"
  },
  "language_info": {
   "codemirror_mode": {
    "name": "ipython",
    "version": 3
   },
   "file_extension": ".py",
   "mimetype": "text/x-python",
   "name": "python",
   "nbconvert_exporter": "python",
   "pygments_lexer": "ipython3",
   "version": "3.5.1"
  }
 },
 "nbformat": 4,
 "nbformat_minor": 2
}
